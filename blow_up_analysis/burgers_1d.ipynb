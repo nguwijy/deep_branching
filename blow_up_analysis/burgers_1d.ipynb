{
 "cells": [
  {
   "cell_type": "markdown",
   "metadata": {
    "id": "GSuvC0ycqjNq",
    "pycharm": {
     "name": "#%% md\n"
    }
   },
   "source": [
    "# Imports & basic configuration"
   ]
  },
  {
   "cell_type": "code",
   "execution_count": 1,
   "metadata": {
    "colab": {
     "base_uri": "https://localhost:8080/"
    },
    "executionInfo": {
     "elapsed": 2706,
     "status": "ok",
     "timestamp": 1647940111437,
     "user": {
      "displayName": "nguwi jy",
      "photoUrl": "https://lh3.googleusercontent.com/a-/AOh14GgoiFFc59OKXMvhrMZCwWWzqPAzDXA1ooQ_zi8p=s64",
      "userId": "17294038731682000497"
     },
     "user_tz": -480
    },
    "id": "6357edd9",
    "outputId": "f45d2e8e-9123-4654-b639-cb824fdfdbdc",
    "pycharm": {
     "name": "#%%\n"
    }
   },
   "outputs": [],
   "source": [
    "import os\n",
    "import sys\n",
    "# install the package if not yet installed\n",
    "try:\n",
    "    from branch.branch import Net\n",
    "except:\n",
    "    !python -m pip install git+https://github.com/nguwijy/deep_branching_with_domain.git\n",
    "    from branch.branch import Net\n",
    "import math\n",
    "from scipy import special\n",
    "import numpy as np\n",
    "import torch\n",
    "import matplotlib.pyplot as plt\n",
    "import time\n",
    "import logging\n",
    "from pynverse import inversefunc\n",
    "from branch.galerkin import DGMNet\n",
    "from branch.bsde import BSDENet\n",
    "\n",
    "device = torch.device(\"cuda\" if torch.cuda.is_available() else \"cpu\")"
   ]
  },
  {
   "cell_type": "code",
   "execution_count": 2,
   "metadata": {
    "colab": {
     "base_uri": "https://localhost:8080/"
    },
    "executionInfo": {
     "elapsed": 362,
     "status": "ok",
     "timestamp": 1647940117264,
     "user": {
      "displayName": "nguwi jy",
      "photoUrl": "https://lh3.googleusercontent.com/a-/AOh14GgoiFFc59OKXMvhrMZCwWWzqPAzDXA1ooQ_zi8p=s64",
      "userId": "17294038731682000497"
     },
     "user_tz": -480
    },
    "id": "GKSN0XXSwzs_",
    "outputId": "479076d5-d9fa-418a-99aa-b38c14893038",
    "pycharm": {
     "name": "#%%\n"
    }
   },
   "outputs": [
    {
     "name": "stdout",
     "output_type": "stream",
     "text": [
      "torch version: 1.13.1+cu117\n"
     ]
    }
   ],
   "source": [
    "# perfect reproducibility is not guaranteed with different version of torch\n",
    "#\n",
    "print(f\"torch version: {torch.__version__}\")"
   ]
  },
  {
   "cell_type": "code",
   "execution_count": 3,
   "metadata": {
    "colab": {
     "base_uri": "https://localhost:8080/"
    },
    "executionInfo": {
     "elapsed": 29,
     "status": "ok",
     "timestamp": 1647940111438,
     "user": {
      "displayName": "nguwi jy",
      "photoUrl": "https://lh3.googleusercontent.com/a-/AOh14GgoiFFc59OKXMvhrMZCwWWzqPAzDXA1ooQ_zi8p=s64",
      "userId": "17294038731682000497"
     },
     "user_tz": -480
    },
    "id": "W8KR70pwVNfJ",
    "outputId": "0971b8c8-a20c-424a-d81f-1b53d6b34b84",
    "pycharm": {
     "name": "#%%\n"
    }
   },
   "outputs": [
    {
     "name": "stdout",
     "output_type": "stream",
     "text": [
      "Information of the allocated GPU.\n",
      "Sun Apr 23 15:21:09 2023       \r\n",
      "+-----------------------------------------------------------------------------+\r\n",
      "| NVIDIA-SMI 525.60.13    Driver Version: 525.60.13    CUDA Version: 12.0     |\r\n",
      "|-------------------------------+----------------------+----------------------+\r\n",
      "| GPU  Name        Persistence-M| Bus-Id        Disp.A | Volatile Uncorr. ECC |\r\n",
      "| Fan  Temp  Perf  Pwr:Usage/Cap|         Memory-Usage | GPU-Util  Compute M. |\r\n",
      "|                               |                      |               MIG M. |\r\n",
      "|===============================+======================+======================|\r\n",
      "|   0  NVIDIA RTX A4000    On   | 00000000:21:00.0  On |                  Off |\r\n",
      "| 41%   39C    P8    20W / 140W |   2777MiB / 16376MiB |      3%      Default |\r\n",
      "|                               |                      |                  N/A |\r\n",
      "+-------------------------------+----------------------+----------------------+\r\n",
      "                                                                               \r\n",
      "+-----------------------------------------------------------------------------+\r\n",
      "| Processes:                                                                  |\r\n",
      "|  GPU   GI   CI        PID   Type   Process name                  GPU Memory |\r\n",
      "|        ID   ID                                                   Usage      |\r\n",
      "|=============================================================================|\r\n",
      "|    0   N/A  N/A    433490      G   /usr/lib/xorg/Xorg                483MiB |\r\n",
      "|    0   N/A  N/A    434888      G   /usr/bin/gnome-shell               60MiB |\r\n",
      "|    0   N/A  N/A    435729      G   ...AAAAAAAAA= --shared-files       82MiB |\r\n",
      "|    0   N/A  N/A    436198      G   ...RendererForSitePerProcess       80MiB |\r\n",
      "|    0   N/A  N/A    437472      G   ...302858270921792338,131072       83MiB |\r\n",
      "|    0   N/A  N/A    438764      G   ...471691847509152066,131072       67MiB |\r\n",
      "|    0   N/A  N/A    439646      G   ...b/thunderbird/thunderbird      256MiB |\r\n",
      "|    0   N/A  N/A    466473      G   ...9/usr/lib/firefox/firefox       50MiB |\r\n",
      "|    0   N/A  N/A    667149      C   /usr/bin/python3                 1568MiB |\r\n",
      "+-----------------------------------------------------------------------------+\r\n"
     ]
    }
   ],
   "source": [
    "print(\"Information of the allocated GPU.\")\n",
    "!nvidia-smi"
   ]
  },
  {
   "cell_type": "code",
   "execution_count": 4,
   "metadata": {
    "id": "sdQhnjL3U5SJ",
    "pycharm": {
     "name": "#%%\n"
    }
   },
   "outputs": [],
   "source": [
    "# performance evaluation for PDE\n",
    "def compare_performance(\n",
    "    grid_1d,\n",
    "    grid_nd,\n",
    "    grid_with_t,\n",
    "    t_lo,\n",
    "    true,\n",
    "    terminal,\n",
    "    fname=None,\n",
    "    debug_mode=False,\n",
    "    disable_galerkin=False,\n",
    "    disable_bsde=False,\n",
    "    disable_branch=False,\n",
    "    seeds=list(range(10)),\n",
    "    disable_relative=False,\n",
    "    **kwargs,\n",
    "):\n",
    "    if not os.path.isdir('logs/deep_branching/data/'):\n",
    "        os.makedirs('logs/deep_branching/data/')\n",
    "    if not os.path.isdir('logs/deep_branching/plot/'):\n",
    "        os.makedirs('logs/deep_branching/plot/')\n",
    "    x_lo, x_hi = grid_nd.min(), grid_nd.max()\n",
    "    grid_nd = grid_nd.astype(np.float32)\n",
    "    grid_with_t = grid_with_t.astype(np.float32)\n",
    "    \n",
    "    problem_name = fname\n",
    "    fname = f\"{fname}_dim_{grid_nd.shape[0]}\" if fname is not None else None\n",
    "    counter = 1\n",
    "\n",
    "    branch_runtime, branch_l1_error, branch_l2_error, branch_rel_error, branch = (\n",
    "        [],\n",
    "        [],\n",
    "        [],\n",
    "        [],\n",
    "        0,\n",
    "    )\n",
    "    branch_fdb_runtime, branch_total_runtime = [], []\n",
    "    dgm_runtime, dgm_l1_error, dgm_l2_error, dgm_rel_error, dgm = [], [], [], [], 0\n",
    "    bsde_runtime, bsde_l1_error, bsde_l2_error, bsde_rel_error, bsde = [], [], [], [], 0\n",
    "    for seed in seeds:\n",
    "        ######### Deep branching method\n",
    "        if not disable_branch:\n",
    "            torch.manual_seed(seed)\n",
    "            print(\n",
    "                f\"#### Starting deep branching method with seed {seed} - {counter} out of {len(seeds)} times\"\n",
    "            )\n",
    "            start = time.time()\n",
    "            model = Net(t_lo=t_lo, t_hi=t_lo, x_lo=x_lo, x_hi=x_hi, problem_name=problem_name, **kwargs)\n",
    "            model.train_and_eval(debug_mode)\n",
    "            branch_total_runtime.append(time.time() - start)\n",
    "            branch_fdb_runtime.append(model.fdb_runtime)\n",
    "            branch_runtime.append(branch_total_runtime[-1] - branch_fdb_runtime[-1])\n",
    "            # note that branch output batch_size x 1 instead of batch_size like other algo\n",
    "            tmp = (\n",
    "                model(torch.tensor(grid_with_t.T, device=device), patch=model.patches - 1)[:, 0].detach().cpu().numpy()\n",
    "            )\n",
    "            branch += tmp\n",
    "            branch_l1_error.append((np.abs(tmp - true)).mean())\n",
    "            branch_l2_error.append(((tmp - true) ** 2).mean())\n",
    "            if not disable_relative:\n",
    "                branch_rel_error.append((np.abs(tmp - true) / np.abs(true)).mean())\n",
    "            else:\n",
    "                branch_rel_error.append(0)\n",
    "            print(\n",
    "                f\"Time taken: {branch_runtime[-1]:.0f} seconds; L1 error: {branch_l1_error[-1]:.2E}; L2 error: {branch_l2_error[-1]:.2E}; rel error: {branch_rel_error[-1]:.2E}.\"\n",
    "            )\n",
    "            print(\n",
    "                f\"fdb runtime: {branch_fdb_runtime[-1]:.0f} seconds; total runtime: {branch_total_runtime[-1]:.0f} seconds.\"\n",
    "            )\n",
    "\n",
    "        ######### Deep galerkin method\n",
    "        if not disable_galerkin:\n",
    "            torch.manual_seed(seed)\n",
    "            print(\n",
    "                f\"#### Starting deep galerkin method with seed {seed} - {counter} out of {len(seeds)} times\"\n",
    "            )\n",
    "            start = time.time()\n",
    "            model = DGMNet(t_lo=t_lo, t_hi=kwargs[\"T\"], x_lo=x_lo, x_hi=x_hi, **kwargs)\n",
    "            model.train_and_eval(debug_mode)\n",
    "            dgm_runtime.append(time.time() - start)\n",
    "            tmp = (\n",
    "                model(torch.tensor(grid_with_t.T, device=device)).detach().cpu().numpy()\n",
    "            )\n",
    "            dgm += tmp\n",
    "            dgm_l1_error.append((np.abs(tmp - true)).mean())\n",
    "            dgm_l2_error.append(((tmp - true) ** 2).mean())\n",
    "            if not disable_relative:\n",
    "                dgm_rel_error.append((np.abs(tmp - true) / np.abs(true)).mean())\n",
    "            else:\n",
    "                dgm_rel_error.append(0)\n",
    "            print(\n",
    "                f\"Time taken: {dgm_runtime[-1]:.0f} seconds; L1 error: {dgm_l1_error[-1]:.2E}; L2 error: {dgm_l2_error[-1]:.2E}; rel error: {dgm_rel_error[-1]:.2E}.\"\n",
    "            )\n",
    "\n",
    "        ######### Deep BSDE method\n",
    "        if not disable_bsde:\n",
    "            torch.manual_seed(seed)\n",
    "            print(\n",
    "                f\"#### Starting deep BSDE method with seed {seed} - {counter} out of {len(seeds)} times\"\n",
    "            )\n",
    "            start = time.time()\n",
    "            model = BSDENet(t_lo=t_lo, t_hi=kwargs[\"T\"], x_lo=x_lo, x_hi=x_hi, **kwargs)\n",
    "            model.train_and_eval(debug_mode)\n",
    "            bsde_runtime.append(time.time() - start)\n",
    "            tmp = (\n",
    "                model(torch.tensor(grid_nd.T, device=device))\n",
    "                .squeeze(-1)\n",
    "                .detach()\n",
    "                .cpu()\n",
    "                .numpy()\n",
    "            )\n",
    "            bsde += tmp\n",
    "            bsde_l1_error.append((np.abs(tmp - true)).mean())\n",
    "            bsde_l2_error.append(((tmp - true) ** 2).mean())\n",
    "            if not disable_relative:\n",
    "                bsde_rel_error.append((np.abs(tmp - true) / np.abs(true)).mean())\n",
    "            else:\n",
    "                bsde_rel_error.append(0)\n",
    "            print(\n",
    "                f\"Time taken: {bsde_runtime[-1]:.0f} seconds; L1 error: {bsde_l1_error[-1]:.2E}; L2 error: {bsde_l2_error[-1]:.2E}; rel error: {bsde_rel_error[-1]:.2E}.\"\n",
    "            )\n",
    "\n",
    "        print(\"\\n\")\n",
    "        counter += 1\n",
    "\n",
    "    # Plot\n",
    "    f = plt.figure()\n",
    "    plt.plot(grid_1d, true, label=\"True solution\")\n",
    "    plt.plot(grid_1d, terminal, label=\"Terminal condition\")\n",
    "    # save into csv\n",
    "    if fname is not None:\n",
    "        plt_data = np.stack((grid_1d, true, terminal), axis=-1)\n",
    "        plt_header = \"x, true, terminal\"\n",
    "\n",
    "    if not disable_branch:\n",
    "        branch /= len(seeds)\n",
    "        branch_runtime, branch_l1_error, branch_l2_error, branch_rel_error = (\n",
    "            np.array(branch_runtime),\n",
    "            np.array(branch_l1_error),\n",
    "            np.array(branch_l2_error),\n",
    "            np.array(branch_rel_error),\n",
    "        )\n",
    "        branch_fdb_runtime, branch_total_runtime = np.array(\n",
    "            branch_fdb_runtime\n",
    "        ), np.array(branch_total_runtime)\n",
    "        print(\"\\n\")\n",
    "        print(\"######## Summary for deep branching method\")\n",
    "        print(f\"runtime:        {branch_runtime.mean():.0f}\")\n",
    "        print(f\"fdb runtime:    {branch_fdb_runtime.mean():.0f}\")\n",
    "        print(f\"total runtime:  {branch_total_runtime.mean():.0f}\")\n",
    "        print(f\"mean L1 error:  {branch_l1_error.mean():.2E}\")\n",
    "        print(f\"std L1 error:   {branch_l1_error.std():.2E}\")\n",
    "        print(f\"mean L2 error:  {branch_l2_error.mean():.2E}\")\n",
    "        print(f\"std L2 error:   {branch_l2_error.std():.2E}\")\n",
    "        print(f\"mean rel error: {branch_rel_error.mean():.2E}\")\n",
    "        print(f\"std rel error:  {branch_rel_error.std():.2E}\")\n",
    "        # Plot\n",
    "        plt.plot(grid_1d, branch, label=\"Deep branching\")\n",
    "        # save into csv\n",
    "        if fname is not None:\n",
    "            plt_data = np.concatenate(\n",
    "                (plt_data, np.expand_dims(branch, axis=-1)), axis=-1\n",
    "            )\n",
    "            plt_header += \", branch\"\n",
    "            data = np.stack(\n",
    "                (branch_runtime, branch_l1_error, branch_l2_error, branch_rel_error),\n",
    "                axis=-1,\n",
    "            )\n",
    "            np.savetxt(\n",
    "                \"logs/deep_branching/data/branch_\" + fname + \".csv\",\n",
    "                data,\n",
    "                delimiter=\",\",\n",
    "                header=\"runtime,l1_error,l2_error,rel_error\",\n",
    "                comments=\"\",\n",
    "            )\n",
    "\n",
    "    if not disable_galerkin:\n",
    "        dgm /= len(seeds)\n",
    "        dgm_runtime, dgm_l1_error, dgm_l2_error, dgm_rel_error = (\n",
    "            np.array(dgm_runtime),\n",
    "            np.array(dgm_l1_error),\n",
    "            np.array(dgm_l2_error),\n",
    "            np.array(dgm_rel_error),\n",
    "        )\n",
    "        print(\"\\n\")\n",
    "        print(\"######## Summary for deep galerkin method\")\n",
    "        print(f\"runtime:        {dgm_runtime.mean():.0f}\")\n",
    "        print(f\"mean L1 error:  {dgm_l1_error.mean():.2E}\")\n",
    "        print(f\"std L1 error:   {dgm_l1_error.std():.2E}\")\n",
    "        print(f\"mean L2 error:  {dgm_l2_error.mean():.2E}\")\n",
    "        print(f\"std L2 error:   {dgm_l2_error.std():.2E}\")\n",
    "        print(f\"mean rel error: {dgm_rel_error.mean():.2E}\")\n",
    "        print(f\"std rel error:  {dgm_rel_error.std():.2E}\")\n",
    "        # Plot\n",
    "        plt.plot(grid_1d, dgm, label=\"Deep Galerkin\")\n",
    "        # save into csv\n",
    "        if fname is not None:\n",
    "            plt_data = np.concatenate((plt_data, np.expand_dims(dgm, axis=-1)), axis=-1)\n",
    "            plt_header += \", dgm\"\n",
    "            data = np.stack(\n",
    "                (dgm_runtime, dgm_l1_error, dgm_l2_error, dgm_rel_error), axis=-1\n",
    "            )\n",
    "            np.savetxt(\n",
    "                \"logs/deep_branching/data/dgm_\" + fname + \".csv\",\n",
    "                data,\n",
    "                delimiter=\",\",\n",
    "                header=\"runtime,l1_error,l2_error,rel_error\",\n",
    "                comments=\"\",\n",
    "            )\n",
    "\n",
    "    ######### Deep BSDE method\n",
    "    if not disable_bsde:\n",
    "        bsde /= len(seeds)\n",
    "        bsde_runtime, bsde_l1_error, bsde_l2_error, bsde_rel_error = (\n",
    "            np.array(bsde_runtime),\n",
    "            np.array(bsde_l1_error),\n",
    "            np.array(bsde_l2_error),\n",
    "            np.array(bsde_rel_error),\n",
    "        )\n",
    "        print(\"\\n\")\n",
    "        print(\"######## Summary for deep BSDE method\")\n",
    "        print(f\"runtime:        {bsde_runtime.mean():.0f}\")\n",
    "        print(f\"mean L1 error:  {bsde_l1_error.mean():.2E}\")\n",
    "        print(f\"std L1 error:   {bsde_l1_error.std():.2E}\")\n",
    "        print(f\"mean L2 error:  {bsde_l2_error.mean():.2E}\")\n",
    "        print(f\"std L2 error:   {bsde_l2_error.std():.2E}\")\n",
    "        print(f\"mean rel error: {bsde_rel_error.mean():.2E}\")\n",
    "        print(f\"std rel error:  {bsde_rel_error.std():.2E}\")\n",
    "        # Plot\n",
    "        plt.plot(grid_1d, bsde, label=\"Deep BSDE\")\n",
    "        # save into csv\n",
    "        if fname is not None:\n",
    "            plt_data = np.concatenate(\n",
    "                (plt_data, np.expand_dims(bsde, axis=-1)), axis=-1\n",
    "            )\n",
    "            plt_header += \", bsde\"\n",
    "            data = np.stack(\n",
    "                (bsde_runtime, bsde_l1_error, bsde_l2_error, bsde_rel_error), axis=-1\n",
    "            )\n",
    "            np.savetxt(\n",
    "                \"logs/deep_branching/data/bsde_\" + fname + \".csv\",\n",
    "                data,\n",
    "                delimiter=\",\",\n",
    "                header=\"runtime,l1_error,l2_error,rel_error\",\n",
    "                comments=\"\",\n",
    "            )\n",
    "\n",
    "    plt.legend()\n",
    "    plt.show()\n",
    "    f.savefig(f\"logs/deep_branching/plot/{'comparison' if fname is None else fname}.pdf\")\n",
    "    if fname is not None:\n",
    "        np.savetxt(\n",
    "            \"logs/deep_branching/data/plt_\" + fname + \".csv\", plt_data, delimiter=\",\", header=plt_header, comments=\"\"\n",
    "        )"
   ]
  },
  {
   "cell_type": "code",
   "execution_count": 5,
   "metadata": {},
   "outputs": [],
   "source": [
    "def f_example(y, coordinate=0):\n",
    "    \"\"\"\n",
    "    idx 0 -> no deriv\n",
    "    idx 1 -> first deriv\n",
    "    idx 2 -> second deriv\n",
    "    \"\"\"\n",
    "    return ( y[0] - (2 + dim ) / 2 / dim ) * dim * y[1:(dim+1)].sum(dim=0) \n",
    "    \n",
    "def dgm_f_example(y, coordinate=0):\n",
    "    \"\"\"\n",
    "    idx 0 -> no deriv\n",
    "    idx 1 -> first deriv\n",
    "    idx 2 -> second deriv\n",
    "    \"\"\"\n",
    "    return (( y[0] - (2 + dim ) / 2 / dim ) * dim * y[1:(dim+1)].sum(dim=0) + dim * dim * y[(dim+1):(2*dim+1)].sum(dim=0) / 2 )\n",
    "\n",
    "def phi_example(x, coordinate=0):\n",
    "    return torch.exp( T + x.sum(axis=0) / dim ) / (1 + torch.exp( T + x.sum(axis=0) / dim ) )\n",
    "        \n",
    "def exact_example(t, x, T):\n",
    "    xi = t + x.sum(axis=0) / dim \n",
    "    return 1 / (1 + np.exp( - xi ) )\n",
    "\n",
    "t_lo, x_lo, x_hi = 0., -5., 5.\n",
    "    \n",
    "x_mid = (x_lo + x_hi) / 2\n",
    "grid = np.linspace(x_lo, x_hi, 100)"
   ]
  },
  {
   "cell_type": "code",
   "execution_count": 6,
   "metadata": {},
   "outputs": [
    {
     "name": "stdout",
     "output_type": "stream",
     "text": [
      "#### Starting deep branching method with seed 0 - 1 out of 10 times\n"
     ]
    },
    {
     "name": "stderr",
     "output_type": "stream",
     "text": [
      "Logs are saved in /home/nprivault/NTU/nguwi_jiang_yu/deep_branching/deep_branching_with_domain/notebooks/logs/tmp\n",
      "Logs are saved in /home/nprivault/NTU/nguwi_jiang_yu/deep_branching/deep_branching_with_domain/notebooks/logs/tmp\n"
     ]
    },
    {
     "name": "stdout",
     "output_type": "stream",
     "text": [
      "Time taken: 65 seconds; L1 error: 6.57E-04; L2 error: 6.14E-07; rel error: 8.83E-03.\n",
      "fdb runtime: 0 seconds; total runtime: 65 seconds.\n",
      "#### Starting deep galerkin method with seed 0 - 1 out of 10 times\n",
      "Time taken: 79 seconds; L1 error: 4.68E-04; L2 error: 2.86E-07; rel error: 9.84E-03.\n",
      "#### Starting deep BSDE method with seed 0 - 1 out of 10 times\n"
     ]
    },
    {
     "name": "stderr",
     "output_type": "stream",
     "text": [
      "Logs are saved in /home/nprivault/NTU/nguwi_jiang_yu/deep_branching/deep_branching_with_domain/notebooks/logs/tmp\n"
     ]
    },
    {
     "name": "stdout",
     "output_type": "stream",
     "text": [
      "Time taken: 136 seconds; L1 error: 3.50E-03; L2 error: 1.73E-05; rel error: 2.03E-02.\n",
      "\n",
      "\n",
      "#### Starting deep branching method with seed 1 - 2 out of 10 times\n"
     ]
    },
    {
     "name": "stderr",
     "output_type": "stream",
     "text": [
      "Logs are saved in /home/nprivault/NTU/nguwi_jiang_yu/deep_branching/deep_branching_with_domain/notebooks/logs/tmp\n"
     ]
    },
    {
     "name": "stdout",
     "output_type": "stream",
     "text": [
      "Time taken: 61 seconds; L1 error: 4.65E-04; L2 error: 3.01E-07; rel error: 9.30E-03.\n",
      "fdb runtime: 0 seconds; total runtime: 61 seconds.\n",
      "#### Starting deep galerkin method with seed 1 - 2 out of 10 times\n",
      "Time taken: 86 seconds; L1 error: 4.12E-04; L2 error: 2.39E-07; rel error: 1.23E-02.\n",
      "#### Starting deep BSDE method with seed 1 - 2 out of 10 times\n"
     ]
    },
    {
     "name": "stderr",
     "output_type": "stream",
     "text": [
      "Logs are saved in /home/nprivault/NTU/nguwi_jiang_yu/deep_branching/deep_branching_with_domain/notebooks/logs/tmp\n"
     ]
    },
    {
     "name": "stdout",
     "output_type": "stream",
     "text": [
      "Time taken: 144 seconds; L1 error: 3.97E-03; L2 error: 2.83E-05; rel error: 2.18E-02.\n",
      "\n",
      "\n",
      "#### Starting deep branching method with seed 2 - 3 out of 10 times\n"
     ]
    },
    {
     "name": "stderr",
     "output_type": "stream",
     "text": [
      "Logs are saved in /home/nprivault/NTU/nguwi_jiang_yu/deep_branching/deep_branching_with_domain/notebooks/logs/tmp\n"
     ]
    },
    {
     "name": "stdout",
     "output_type": "stream",
     "text": [
      "Time taken: 65 seconds; L1 error: 7.46E-04; L2 error: 9.37E-07; rel error: 1.25E-02.\n",
      "fdb runtime: 0 seconds; total runtime: 65 seconds.\n",
      "#### Starting deep galerkin method with seed 2 - 3 out of 10 times\n",
      "Time taken: 85 seconds; L1 error: 5.17E-04; L2 error: 4.07E-07; rel error: 8.16E-03.\n",
      "#### Starting deep BSDE method with seed 2 - 3 out of 10 times\n"
     ]
    },
    {
     "name": "stderr",
     "output_type": "stream",
     "text": [
      "Logs are saved in /home/nprivault/NTU/nguwi_jiang_yu/deep_branching/deep_branching_with_domain/notebooks/logs/tmp\n"
     ]
    },
    {
     "name": "stdout",
     "output_type": "stream",
     "text": [
      "Time taken: 145 seconds; L1 error: 2.82E-03; L2 error: 9.54E-06; rel error: 3.96E-02.\n",
      "\n",
      "\n",
      "#### Starting deep branching method with seed 3 - 4 out of 10 times\n"
     ]
    },
    {
     "name": "stderr",
     "output_type": "stream",
     "text": [
      "Logs are saved in /home/nprivault/NTU/nguwi_jiang_yu/deep_branching/deep_branching_with_domain/notebooks/logs/tmp\n"
     ]
    },
    {
     "name": "stdout",
     "output_type": "stream",
     "text": [
      "Time taken: 64 seconds; L1 error: 4.44E-04; L2 error: 2.59E-07; rel error: 7.31E-03.\n",
      "fdb runtime: 0 seconds; total runtime: 64 seconds.\n",
      "#### Starting deep galerkin method with seed 3 - 4 out of 10 times\n",
      "Time taken: 78 seconds; L1 error: 7.11E-04; L2 error: 6.36E-07; rel error: 1.02E-02.\n",
      "#### Starting deep BSDE method with seed 3 - 4 out of 10 times\n"
     ]
    },
    {
     "name": "stderr",
     "output_type": "stream",
     "text": [
      "Logs are saved in /home/nprivault/NTU/nguwi_jiang_yu/deep_branching/deep_branching_with_domain/notebooks/logs/tmp\n"
     ]
    },
    {
     "name": "stdout",
     "output_type": "stream",
     "text": [
      "Time taken: 139 seconds; L1 error: 1.63E-03; L2 error: 3.55E-06; rel error: 4.05E-02.\n",
      "\n",
      "\n",
      "#### Starting deep branching method with seed 4 - 5 out of 10 times\n"
     ]
    },
    {
     "name": "stderr",
     "output_type": "stream",
     "text": [
      "Logs are saved in /home/nprivault/NTU/nguwi_jiang_yu/deep_branching/deep_branching_with_domain/notebooks/logs/tmp\n"
     ]
    },
    {
     "name": "stdout",
     "output_type": "stream",
     "text": [
      "Time taken: 61 seconds; L1 error: 4.95E-04; L2 error: 3.46E-07; rel error: 7.53E-03.\n",
      "fdb runtime: 0 seconds; total runtime: 61 seconds.\n",
      "#### Starting deep galerkin method with seed 4 - 5 out of 10 times\n",
      "Time taken: 79 seconds; L1 error: 4.66E-04; L2 error: 2.81E-07; rel error: 4.95E-03.\n",
      "#### Starting deep BSDE method with seed 4 - 5 out of 10 times\n"
     ]
    },
    {
     "name": "stderr",
     "output_type": "stream",
     "text": [
      "Logs are saved in /home/nprivault/NTU/nguwi_jiang_yu/deep_branching/deep_branching_with_domain/notebooks/logs/tmp\n"
     ]
    },
    {
     "name": "stdout",
     "output_type": "stream",
     "text": [
      "Time taken: 141 seconds; L1 error: 5.38E-03; L2 error: 3.30E-05; rel error: 5.76E-02.\n",
      "\n",
      "\n",
      "#### Starting deep branching method with seed 5 - 6 out of 10 times\n"
     ]
    },
    {
     "name": "stderr",
     "output_type": "stream",
     "text": [
      "Logs are saved in /home/nprivault/NTU/nguwi_jiang_yu/deep_branching/deep_branching_with_domain/notebooks/logs/tmp\n"
     ]
    },
    {
     "name": "stdout",
     "output_type": "stream",
     "text": [
      "Time taken: 61 seconds; L1 error: 3.56E-04; L2 error: 1.68E-07; rel error: 3.97E-03.\n",
      "fdb runtime: 0 seconds; total runtime: 61 seconds.\n",
      "#### Starting deep galerkin method with seed 5 - 6 out of 10 times\n",
      "Time taken: 84 seconds; L1 error: 5.12E-04; L2 error: 3.62E-07; rel error: 5.00E-03.\n",
      "#### Starting deep BSDE method with seed 5 - 6 out of 10 times\n"
     ]
    },
    {
     "name": "stderr",
     "output_type": "stream",
     "text": [
      "Logs are saved in /home/nprivault/NTU/nguwi_jiang_yu/deep_branching/deep_branching_with_domain/notebooks/logs/tmp\n"
     ]
    },
    {
     "name": "stdout",
     "output_type": "stream",
     "text": [
      "Time taken: 145 seconds; L1 error: 1.21E-03; L2 error: 2.21E-06; rel error: 1.03E-02.\n",
      "\n",
      "\n",
      "#### Starting deep branching method with seed 6 - 7 out of 10 times\n"
     ]
    },
    {
     "name": "stderr",
     "output_type": "stream",
     "text": [
      "Logs are saved in /home/nprivault/NTU/nguwi_jiang_yu/deep_branching/deep_branching_with_domain/notebooks/logs/tmp\n"
     ]
    },
    {
     "name": "stdout",
     "output_type": "stream",
     "text": [
      "Time taken: 62 seconds; L1 error: 4.50E-04; L2 error: 2.67E-07; rel error: 7.45E-03.\n",
      "fdb runtime: 0 seconds; total runtime: 62 seconds.\n",
      "#### Starting deep galerkin method with seed 6 - 7 out of 10 times\n",
      "Time taken: 82 seconds; L1 error: 8.16E-04; L2 error: 9.65E-07; rel error: 2.48E-02.\n",
      "#### Starting deep BSDE method with seed 6 - 7 out of 10 times\n"
     ]
    },
    {
     "name": "stderr",
     "output_type": "stream",
     "text": [
      "Logs are saved in /home/nprivault/NTU/nguwi_jiang_yu/deep_branching/deep_branching_with_domain/notebooks/logs/tmp\n"
     ]
    },
    {
     "name": "stdout",
     "output_type": "stream",
     "text": [
      "Time taken: 144 seconds; L1 error: 1.10E-03; L2 error: 1.95E-06; rel error: 8.16E-03.\n",
      "\n",
      "\n",
      "#### Starting deep branching method with seed 7 - 8 out of 10 times\n"
     ]
    },
    {
     "name": "stderr",
     "output_type": "stream",
     "text": [
      "Logs are saved in /home/nprivault/NTU/nguwi_jiang_yu/deep_branching/deep_branching_with_domain/notebooks/logs/tmp\n"
     ]
    },
    {
     "name": "stdout",
     "output_type": "stream",
     "text": [
      "Time taken: 64 seconds; L1 error: 6.47E-04; L2 error: 6.74E-07; rel error: 9.06E-03.\n",
      "fdb runtime: 0 seconds; total runtime: 64 seconds.\n",
      "#### Starting deep galerkin method with seed 7 - 8 out of 10 times\n",
      "Time taken: 77 seconds; L1 error: 6.19E-04; L2 error: 4.95E-07; rel error: 7.37E-03.\n",
      "#### Starting deep BSDE method with seed 7 - 8 out of 10 times\n"
     ]
    },
    {
     "name": "stderr",
     "output_type": "stream",
     "text": [
      "Logs are saved in /home/nprivault/NTU/nguwi_jiang_yu/deep_branching/deep_branching_with_domain/notebooks/logs/tmp\n"
     ]
    },
    {
     "name": "stdout",
     "output_type": "stream",
     "text": [
      "Time taken: 143 seconds; L1 error: 5.43E-03; L2 error: 4.54E-05; rel error: 5.08E-02.\n",
      "\n",
      "\n",
      "#### Starting deep branching method with seed 8 - 9 out of 10 times\n"
     ]
    },
    {
     "name": "stderr",
     "output_type": "stream",
     "text": [
      "Logs are saved in /home/nprivault/NTU/nguwi_jiang_yu/deep_branching/deep_branching_with_domain/notebooks/logs/tmp\n"
     ]
    },
    {
     "name": "stdout",
     "output_type": "stream",
     "text": [
      "Time taken: 65 seconds; L1 error: 5.23E-04; L2 error: 4.54E-07; rel error: 3.59E-03.\n",
      "fdb runtime: 0 seconds; total runtime: 65 seconds.\n",
      "#### Starting deep galerkin method with seed 8 - 9 out of 10 times\n",
      "Time taken: 82 seconds; L1 error: 4.88E-04; L2 error: 3.65E-07; rel error: 6.11E-03.\n",
      "#### Starting deep BSDE method with seed 8 - 9 out of 10 times\n"
     ]
    },
    {
     "name": "stderr",
     "output_type": "stream",
     "text": [
      "Logs are saved in /home/nprivault/NTU/nguwi_jiang_yu/deep_branching/deep_branching_with_domain/notebooks/logs/tmp\n"
     ]
    },
    {
     "name": "stdout",
     "output_type": "stream",
     "text": [
      "Time taken: 132 seconds; L1 error: 3.66E-03; L2 error: 1.92E-05; rel error: 2.16E-02.\n",
      "\n",
      "\n",
      "#### Starting deep branching method with seed 9 - 10 out of 10 times\n"
     ]
    },
    {
     "name": "stderr",
     "output_type": "stream",
     "text": [
      "Logs are saved in /home/nprivault/NTU/nguwi_jiang_yu/deep_branching/deep_branching_with_domain/notebooks/logs/tmp\n"
     ]
    },
    {
     "name": "stdout",
     "output_type": "stream",
     "text": [
      "Time taken: 61 seconds; L1 error: 6.59E-04; L2 error: 6.39E-07; rel error: 1.26E-02.\n",
      "fdb runtime: 0 seconds; total runtime: 61 seconds.\n",
      "#### Starting deep galerkin method with seed 9 - 10 out of 10 times\n",
      "Time taken: 73 seconds; L1 error: 9.55E-04; L2 error: 1.34E-06; rel error: 2.27E-02.\n",
      "#### Starting deep BSDE method with seed 9 - 10 out of 10 times\n",
      "Time taken: 141 seconds; L1 error: 3.76E-03; L2 error: 1.74E-05; rel error: 4.84E-02.\n",
      "\n",
      "\n",
      "\n",
      "\n",
      "######## Summary for deep branching method\n",
      "runtime:        63\n",
      "fdb runtime:    0\n",
      "total runtime:  63\n",
      "mean L1 error:  5.44E-04\n",
      "std L1 error:   1.19E-04\n",
      "mean L2 error:  4.66E-07\n",
      "std L2 error:   2.30E-07\n",
      "mean rel error: 8.21E-03\n",
      "std rel error:  2.85E-03\n",
      "\n",
      "\n",
      "######## Summary for deep galerkin method\n",
      "runtime:        80\n",
      "mean L1 error:  5.96E-04\n",
      "std L1 error:   1.68E-04\n",
      "mean L2 error:  5.37E-07\n",
      "std L2 error:   3.36E-07\n",
      "mean rel error: 1.12E-02\n",
      "std rel error:  6.71E-03\n",
      "\n",
      "\n",
      "######## Summary for deep BSDE method\n",
      "runtime:        141\n",
      "mean L1 error:  3.25E-03\n",
      "std L1 error:   1.48E-03\n",
      "mean L2 error:  1.78E-05\n",
      "std L2 error:   1.37E-05\n",
      "mean rel error: 3.19E-02\n",
      "std rel error:  1.67E-02\n"
     ]
    },
    {
     "data": {
      "image/png": "[encoded data removed]",
      "text/plain": [
       "<Figure size 432x288 with 1 Axes>"
      ]
     },
     "metadata": {
      "needs_background": "light"
     },
     "output_type": "display_data"
    }
   ],
   "source": [
    "T = 0.001\n",
    "dim = 1\n",
    "grid_d_dim = np.concatenate((x_mid * np.ones((0, 100)), np.expand_dims(grid, axis=0), x_mid * np.ones((dim - 1, 100))), axis=0)\n",
    "grid_d_dim_with_t = np.concatenate((t_lo * np.ones((1, 100)), grid_d_dim), axis=0)    \n",
    "true = exact_example(t_lo, grid_d_dim, T)\n",
    "terminal = exact_example(T, grid_d_dim, T)\n",
    "deriv_map = np.concatenate((np.array([[0] * dim]), 1 * np.identity(dim), 2 * np.identity(dim)), axis=0).astype(int)\n",
    "\n",
    "nu = dim ** 2\n",
    "\n",
    "#grid, grid_d_dim, grid_d_dim_with_t, t_lo, true, terminal, \\\n",
    "#    f_example, deriv_map, phi_example, dgm_f_example = gen_for_generalized_burgers(n=n, T=T)\n",
    "compare_performance(grid, grid_d_dim, grid_d_dim_with_t, t_lo, true, terminal=terminal, # seeds=[0],\n",
    "                    # disable_bsde=True, disable_galerkin=True, verbose=True, debug_mode=True,\n",
    "                    T=T, nu=nu, device=device, epochs=3000, fname=f\"burger\",\n",
    "                    branch_nb_states=1000, branch_nb_path_per_state=20000,\n",
    "                    branch_patches=1, branch_exponential_lambda=-math.log(.95)/T,\n",
    "                    second_order=True, branch_nb_states_per_batch=200,\n",
    "                    bsde_nb_states=1000, bsde_nb_time_intervals=4,\n",
    "                    dgm_nb_states=1000, f_fun=f_example, dgm_f_fun=dgm_f_example,\n",
    "                    deriv_map=deriv_map, dgm_deriv_map=deriv_map, phi_fun=phi_example,\n",
    "                    outlier_percentile=3,\n",
    "                    lr_gamma=0.1, branch_lr=1e-2, branch_activation=\"tanh\", neurons=20, layers=5,\n",
    "                    save_for_best_model=False, save_as_tmp=True)"
   ]
  },
  {
   "cell_type": "code",
   "execution_count": 7,
   "metadata": {},
   "outputs": [
    {
     "name": "stderr",
     "output_type": "stream",
     "text": [
      "Logs are saved in /home/nprivault/NTU/nguwi_jiang_yu/deep_branching/deep_branching_with_domain/notebooks/logs/tmp\n"
     ]
    },
    {
     "name": "stdout",
     "output_type": "stream",
     "text": [
      "#### Starting deep branching method with seed 0 - 1 out of 10 times\n"
     ]
    },
    {
     "name": "stderr",
     "output_type": "stream",
     "text": [
      "Logs are saved in /home/nprivault/NTU/nguwi_jiang_yu/deep_branching/deep_branching_with_domain/notebooks/logs/tmp\n"
     ]
    },
    {
     "name": "stdout",
     "output_type": "stream",
     "text": [
      "Time taken: 61 seconds; L1 error: 6.95E-04; L2 error: 7.24E-07; rel error: 8.52E-03.\n",
      "fdb runtime: 0 seconds; total runtime: 61 seconds.\n",
      "#### Starting deep galerkin method with seed 0 - 1 out of 10 times\n",
      "Time taken: 77 seconds; L1 error: 9.74E-04; L2 error: 1.19E-06; rel error: 1.94E-02.\n",
      "#### Starting deep BSDE method with seed 0 - 1 out of 10 times\n"
     ]
    },
    {
     "name": "stderr",
     "output_type": "stream",
     "text": [
      "Logs are saved in /home/nprivault/NTU/nguwi_jiang_yu/deep_branching/deep_branching_with_domain/notebooks/logs/tmp\n"
     ]
    },
    {
     "name": "stdout",
     "output_type": "stream",
     "text": [
      "Time taken: 139 seconds; L1 error: 1.85E-03; L2 error: 4.16E-06; rel error: 2.47E-02.\n",
      "\n",
      "\n",
      "#### Starting deep branching method with seed 1 - 2 out of 10 times\n"
     ]
    },
    {
     "name": "stderr",
     "output_type": "stream",
     "text": [
      "Logs are saved in /home/nprivault/NTU/nguwi_jiang_yu/deep_branching/deep_branching_with_domain/notebooks/logs/tmp\n"
     ]
    },
    {
     "name": "stdout",
     "output_type": "stream",
     "text": [
      "Time taken: 65 seconds; L1 error: 4.69E-04; L2 error: 3.07E-07; rel error: 9.35E-03.\n",
      "fdb runtime: 0 seconds; total runtime: 65 seconds.\n",
      "#### Starting deep galerkin method with seed 1 - 2 out of 10 times\n",
      "Time taken: 79 seconds; L1 error: 3.33E-04; L2 error: 1.87E-07; rel error: 1.09E-02.\n",
      "#### Starting deep BSDE method with seed 1 - 2 out of 10 times\n"
     ]
    },
    {
     "name": "stderr",
     "output_type": "stream",
     "text": [
      "Logs are saved in /home/nprivault/NTU/nguwi_jiang_yu/deep_branching/deep_branching_with_domain/notebooks/logs/tmp\n"
     ]
    },
    {
     "name": "stdout",
     "output_type": "stream",
     "text": [
      "Time taken: 142 seconds; L1 error: 4.40E-03; L2 error: 2.69E-05; rel error: 4.27E-02.\n",
      "\n",
      "\n",
      "#### Starting deep branching method with seed 2 - 3 out of 10 times\n"
     ]
    },
    {
     "name": "stderr",
     "output_type": "stream",
     "text": [
      "Logs are saved in /home/nprivault/NTU/nguwi_jiang_yu/deep_branching/deep_branching_with_domain/notebooks/logs/tmp\n"
     ]
    },
    {
     "name": "stdout",
     "output_type": "stream",
     "text": [
      "Time taken: 59 seconds; L1 error: 7.79E-04; L2 error: 9.75E-07; rel error: 1.25E-02.\n",
      "fdb runtime: 0 seconds; total runtime: 59 seconds.\n",
      "#### Starting deep galerkin method with seed 2 - 3 out of 10 times\n",
      "Time taken: 81 seconds; L1 error: 4.27E-04; L2 error: 2.70E-07; rel error: 7.39E-03.\n",
      "#### Starting deep BSDE method with seed 2 - 3 out of 10 times\n"
     ]
    },
    {
     "name": "stderr",
     "output_type": "stream",
     "text": [
      "Logs are saved in /home/nprivault/NTU/nguwi_jiang_yu/deep_branching/deep_branching_with_domain/notebooks/logs/tmp\n"
     ]
    },
    {
     "name": "stdout",
     "output_type": "stream",
     "text": [
      "Time taken: 142 seconds; L1 error: 2.69E-03; L2 error: 8.62E-06; rel error: 3.76E-02.\n",
      "\n",
      "\n",
      "#### Starting deep branching method with seed 3 - 4 out of 10 times\n"
     ]
    },
    {
     "name": "stderr",
     "output_type": "stream",
     "text": [
      "Logs are saved in /home/nprivault/NTU/nguwi_jiang_yu/deep_branching/deep_branching_with_domain/notebooks/logs/tmp\n"
     ]
    },
    {
     "name": "stdout",
     "output_type": "stream",
     "text": [
      "Time taken: 61 seconds; L1 error: 4.35E-04; L2 error: 2.73E-07; rel error: 6.72E-03.\n",
      "fdb runtime: 0 seconds; total runtime: 61 seconds.\n",
      "#### Starting deep galerkin method with seed 3 - 4 out of 10 times\n",
      "Time taken: 83 seconds; L1 error: 6.87E-04; L2 error: 6.86E-07; rel error: 8.60E-03.\n",
      "#### Starting deep BSDE method with seed 3 - 4 out of 10 times\n"
     ]
    },
    {
     "name": "stderr",
     "output_type": "stream",
     "text": [
      "Logs are saved in /home/nprivault/NTU/nguwi_jiang_yu/deep_branching/deep_branching_with_domain/notebooks/logs/tmp\n"
     ]
    },
    {
     "name": "stdout",
     "output_type": "stream",
     "text": [
      "Time taken: 148 seconds; L1 error: 1.97E-03; L2 error: 5.51E-06; rel error: 4.49E-02.\n",
      "\n",
      "\n",
      "#### Starting deep branching method with seed 4 - 5 out of 10 times\n"
     ]
    },
    {
     "name": "stderr",
     "output_type": "stream",
     "text": [
      "Logs are saved in /home/nprivault/NTU/nguwi_jiang_yu/deep_branching/deep_branching_with_domain/notebooks/logs/tmp\n"
     ]
    },
    {
     "name": "stdout",
     "output_type": "stream",
     "text": [
      "Time taken: 63 seconds; L1 error: 5.31E-04; L2 error: 4.17E-07; rel error: 7.65E-03.\n",
      "fdb runtime: 0 seconds; total runtime: 63 seconds.\n",
      "#### Starting deep galerkin method with seed 4 - 5 out of 10 times\n",
      "Time taken: 76 seconds; L1 error: 2.92E-04; L2 error: 1.19E-07; rel error: 2.79E-03.\n",
      "#### Starting deep BSDE method with seed 4 - 5 out of 10 times\n"
     ]
    },
    {
     "name": "stderr",
     "output_type": "stream",
     "text": [
      "Logs are saved in /home/nprivault/NTU/nguwi_jiang_yu/deep_branching/deep_branching_with_domain/notebooks/logs/tmp\n"
     ]
    },
    {
     "name": "stdout",
     "output_type": "stream",
     "text": [
      "Time taken: 141 seconds; L1 error: 5.55E-03; L2 error: 3.47E-05; rel error: 6.12E-02.\n",
      "\n",
      "\n",
      "#### Starting deep branching method with seed 5 - 6 out of 10 times\n"
     ]
    },
    {
     "name": "stderr",
     "output_type": "stream",
     "text": [
      "Logs are saved in /home/nprivault/NTU/nguwi_jiang_yu/deep_branching/deep_branching_with_domain/notebooks/logs/tmp\n"
     ]
    },
    {
     "name": "stdout",
     "output_type": "stream",
     "text": [
      "Time taken: 60 seconds; L1 error: 3.49E-04; L2 error: 1.69E-07; rel error: 4.14E-03.\n",
      "fdb runtime: 0 seconds; total runtime: 60 seconds.\n",
      "#### Starting deep galerkin method with seed 5 - 6 out of 10 times\n",
      "Time taken: 76 seconds; L1 error: 4.11E-04; L2 error: 2.17E-07; rel error: 6.38E-03.\n",
      "#### Starting deep BSDE method with seed 5 - 6 out of 10 times\n"
     ]
    },
    {
     "name": "stderr",
     "output_type": "stream",
     "text": [
      "Logs are saved in /home/nprivault/NTU/nguwi_jiang_yu/deep_branching/deep_branching_with_domain/notebooks/logs/tmp\n"
     ]
    },
    {
     "name": "stdout",
     "output_type": "stream",
     "text": [
      "Time taken: 144 seconds; L1 error: 8.13E-04; L2 error: 8.39E-07; rel error: 1.40E-02.\n",
      "\n",
      "\n",
      "#### Starting deep branching method with seed 6 - 7 out of 10 times\n"
     ]
    },
    {
     "name": "stderr",
     "output_type": "stream",
     "text": [
      "Logs are saved in /home/nprivault/NTU/nguwi_jiang_yu/deep_branching/deep_branching_with_domain/notebooks/logs/tmp\n"
     ]
    },
    {
     "name": "stdout",
     "output_type": "stream",
     "text": [
      "Time taken: 63 seconds; L1 error: 4.52E-04; L2 error: 2.82E-07; rel error: 7.98E-03.\n",
      "fdb runtime: 0 seconds; total runtime: 63 seconds.\n",
      "#### Starting deep galerkin method with seed 6 - 7 out of 10 times\n",
      "Time taken: 79 seconds; L1 error: 7.11E-04; L2 error: 7.79E-07; rel error: 2.21E-02.\n",
      "#### Starting deep BSDE method with seed 6 - 7 out of 10 times\n"
     ]
    },
    {
     "name": "stderr",
     "output_type": "stream",
     "text": [
      "Logs are saved in /home/nprivault/NTU/nguwi_jiang_yu/deep_branching/deep_branching_with_domain/notebooks/logs/tmp\n"
     ]
    },
    {
     "name": "stdout",
     "output_type": "stream",
     "text": [
      "Time taken: 146 seconds; L1 error: 1.14E-03; L2 error: 2.02E-06; rel error: 1.36E-02.\n",
      "\n",
      "\n",
      "#### Starting deep branching method with seed 7 - 8 out of 10 times\n"
     ]
    },
    {
     "name": "stderr",
     "output_type": "stream",
     "text": [
      "Logs are saved in /home/nprivault/NTU/nguwi_jiang_yu/deep_branching/deep_branching_with_domain/notebooks/logs/tmp\n"
     ]
    },
    {
     "name": "stdout",
     "output_type": "stream",
     "text": [
      "Time taken: 61 seconds; L1 error: 6.68E-04; L2 error: 7.60E-07; rel error: 8.99E-03.\n",
      "fdb runtime: 0 seconds; total runtime: 61 seconds.\n",
      "#### Starting deep galerkin method with seed 7 - 8 out of 10 times\n",
      "Time taken: 76 seconds; L1 error: 6.01E-04; L2 error: 5.54E-07; rel error: 7.38E-03.\n",
      "#### Starting deep BSDE method with seed 7 - 8 out of 10 times\n"
     ]
    },
    {
     "name": "stderr",
     "output_type": "stream",
     "text": [
      "Logs are saved in /home/nprivault/NTU/nguwi_jiang_yu/deep_branching/deep_branching_with_domain/notebooks/logs/tmp\n"
     ]
    },
    {
     "name": "stdout",
     "output_type": "stream",
     "text": [
      "Time taken: 140 seconds; L1 error: 4.94E-03; L2 error: 3.44E-05; rel error: 3.59E-02.\n",
      "\n",
      "\n",
      "#### Starting deep branching method with seed 8 - 9 out of 10 times\n"
     ]
    },
    {
     "name": "stderr",
     "output_type": "stream",
     "text": [
      "Logs are saved in /home/nprivault/NTU/nguwi_jiang_yu/deep_branching/deep_branching_with_domain/notebooks/logs/tmp\n"
     ]
    },
    {
     "name": "stdout",
     "output_type": "stream",
     "text": [
      "Time taken: 64 seconds; L1 error: 5.19E-04; L2 error: 4.53E-07; rel error: 3.91E-03.\n",
      "fdb runtime: 0 seconds; total runtime: 64 seconds.\n",
      "#### Starting deep galerkin method with seed 8 - 9 out of 10 times\n",
      "Time taken: 84 seconds; L1 error: 3.73E-04; L2 error: 2.15E-07; rel error: 4.67E-03.\n",
      "#### Starting deep BSDE method with seed 8 - 9 out of 10 times\n"
     ]
    },
    {
     "name": "stderr",
     "output_type": "stream",
     "text": [
      "Logs are saved in /home/nprivault/NTU/nguwi_jiang_yu/deep_branching/deep_branching_with_domain/notebooks/logs/tmp\n"
     ]
    },
    {
     "name": "stdout",
     "output_type": "stream",
     "text": [
      "Time taken: 139 seconds; L1 error: 3.31E-03; L2 error: 1.78E-05; rel error: 1.53E-02.\n",
      "\n",
      "\n",
      "#### Starting deep branching method with seed 9 - 10 out of 10 times\n"
     ]
    },
    {
     "name": "stderr",
     "output_type": "stream",
     "text": [
      "Logs are saved in /home/nprivault/NTU/nguwi_jiang_yu/deep_branching/deep_branching_with_domain/notebooks/logs/tmp\n"
     ]
    },
    {
     "name": "stdout",
     "output_type": "stream",
     "text": [
      "Time taken: 65 seconds; L1 error: 6.63E-04; L2 error: 6.91E-07; rel error: 1.19E-02.\n",
      "fdb runtime: 0 seconds; total runtime: 65 seconds.\n",
      "#### Starting deep galerkin method with seed 9 - 10 out of 10 times\n",
      "Time taken: 81 seconds; L1 error: 8.13E-04; L2 error: 9.80E-07; rel error: 1.81E-02.\n",
      "#### Starting deep BSDE method with seed 9 - 10 out of 10 times\n",
      "Time taken: 148 seconds; L1 error: 2.75E-03; L2 error: 1.09E-05; rel error: 2.41E-02.\n",
      "\n",
      "\n",
      "\n",
      "\n",
      "######## Summary for deep branching method\n",
      "runtime:        62\n",
      "fdb runtime:    0\n",
      "total runtime:  62\n",
      "mean L1 error:  5.56E-04\n",
      "std L1 error:   1.31E-04\n",
      "mean L2 error:  5.05E-07\n",
      "std L2 error:   2.52E-07\n",
      "mean rel error: 8.17E-03\n",
      "std rel error:  2.68E-03\n",
      "\n",
      "\n",
      "######## Summary for deep galerkin method\n",
      "runtime:        79\n",
      "mean L1 error:  5.62E-04\n",
      "std L1 error:   2.18E-04\n",
      "mean L2 error:  5.20E-07\n",
      "std L2 error:   3.58E-07\n",
      "mean rel error: 1.08E-02\n",
      "std rel error:  6.37E-03\n",
      "\n",
      "\n",
      "######## Summary for deep BSDE method\n",
      "runtime:        143\n",
      "mean L1 error:  2.94E-03\n",
      "std L1 error:   1.52E-03\n",
      "mean L2 error:  1.46E-05\n",
      "std L2 error:   1.24E-05\n",
      "mean rel error: 3.14E-02\n",
      "std rel error:  1.50E-02\n"
     ]
    },
    {
     "data": {
      "image/png": "[encoded data removed]",
      "text/plain": [
       "<Figure size 432x288 with 1 Axes>"
      ]
     },
     "metadata": {
      "needs_background": "light"
     },
     "output_type": "display_data"
    }
   ],
   "source": [
    "T = 0.125\n",
    "dim = 1\n",
    "grid_d_dim = np.concatenate((x_mid * np.ones((0, 100)), np.expand_dims(grid, axis=0), x_mid * np.ones((dim - 1, 100))), axis=0)\n",
    "grid_d_dim_with_t = np.concatenate((t_lo * np.ones((1, 100)), grid_d_dim), axis=0)    \n",
    "true = exact_example(t_lo, grid_d_dim, T)\n",
    "terminal = exact_example(T, grid_d_dim, T)\n",
    "deriv_map = np.concatenate((np.array([[0] * dim]), 1 * np.identity(dim), 2 * np.identity(dim)), axis=0).astype(int)\n",
    "\n",
    "nu = dim ** 2\n",
    "\n",
    "#grid, grid_d_dim, grid_d_dim_with_t, t_lo, true, terminal, \\\n",
    "#    f_example, deriv_map, phi_example, dgm_f_example = gen_for_generalized_burgers(n=n, T=T)\n",
    "compare_performance(grid, grid_d_dim, grid_d_dim_with_t, t_lo, true, terminal=terminal, # seeds=[0],\n",
    "                    # disable_bsde=True, disable_galerkin=True, verbose=True, debug_mode=True,\n",
    "                    T=T, nu=nu, device=device, epochs=3000, fname=f\"burger\",\n",
    "                    branch_nb_states=1000, branch_nb_path_per_state=20000,\n",
    "                    branch_patches=1, branch_exponential_lambda=-math.log(.95)/T,\n",
    "                    second_order=True, branch_nb_states_per_batch=200,\n",
    "                    bsde_nb_states=1000, bsde_nb_time_intervals=4,\n",
    "                    dgm_nb_states=1000, f_fun=f_example, dgm_f_fun=dgm_f_example,\n",
    "                    deriv_map=deriv_map, dgm_deriv_map=deriv_map, phi_fun=phi_example,\n",
    "                    outlier_percentile=3,\n",
    "                    lr_gamma=0.1, branch_lr=1e-2, branch_activation=\"tanh\", neurons=20, layers=5,\n",
    "                    save_for_best_model=False, save_as_tmp=True)"
   ]
  },
  {
   "cell_type": "code",
   "execution_count": 8,
   "metadata": {},
   "outputs": [
    {
     "name": "stderr",
     "output_type": "stream",
     "text": [
      "Logs are saved in /home/nprivault/NTU/nguwi_jiang_yu/deep_branching/deep_branching_with_domain/notebooks/logs/tmp\n"
     ]
    },
    {
     "name": "stdout",
     "output_type": "stream",
     "text": [
      "#### Starting deep branching method with seed 0 - 1 out of 10 times\n"
     ]
    },
    {
     "name": "stderr",
     "output_type": "stream",
     "text": [
      "Logs are saved in /home/nprivault/NTU/nguwi_jiang_yu/deep_branching/deep_branching_with_domain/notebooks/logs/tmp\n"
     ]
    },
    {
     "name": "stdout",
     "output_type": "stream",
     "text": [
      "Time taken: 62 seconds; L1 error: 8.38E-04; L2 error: 1.12E-06; rel error: 9.93E-03.\n",
      "fdb runtime: 0 seconds; total runtime: 62 seconds.\n",
      "#### Starting deep galerkin method with seed 0 - 1 out of 10 times\n",
      "Time taken: 85 seconds; L1 error: 3.88E-04; L2 error: 2.63E-07; rel error: 1.16E-02.\n",
      "#### Starting deep BSDE method with seed 0 - 1 out of 10 times\n"
     ]
    },
    {
     "name": "stderr",
     "output_type": "stream",
     "text": [
      "Logs are saved in /home/nprivault/NTU/nguwi_jiang_yu/deep_branching/deep_branching_with_domain/notebooks/logs/tmp\n"
     ]
    },
    {
     "name": "stdout",
     "output_type": "stream",
     "text": [
      "Time taken: 136 seconds; L1 error: 2.38E-03; L2 error: 8.95E-06; rel error: 3.41E-02.\n",
      "\n",
      "\n",
      "#### Starting deep branching method with seed 1 - 2 out of 10 times\n"
     ]
    },
    {
     "name": "stderr",
     "output_type": "stream",
     "text": [
      "Logs are saved in /home/nprivault/NTU/nguwi_jiang_yu/deep_branching/deep_branching_with_domain/notebooks/logs/tmp\n"
     ]
    },
    {
     "name": "stdout",
     "output_type": "stream",
     "text": [
      "Time taken: 62 seconds; L1 error: 5.76E-04; L2 error: 5.15E-07; rel error: 1.23E-02.\n",
      "fdb runtime: 0 seconds; total runtime: 62 seconds.\n",
      "#### Starting deep galerkin method with seed 1 - 2 out of 10 times\n",
      "Time taken: 83 seconds; L1 error: 3.27E-04; L2 error: 1.75E-07; rel error: 8.85E-03.\n",
      "#### Starting deep BSDE method with seed 1 - 2 out of 10 times\n"
     ]
    },
    {
     "name": "stderr",
     "output_type": "stream",
     "text": [
      "Logs are saved in /home/nprivault/NTU/nguwi_jiang_yu/deep_branching/deep_branching_with_domain/notebooks/logs/tmp\n"
     ]
    },
    {
     "name": "stdout",
     "output_type": "stream",
     "text": [
      "Time taken: 139 seconds; L1 error: 4.57E-03; L2 error: 2.95E-05; rel error: 3.96E-02.\n",
      "\n",
      "\n",
      "#### Starting deep branching method with seed 2 - 3 out of 10 times\n"
     ]
    },
    {
     "name": "stderr",
     "output_type": "stream",
     "text": [
      "Logs are saved in /home/nprivault/NTU/nguwi_jiang_yu/deep_branching/deep_branching_with_domain/notebooks/logs/tmp\n"
     ]
    },
    {
     "name": "stdout",
     "output_type": "stream",
     "text": [
      "Time taken: 62 seconds; L1 error: 8.79E-04; L2 error: 1.17E-06; rel error: 1.34E-02.\n",
      "fdb runtime: 0 seconds; total runtime: 62 seconds.\n",
      "#### Starting deep galerkin method with seed 2 - 3 out of 10 times\n",
      "Time taken: 79 seconds; L1 error: 3.96E-04; L2 error: 2.19E-07; rel error: 6.07E-03.\n",
      "#### Starting deep BSDE method with seed 2 - 3 out of 10 times\n"
     ]
    },
    {
     "name": "stderr",
     "output_type": "stream",
     "text": [
      "Logs are saved in /home/nprivault/NTU/nguwi_jiang_yu/deep_branching/deep_branching_with_domain/notebooks/logs/tmp\n"
     ]
    },
    {
     "name": "stdout",
     "output_type": "stream",
     "text": [
      "Time taken: 146 seconds; L1 error: 2.79E-03; L2 error: 1.06E-05; rel error: 6.30E-02.\n",
      "\n",
      "\n",
      "#### Starting deep branching method with seed 3 - 4 out of 10 times\n"
     ]
    },
    {
     "name": "stderr",
     "output_type": "stream",
     "text": [
      "Logs are saved in /home/nprivault/NTU/nguwi_jiang_yu/deep_branching/deep_branching_with_domain/notebooks/logs/tmp\n"
     ]
    },
    {
     "name": "stdout",
     "output_type": "stream",
     "text": [
      "Time taken: 64 seconds; L1 error: 6.47E-04; L2 error: 8.59E-07; rel error: 8.99E-03.\n",
      "fdb runtime: 0 seconds; total runtime: 64 seconds.\n",
      "#### Starting deep galerkin method with seed 3 - 4 out of 10 times\n",
      "Time taken: 79 seconds; L1 error: 5.94E-04; L2 error: 5.54E-07; rel error: 4.15E-03.\n",
      "#### Starting deep BSDE method with seed 3 - 4 out of 10 times\n"
     ]
    },
    {
     "name": "stderr",
     "output_type": "stream",
     "text": [
      "Logs are saved in /home/nprivault/NTU/nguwi_jiang_yu/deep_branching/deep_branching_with_domain/notebooks/logs/tmp\n"
     ]
    },
    {
     "name": "stdout",
     "output_type": "stream",
     "text": [
      "Time taken: 145 seconds; L1 error: 1.45E-03; L2 error: 3.28E-06; rel error: 3.10E-02.\n",
      "\n",
      "\n",
      "#### Starting deep branching method with seed 4 - 5 out of 10 times\n"
     ]
    },
    {
     "name": "stderr",
     "output_type": "stream",
     "text": [
      "Logs are saved in /home/nprivault/NTU/nguwi_jiang_yu/deep_branching/deep_branching_with_domain/notebooks/logs/tmp\n"
     ]
    },
    {
     "name": "stdout",
     "output_type": "stream",
     "text": [
      "Time taken: 64 seconds; L1 error: 7.26E-04; L2 error: 7.64E-07; rel error: 9.00E-03.\n",
      "fdb runtime: 0 seconds; total runtime: 64 seconds.\n",
      "#### Starting deep galerkin method with seed 4 - 5 out of 10 times\n",
      "Time taken: 74 seconds; L1 error: 2.00E-04; L2 error: 5.72E-08; rel error: 2.11E-03.\n",
      "#### Starting deep BSDE method with seed 4 - 5 out of 10 times\n"
     ]
    },
    {
     "name": "stderr",
     "output_type": "stream",
     "text": [
      "Logs are saved in /home/nprivault/NTU/nguwi_jiang_yu/deep_branching/deep_branching_with_domain/notebooks/logs/tmp\n"
     ]
    },
    {
     "name": "stdout",
     "output_type": "stream",
     "text": [
      "Time taken: 142 seconds; L1 error: 5.81E-03; L2 error: 4.00E-05; rel error: 6.48E-02.\n",
      "\n",
      "\n",
      "#### Starting deep branching method with seed 5 - 6 out of 10 times\n"
     ]
    },
    {
     "name": "stderr",
     "output_type": "stream",
     "text": [
      "Logs are saved in /home/nprivault/NTU/nguwi_jiang_yu/deep_branching/deep_branching_with_domain/notebooks/logs/tmp\n"
     ]
    },
    {
     "name": "stdout",
     "output_type": "stream",
     "text": [
      "Time taken: 62 seconds; L1 error: 4.36E-04; L2 error: 2.95E-07; rel error: 5.71E-03.\n",
      "fdb runtime: 0 seconds; total runtime: 62 seconds.\n",
      "#### Starting deep galerkin method with seed 5 - 6 out of 10 times\n",
      "Time taken: 81 seconds; L1 error: 2.79E-04; L2 error: 1.04E-07; rel error: 4.67E-03.\n",
      "#### Starting deep BSDE method with seed 5 - 6 out of 10 times\n"
     ]
    },
    {
     "name": "stderr",
     "output_type": "stream",
     "text": [
      "Logs are saved in /home/nprivault/NTU/nguwi_jiang_yu/deep_branching/deep_branching_with_domain/notebooks/logs/tmp\n"
     ]
    },
    {
     "name": "stdout",
     "output_type": "stream",
     "text": [
      "Time taken: 146 seconds; L1 error: 1.73E-03; L2 error: 4.39E-06; rel error: 3.00E-02.\n",
      "\n",
      "\n",
      "#### Starting deep branching method with seed 6 - 7 out of 10 times\n"
     ]
    },
    {
     "name": "stderr",
     "output_type": "stream",
     "text": [
      "Logs are saved in /home/nprivault/NTU/nguwi_jiang_yu/deep_branching/deep_branching_with_domain/notebooks/logs/tmp\n"
     ]
    },
    {
     "name": "stdout",
     "output_type": "stream",
     "text": [
      "Time taken: 63 seconds; L1 error: 6.08E-04; L2 error: 5.53E-07; rel error: 1.10E-02.\n",
      "fdb runtime: 0 seconds; total runtime: 63 seconds.\n",
      "#### Starting deep galerkin method with seed 6 - 7 out of 10 times\n",
      "Time taken: 85 seconds; L1 error: 5.94E-04; L2 error: 5.91E-07; rel error: 1.65E-02.\n",
      "#### Starting deep BSDE method with seed 6 - 7 out of 10 times\n"
     ]
    },
    {
     "name": "stderr",
     "output_type": "stream",
     "text": [
      "Logs are saved in /home/nprivault/NTU/nguwi_jiang_yu/deep_branching/deep_branching_with_domain/notebooks/logs/tmp\n"
     ]
    },
    {
     "name": "stdout",
     "output_type": "stream",
     "text": [
      "Time taken: 143 seconds; L1 error: 1.42E-03; L2 error: 3.11E-06; rel error: 3.43E-02.\n",
      "\n",
      "\n",
      "#### Starting deep branching method with seed 7 - 8 out of 10 times\n"
     ]
    },
    {
     "name": "stderr",
     "output_type": "stream",
     "text": [
      "Logs are saved in /home/nprivault/NTU/nguwi_jiang_yu/deep_branching/deep_branching_with_domain/notebooks/logs/tmp\n"
     ]
    },
    {
     "name": "stdout",
     "output_type": "stream",
     "text": [
      "Time taken: 64 seconds; L1 error: 7.38E-04; L2 error: 1.16E-06; rel error: 9.13E-03.\n",
      "fdb runtime: 0 seconds; total runtime: 64 seconds.\n",
      "#### Starting deep galerkin method with seed 7 - 8 out of 10 times\n",
      "Time taken: 85 seconds; L1 error: 9.11E-04; L2 error: 1.12E-06; rel error: 1.53E-02.\n",
      "#### Starting deep BSDE method with seed 7 - 8 out of 10 times\n"
     ]
    },
    {
     "name": "stderr",
     "output_type": "stream",
     "text": [
      "Logs are saved in /home/nprivault/NTU/nguwi_jiang_yu/deep_branching/deep_branching_with_domain/notebooks/logs/tmp\n"
     ]
    },
    {
     "name": "stdout",
     "output_type": "stream",
     "text": [
      "Time taken: 137 seconds; L1 error: 4.46E-03; L2 error: 3.02E-05; rel error: 1.98E-02.\n",
      "\n",
      "\n",
      "#### Starting deep branching method with seed 8 - 9 out of 10 times\n"
     ]
    },
    {
     "name": "stderr",
     "output_type": "stream",
     "text": [
      "Logs are saved in /home/nprivault/NTU/nguwi_jiang_yu/deep_branching/deep_branching_with_domain/notebooks/logs/tmp\n"
     ]
    },
    {
     "name": "stdout",
     "output_type": "stream",
     "text": [
      "Time taken: 64 seconds; L1 error: 6.12E-04; L2 error: 6.93E-07; rel error: 1.00E-02.\n",
      "fdb runtime: 0 seconds; total runtime: 64 seconds.\n",
      "#### Starting deep galerkin method with seed 8 - 9 out of 10 times\n",
      "Time taken: 82 seconds; L1 error: 3.50E-04; L2 error: 1.83E-07; rel error: 5.80E-03.\n",
      "#### Starting deep BSDE method with seed 8 - 9 out of 10 times\n"
     ]
    },
    {
     "name": "stderr",
     "output_type": "stream",
     "text": [
      "Logs are saved in /home/nprivault/NTU/nguwi_jiang_yu/deep_branching/deep_branching_with_domain/notebooks/logs/tmp\n"
     ]
    },
    {
     "name": "stdout",
     "output_type": "stream",
     "text": [
      "Time taken: 144 seconds; L1 error: 3.06E-03; L2 error: 1.24E-05; rel error: 3.37E-02.\n",
      "\n",
      "\n",
      "#### Starting deep branching method with seed 9 - 10 out of 10 times\n"
     ]
    },
    {
     "name": "stderr",
     "output_type": "stream",
     "text": [
      "Logs are saved in /home/nprivault/NTU/nguwi_jiang_yu/deep_branching/deep_branching_with_domain/notebooks/logs/tmp\n"
     ]
    },
    {
     "name": "stdout",
     "output_type": "stream",
     "text": [
      "Time taken: 67 seconds; L1 error: 8.00E-04; L2 error: 1.36E-06; rel error: 9.81E-03.\n",
      "fdb runtime: 0 seconds; total runtime: 67 seconds.\n",
      "#### Starting deep galerkin method with seed 9 - 10 out of 10 times\n",
      "Time taken: 81 seconds; L1 error: 7.72E-04; L2 error: 1.03E-06; rel error: 1.71E-02.\n",
      "#### Starting deep BSDE method with seed 9 - 10 out of 10 times\n",
      "Time taken: 143 seconds; L1 error: 2.14E-03; L2 error: 7.55E-06; rel error: 1.76E-02.\n",
      "\n",
      "\n",
      "\n",
      "\n",
      "######## Summary for deep branching method\n",
      "runtime:        63\n",
      "fdb runtime:    0\n",
      "total runtime:  63\n",
      "mean L1 error:  6.86E-04\n",
      "std L1 error:   1.29E-04\n",
      "mean L2 error:  8.49E-07\n",
      "std L2 error:   3.27E-07\n",
      "mean rel error: 9.93E-03\n",
      "std rel error:  1.98E-03\n",
      "\n",
      "\n",
      "######## Summary for deep galerkin method\n",
      "runtime:        81\n",
      "mean L1 error:  4.81E-04\n",
      "std L1 error:   2.17E-04\n",
      "mean L2 error:  4.29E-07\n",
      "std L2 error:   3.63E-07\n",
      "mean rel error: 9.22E-03\n",
      "std rel error:  5.26E-03\n",
      "\n",
      "\n",
      "######## Summary for deep BSDE method\n",
      "runtime:        142\n",
      "mean L1 error:  2.98E-03\n",
      "std L1 error:   1.42E-03\n",
      "mean L2 error:  1.50E-05\n",
      "std L2 error:   1.26E-05\n",
      "mean rel error: 3.68E-02\n",
      "std rel error:  1.49E-02\n"
     ]
    },
    {
     "data": {
      "image/png": "[encoded data removed]",
      "text/plain": [
       "<Figure size 432x288 with 1 Axes>"
      ]
     },
     "metadata": {
      "needs_background": "light"
     },
     "output_type": "display_data"
    }
   ],
   "source": [
    "T = 0.250\n",
    "dim = 1\n",
    "grid_d_dim = np.concatenate((x_mid * np.ones((0, 100)), np.expand_dims(grid, axis=0), x_mid * np.ones((dim - 1, 100))), axis=0)\n",
    "grid_d_dim_with_t = np.concatenate((t_lo * np.ones((1, 100)), grid_d_dim), axis=0)    \n",
    "true = exact_example(t_lo, grid_d_dim, T)\n",
    "terminal = exact_example(T, grid_d_dim, T)\n",
    "deriv_map = np.concatenate((np.array([[0] * dim]), 1 * np.identity(dim), 2 * np.identity(dim)), axis=0).astype(int)\n",
    "\n",
    "nu = dim ** 2\n",
    "\n",
    "#grid, grid_d_dim, grid_d_dim_with_t, t_lo, true, terminal, \\\n",
    "#    f_example, deriv_map, phi_example, dgm_f_example = gen_for_generalized_burgers(n=n, T=T)\n",
    "compare_performance(grid, grid_d_dim, grid_d_dim_with_t, t_lo, true, terminal=terminal, # seeds=[0],\n",
    "                    # disable_bsde=True, disable_galerkin=True, verbose=True, debug_mode=True,\n",
    "                    T=T, nu=nu, device=device, epochs=3000, fname=f\"burger\",\n",
    "                    branch_nb_states=1000, branch_nb_path_per_state=20000,\n",
    "                    branch_patches=1, branch_exponential_lambda=-math.log(.95)/T,\n",
    "                    second_order=True, branch_nb_states_per_batch=200,\n",
    "                    bsde_nb_states=1000, bsde_nb_time_intervals=4,\n",
    "                    dgm_nb_states=1000, f_fun=f_example, dgm_f_fun=dgm_f_example,\n",
    "                    deriv_map=deriv_map, dgm_deriv_map=deriv_map, phi_fun=phi_example,\n",
    "                    outlier_percentile=3,\n",
    "                    lr_gamma=0.1, branch_lr=1e-2, branch_activation=\"tanh\", neurons=20, layers=5,\n",
    "                    save_for_best_model=False, save_as_tmp=True)"
   ]
  },
  {
   "cell_type": "code",
   "execution_count": 9,
   "metadata": {},
   "outputs": [
    {
     "name": "stderr",
     "output_type": "stream",
     "text": [
      "Logs are saved in /home/nprivault/NTU/nguwi_jiang_yu/deep_branching/deep_branching_with_domain/notebooks/logs/tmp\n"
     ]
    },
    {
     "name": "stdout",
     "output_type": "stream",
     "text": [
      "#### Starting deep branching method with seed 0 - 1 out of 10 times\n"
     ]
    },
    {
     "name": "stderr",
     "output_type": "stream",
     "text": [
      "Logs are saved in /home/nprivault/NTU/nguwi_jiang_yu/deep_branching/deep_branching_with_domain/notebooks/logs/tmp\n"
     ]
    },
    {
     "name": "stdout",
     "output_type": "stream",
     "text": [
      "Time taken: 64 seconds; L1 error: 1.03E-03; L2 error: 2.03E-06; rel error: 1.40E-02.\n",
      "fdb runtime: 0 seconds; total runtime: 64 seconds.\n",
      "#### Starting deep galerkin method with seed 0 - 1 out of 10 times\n",
      "Time taken: 79 seconds; L1 error: 1.21E-03; L2 error: 1.74E-06; rel error: 2.40E-02.\n",
      "#### Starting deep BSDE method with seed 0 - 1 out of 10 times\n"
     ]
    },
    {
     "name": "stderr",
     "output_type": "stream",
     "text": [
      "Logs are saved in /home/nprivault/NTU/nguwi_jiang_yu/deep_branching/deep_branching_with_domain/notebooks/logs/tmp\n"
     ]
    },
    {
     "name": "stdout",
     "output_type": "stream",
     "text": [
      "Time taken: 145 seconds; L1 error: 3.19E-03; L2 error: 1.35E-05; rel error: 5.94E-02.\n",
      "\n",
      "\n",
      "#### Starting deep branching method with seed 1 - 2 out of 10 times\n"
     ]
    },
    {
     "name": "stderr",
     "output_type": "stream",
     "text": [
      "Logs are saved in /home/nprivault/NTU/nguwi_jiang_yu/deep_branching/deep_branching_with_domain/notebooks/logs/tmp\n"
     ]
    },
    {
     "name": "stdout",
     "output_type": "stream",
     "text": [
      "Time taken: 65 seconds; L1 error: 1.03E-03; L2 error: 2.03E-06; rel error: 1.26E-02.\n",
      "fdb runtime: 0 seconds; total runtime: 65 seconds.\n",
      "#### Starting deep galerkin method with seed 1 - 2 out of 10 times\n",
      "Time taken: 81 seconds; L1 error: 2.85E-04; L2 error: 1.20E-07; rel error: 7.07E-03.\n",
      "#### Starting deep BSDE method with seed 1 - 2 out of 10 times\n"
     ]
    },
    {
     "name": "stderr",
     "output_type": "stream",
     "text": [
      "Logs are saved in /home/nprivault/NTU/nguwi_jiang_yu/deep_branching/deep_branching_with_domain/notebooks/logs/tmp\n"
     ]
    },
    {
     "name": "stdout",
     "output_type": "stream",
     "text": [
      "Time taken: 146 seconds; L1 error: 4.51E-03; L2 error: 3.44E-05; rel error: 1.89E-02.\n",
      "\n",
      "\n",
      "#### Starting deep branching method with seed 2 - 3 out of 10 times\n"
     ]
    },
    {
     "name": "stderr",
     "output_type": "stream",
     "text": [
      "Logs are saved in /home/nprivault/NTU/nguwi_jiang_yu/deep_branching/deep_branching_with_domain/notebooks/logs/tmp\n"
     ]
    },
    {
     "name": "stdout",
     "output_type": "stream",
     "text": [
      "Time taken: 63 seconds; L1 error: 1.03E-03; L2 error: 1.77E-06; rel error: 1.61E-02.\n",
      "fdb runtime: 0 seconds; total runtime: 63 seconds.\n",
      "#### Starting deep galerkin method with seed 2 - 3 out of 10 times\n",
      "Time taken: 73 seconds; L1 error: 3.87E-04; L2 error: 2.39E-07; rel error: 6.09E-03.\n",
      "#### Starting deep BSDE method with seed 2 - 3 out of 10 times\n"
     ]
    },
    {
     "name": "stderr",
     "output_type": "stream",
     "text": [
      "Logs are saved in /home/nprivault/NTU/nguwi_jiang_yu/deep_branching/deep_branching_with_domain/notebooks/logs/tmp\n"
     ]
    },
    {
     "name": "stdout",
     "output_type": "stream",
     "text": [
      "Time taken: 143 seconds; L1 error: 3.43E-03; L2 error: 1.98E-05; rel error: 3.80E-02.\n",
      "\n",
      "\n",
      "#### Starting deep branching method with seed 3 - 4 out of 10 times\n"
     ]
    },
    {
     "name": "stderr",
     "output_type": "stream",
     "text": [
      "Logs are saved in /home/nprivault/NTU/nguwi_jiang_yu/deep_branching/deep_branching_with_domain/notebooks/logs/tmp\n"
     ]
    },
    {
     "name": "stdout",
     "output_type": "stream",
     "text": [
      "Time taken: 64 seconds; L1 error: 7.91E-04; L2 error: 1.19E-06; rel error: 1.12E-02.\n",
      "fdb runtime: 0 seconds; total runtime: 64 seconds.\n",
      "#### Starting deep galerkin method with seed 3 - 4 out of 10 times\n",
      "Time taken: 75 seconds; L1 error: 5.31E-04; L2 error: 3.93E-07; rel error: 5.20E-03.\n",
      "#### Starting deep BSDE method with seed 3 - 4 out of 10 times\n"
     ]
    },
    {
     "name": "stderr",
     "output_type": "stream",
     "text": [
      "Logs are saved in /home/nprivault/NTU/nguwi_jiang_yu/deep_branching/deep_branching_with_domain/notebooks/logs/tmp\n"
     ]
    },
    {
     "name": "stdout",
     "output_type": "stream",
     "text": [
      "Time taken: 147 seconds; L1 error: 1.67E-03; L2 error: 4.45E-06; rel error: 1.80E-02.\n",
      "\n",
      "\n",
      "#### Starting deep branching method with seed 4 - 5 out of 10 times\n"
     ]
    },
    {
     "name": "stderr",
     "output_type": "stream",
     "text": [
      "Logs are saved in /home/nprivault/NTU/nguwi_jiang_yu/deep_branching/deep_branching_with_domain/notebooks/logs/tmp\n"
     ]
    },
    {
     "name": "stdout",
     "output_type": "stream",
     "text": [
      "Time taken: 62 seconds; L1 error: 1.16E-03; L2 error: 2.10E-06; rel error: 1.50E-02.\n",
      "fdb runtime: 0 seconds; total runtime: 62 seconds.\n",
      "#### Starting deep galerkin method with seed 4 - 5 out of 10 times\n",
      "Time taken: 80 seconds; L1 error: 1.38E-04; L2 error: 2.86E-08; rel error: 1.78E-03.\n",
      "#### Starting deep BSDE method with seed 4 - 5 out of 10 times\n"
     ]
    },
    {
     "name": "stderr",
     "output_type": "stream",
     "text": [
      "Logs are saved in /home/nprivault/NTU/nguwi_jiang_yu/deep_branching/deep_branching_with_domain/notebooks/logs/tmp\n"
     ]
    },
    {
     "name": "stdout",
     "output_type": "stream",
     "text": [
      "Time taken: 143 seconds; L1 error: 6.22E-03; L2 error: 5.18E-05; rel error: 8.97E-02.\n",
      "\n",
      "\n",
      "#### Starting deep branching method with seed 5 - 6 out of 10 times\n"
     ]
    },
    {
     "name": "stderr",
     "output_type": "stream",
     "text": [
      "Logs are saved in /home/nprivault/NTU/nguwi_jiang_yu/deep_branching/deep_branching_with_domain/notebooks/logs/tmp\n"
     ]
    },
    {
     "name": "stdout",
     "output_type": "stream",
     "text": [
      "Time taken: 60 seconds; L1 error: 9.07E-04; L2 error: 1.59E-06; rel error: 1.13E-02.\n",
      "fdb runtime: 0 seconds; total runtime: 60 seconds.\n",
      "#### Starting deep galerkin method with seed 5 - 6 out of 10 times\n",
      "Time taken: 81 seconds; L1 error: 3.02E-04; L2 error: 1.37E-07; rel error: 6.67E-03.\n",
      "#### Starting deep BSDE method with seed 5 - 6 out of 10 times\n"
     ]
    },
    {
     "name": "stderr",
     "output_type": "stream",
     "text": [
      "Logs are saved in /home/nprivault/NTU/nguwi_jiang_yu/deep_branching/deep_branching_with_domain/notebooks/logs/tmp\n"
     ]
    },
    {
     "name": "stdout",
     "output_type": "stream",
     "text": [
      "Time taken: 139 seconds; L1 error: 1.85E-03; L2 error: 5.50E-06; rel error: 3.23E-02.\n",
      "\n",
      "\n",
      "#### Starting deep branching method with seed 6 - 7 out of 10 times\n"
     ]
    },
    {
     "name": "stderr",
     "output_type": "stream",
     "text": [
      "Logs are saved in /home/nprivault/NTU/nguwi_jiang_yu/deep_branching/deep_branching_with_domain/notebooks/logs/tmp\n"
     ]
    },
    {
     "name": "stdout",
     "output_type": "stream",
     "text": [
      "Time taken: 63 seconds; L1 error: 8.89E-04; L2 error: 1.30E-06; rel error: 1.76E-02.\n",
      "fdb runtime: 0 seconds; total runtime: 63 seconds.\n",
      "#### Starting deep galerkin method with seed 6 - 7 out of 10 times\n",
      "Time taken: 81 seconds; L1 error: 4.66E-04; L2 error: 3.39E-07; rel error: 1.23E-02.\n",
      "#### Starting deep BSDE method with seed 6 - 7 out of 10 times\n"
     ]
    },
    {
     "name": "stderr",
     "output_type": "stream",
     "text": [
      "Logs are saved in /home/nprivault/NTU/nguwi_jiang_yu/deep_branching/deep_branching_with_domain/notebooks/logs/tmp\n"
     ]
    },
    {
     "name": "stdout",
     "output_type": "stream",
     "text": [
      "Time taken: 145 seconds; L1 error: 1.83E-03; L2 error: 5.19E-06; rel error: 2.94E-02.\n",
      "\n",
      "\n",
      "#### Starting deep branching method with seed 7 - 8 out of 10 times\n"
     ]
    },
    {
     "name": "stderr",
     "output_type": "stream",
     "text": [
      "Logs are saved in /home/nprivault/NTU/nguwi_jiang_yu/deep_branching/deep_branching_with_domain/notebooks/logs/tmp\n"
     ]
    },
    {
     "name": "stdout",
     "output_type": "stream",
     "text": [
      "Time taken: 60 seconds; L1 error: 1.19E-03; L2 error: 4.74E-06; rel error: 1.29E-02.\n",
      "fdb runtime: 0 seconds; total runtime: 60 seconds.\n",
      "#### Starting deep galerkin method with seed 7 - 8 out of 10 times\n",
      "Time taken: 70 seconds; L1 error: 8.72E-04; L2 error: 1.01E-06; rel error: 2.13E-02.\n",
      "#### Starting deep BSDE method with seed 7 - 8 out of 10 times\n"
     ]
    },
    {
     "name": "stderr",
     "output_type": "stream",
     "text": [
      "Logs are saved in /home/nprivault/NTU/nguwi_jiang_yu/deep_branching/deep_branching_with_domain/notebooks/logs/tmp\n"
     ]
    },
    {
     "name": "stdout",
     "output_type": "stream",
     "text": [
      "Time taken: 141 seconds; L1 error: 4.33E-03; L2 error: 3.07E-05; rel error: 2.35E-02.\n",
      "\n",
      "\n",
      "#### Starting deep branching method with seed 8 - 9 out of 10 times\n"
     ]
    },
    {
     "name": "stderr",
     "output_type": "stream",
     "text": [
      "Logs are saved in /home/nprivault/NTU/nguwi_jiang_yu/deep_branching/deep_branching_with_domain/notebooks/logs/tmp\n"
     ]
    },
    {
     "name": "stdout",
     "output_type": "stream",
     "text": [
      "Time taken: 62 seconds; L1 error: 7.76E-04; L2 error: 9.43E-07; rel error: 1.46E-02.\n",
      "fdb runtime: 0 seconds; total runtime: 62 seconds.\n",
      "#### Starting deep galerkin method with seed 8 - 9 out of 10 times\n",
      "Time taken: 74 seconds; L1 error: 3.40E-04; L2 error: 1.66E-07; rel error: 7.00E-03.\n",
      "#### Starting deep BSDE method with seed 8 - 9 out of 10 times\n"
     ]
    },
    {
     "name": "stderr",
     "output_type": "stream",
     "text": [
      "Logs are saved in /home/nprivault/NTU/nguwi_jiang_yu/deep_branching/deep_branching_with_domain/notebooks/logs/tmp\n"
     ]
    },
    {
     "name": "stdout",
     "output_type": "stream",
     "text": [
      "Time taken: 146 seconds; L1 error: 3.01E-03; L2 error: 1.54E-05; rel error: 1.28E-02.\n",
      "\n",
      "\n",
      "#### Starting deep branching method with seed 9 - 10 out of 10 times\n"
     ]
    },
    {
     "name": "stderr",
     "output_type": "stream",
     "text": [
      "Logs are saved in /home/nprivault/NTU/nguwi_jiang_yu/deep_branching/deep_branching_with_domain/notebooks/logs/tmp\n"
     ]
    },
    {
     "name": "stdout",
     "output_type": "stream",
     "text": [
      "Time taken: 64 seconds; L1 error: 1.06E-03; L2 error: 2.30E-06; rel error: 1.14E-02.\n",
      "fdb runtime: 0 seconds; total runtime: 64 seconds.\n",
      "#### Starting deep galerkin method with seed 9 - 10 out of 10 times\n",
      "Time taken: 79 seconds; L1 error: 9.02E-04; L2 error: 1.25E-06; rel error: 1.88E-02.\n",
      "#### Starting deep BSDE method with seed 9 - 10 out of 10 times\n",
      "Time taken: 139 seconds; L1 error: 2.17E-03; L2 error: 6.65E-06; rel error: 3.20E-02.\n",
      "\n",
      "\n",
      "\n",
      "\n",
      "######## Summary for deep branching method\n",
      "runtime:        63\n",
      "fdb runtime:    0\n",
      "total runtime:  63\n",
      "mean L1 error:  9.87E-04\n",
      "std L1 error:   1.35E-04\n",
      "mean L2 error:  2.00E-06\n",
      "std L2 error:   1.00E-06\n",
      "mean rel error: 1.37E-02\n",
      "std rel error:  2.06E-03\n",
      "\n",
      "\n",
      "######## Summary for deep galerkin method\n",
      "runtime:        77\n",
      "mean L1 error:  5.44E-04\n",
      "std L1 error:   3.24E-04\n",
      "mean L2 error:  5.42E-07\n",
      "std L2 error:   5.52E-07\n",
      "mean rel error: 1.10E-02\n",
      "std rel error:  7.29E-03\n",
      "\n",
      "\n",
      "######## Summary for deep BSDE method\n",
      "runtime:        143\n",
      "mean L1 error:  3.22E-03\n",
      "std L1 error:   1.39E-03\n",
      "mean L2 error:  1.87E-05\n",
      "std L2 error:   1.49E-05\n",
      "mean rel error: 3.54E-02\n",
      "std rel error:  2.20E-02\n"
     ]
    },
    {
     "data": {
      "image/png": "[encoded data removed]",
      "text/plain": [
       "<Figure size 432x288 with 1 Axes>"
      ]
     },
     "metadata": {
      "needs_background": "light"
     },
     "output_type": "display_data"
    }
   ],
   "source": [
    "T = 0.375\n",
    "dim = 1\n",
    "grid_d_dim = np.concatenate((x_mid * np.ones((0, 100)), np.expand_dims(grid, axis=0), x_mid * np.ones((dim - 1, 100))), axis=0)\n",
    "grid_d_dim_with_t = np.concatenate((t_lo * np.ones((1, 100)), grid_d_dim), axis=0)    \n",
    "true = exact_example(t_lo, grid_d_dim, T)\n",
    "terminal = exact_example(T, grid_d_dim, T)\n",
    "deriv_map = np.concatenate((np.array([[0] * dim]), 1 * np.identity(dim), 2 * np.identity(dim)), axis=0).astype(int)\n",
    "\n",
    "nu = dim ** 2\n",
    "\n",
    "#grid, grid_d_dim, grid_d_dim_with_t, t_lo, true, terminal, \\\n",
    "#    f_example, deriv_map, phi_example, dgm_f_example = gen_for_generalized_burgers(n=n, T=T)\n",
    "compare_performance(grid, grid_d_dim, grid_d_dim_with_t, t_lo, true, terminal=terminal, # seeds=[0],\n",
    "                    # disable_bsde=True, disable_galerkin=True, verbose=True, debug_mode=True,\n",
    "                    T=T, nu=nu, device=device, epochs=3000, fname=f\"burger\",\n",
    "                    branch_nb_states=1000, branch_nb_path_per_state=20000,\n",
    "                    branch_patches=1, branch_exponential_lambda=-math.log(.95)/T,\n",
    "                    second_order=True, branch_nb_states_per_batch=200,\n",
    "                    bsde_nb_states=1000, bsde_nb_time_intervals=4,\n",
    "                    dgm_nb_states=1000, f_fun=f_example, dgm_f_fun=dgm_f_example,\n",
    "                    deriv_map=deriv_map, dgm_deriv_map=deriv_map, phi_fun=phi_example,\n",
    "                    outlier_percentile=3,\n",
    "                    lr_gamma=0.1, branch_lr=1e-2, branch_activation=\"tanh\", neurons=20, layers=5,\n",
    "                    save_for_best_model=False, save_as_tmp=True)"
   ]
  },
  {
   "cell_type": "code",
   "execution_count": 10,
   "metadata": {},
   "outputs": [
    {
     "name": "stderr",
     "output_type": "stream",
     "text": [
      "Logs are saved in /home/nprivault/NTU/nguwi_jiang_yu/deep_branching/deep_branching_with_domain/notebooks/logs/tmp\n"
     ]
    },
    {
     "name": "stdout",
     "output_type": "stream",
     "text": [
      "#### Starting deep branching method with seed 0 - 1 out of 10 times\n"
     ]
    },
    {
     "name": "stderr",
     "output_type": "stream",
     "text": [
      "Logs are saved in /home/nprivault/NTU/nguwi_jiang_yu/deep_branching/deep_branching_with_domain/notebooks/logs/tmp\n"
     ]
    },
    {
     "name": "stdout",
     "output_type": "stream",
     "text": [
      "Time taken: 63 seconds; L1 error: 1.29E-03; L2 error: 3.46E-06; rel error: 1.84E-02.\n",
      "fdb runtime: 0 seconds; total runtime: 63 seconds.\n",
      "#### Starting deep galerkin method with seed 0 - 1 out of 10 times\n",
      "Time taken: 78 seconds; L1 error: 1.29E-03; L2 error: 2.00E-06; rel error: 1.92E-02.\n",
      "#### Starting deep BSDE method with seed 0 - 1 out of 10 times\n"
     ]
    },
    {
     "name": "stderr",
     "output_type": "stream",
     "text": [
      "Logs are saved in /home/nprivault/NTU/nguwi_jiang_yu/deep_branching/deep_branching_with_domain/notebooks/logs/tmp\n"
     ]
    },
    {
     "name": "stdout",
     "output_type": "stream",
     "text": [
      "Time taken: 141 seconds; L1 error: 3.61E-03; L2 error: 2.05E-05; rel error: 5.97E-02.\n",
      "\n",
      "\n",
      "#### Starting deep branching method with seed 1 - 2 out of 10 times\n"
     ]
    },
    {
     "name": "stderr",
     "output_type": "stream",
     "text": [
      "Logs are saved in /home/nprivault/NTU/nguwi_jiang_yu/deep_branching/deep_branching_with_domain/notebooks/logs/tmp\n"
     ]
    },
    {
     "name": "stdout",
     "output_type": "stream",
     "text": [
      "Time taken: 62 seconds; L1 error: 1.50E-03; L2 error: 4.72E-06; rel error: 1.77E-02.\n",
      "fdb runtime: 0 seconds; total runtime: 62 seconds.\n",
      "#### Starting deep galerkin method with seed 1 - 2 out of 10 times\n",
      "Time taken: 88 seconds; L1 error: 3.42E-04; L2 error: 2.01E-07; rel error: 1.08E-02.\n",
      "#### Starting deep BSDE method with seed 1 - 2 out of 10 times\n"
     ]
    },
    {
     "name": "stderr",
     "output_type": "stream",
     "text": [
      "Logs are saved in /home/nprivault/NTU/nguwi_jiang_yu/deep_branching/deep_branching_with_domain/notebooks/logs/tmp\n"
     ]
    },
    {
     "name": "stdout",
     "output_type": "stream",
     "text": [
      "Time taken: 145 seconds; L1 error: 4.83E-03; L2 error: 3.85E-05; rel error: 2.12E-02.\n",
      "\n",
      "\n",
      "#### Starting deep branching method with seed 2 - 3 out of 10 times\n"
     ]
    },
    {
     "name": "stderr",
     "output_type": "stream",
     "text": [
      "Logs are saved in /home/nprivault/NTU/nguwi_jiang_yu/deep_branching/deep_branching_with_domain/notebooks/logs/tmp\n"
     ]
    },
    {
     "name": "stdout",
     "output_type": "stream",
     "text": [
      "Time taken: 59 seconds; L1 error: 1.22E-03; L2 error: 2.64E-06; rel error: 2.04E-02.\n",
      "fdb runtime: 0 seconds; total runtime: 59 seconds.\n",
      "#### Starting deep galerkin method with seed 2 - 3 out of 10 times\n",
      "Time taken: 77 seconds; L1 error: 4.02E-04; L2 error: 2.90E-07; rel error: 8.23E-03.\n",
      "#### Starting deep BSDE method with seed 2 - 3 out of 10 times\n"
     ]
    },
    {
     "name": "stderr",
     "output_type": "stream",
     "text": [
      "Logs are saved in /home/nprivault/NTU/nguwi_jiang_yu/deep_branching/deep_branching_with_domain/notebooks/logs/tmp\n"
     ]
    },
    {
     "name": "stdout",
     "output_type": "stream",
     "text": [
      "Time taken: 144 seconds; L1 error: 3.91E-03; L2 error: 2.39E-05; rel error: 6.81E-02.\n",
      "\n",
      "\n",
      "#### Starting deep branching method with seed 3 - 4 out of 10 times\n"
     ]
    },
    {
     "name": "stderr",
     "output_type": "stream",
     "text": [
      "Logs are saved in /home/nprivault/NTU/nguwi_jiang_yu/deep_branching/deep_branching_with_domain/notebooks/logs/tmp\n"
     ]
    },
    {
     "name": "stdout",
     "output_type": "stream",
     "text": [
      "Time taken: 59 seconds; L1 error: 1.39E-03; L2 error: 3.62E-06; rel error: 1.72E-02.\n",
      "fdb runtime: 0 seconds; total runtime: 59 seconds.\n",
      "#### Starting deep galerkin method with seed 3 - 4 out of 10 times\n",
      "Time taken: 77 seconds; L1 error: 5.12E-04; L2 error: 3.25E-07; rel error: 8.19E-03.\n",
      "#### Starting deep BSDE method with seed 3 - 4 out of 10 times\n"
     ]
    },
    {
     "name": "stderr",
     "output_type": "stream",
     "text": [
      "Logs are saved in /home/nprivault/NTU/nguwi_jiang_yu/deep_branching/deep_branching_with_domain/notebooks/logs/tmp\n"
     ]
    },
    {
     "name": "stdout",
     "output_type": "stream",
     "text": [
      "Time taken: 148 seconds; L1 error: 2.80E-03; L2 error: 9.90E-06; rel error: 4.47E-02.\n",
      "\n",
      "\n",
      "#### Starting deep branching method with seed 4 - 5 out of 10 times\n"
     ]
    },
    {
     "name": "stderr",
     "output_type": "stream",
     "text": [
      "Logs are saved in /home/nprivault/NTU/nguwi_jiang_yu/deep_branching/deep_branching_with_domain/notebooks/logs/tmp\n"
     ]
    },
    {
     "name": "stdout",
     "output_type": "stream",
     "text": [
      "Time taken: 61 seconds; L1 error: 1.67E-03; L2 error: 5.18E-06; rel error: 2.47E-02.\n",
      "fdb runtime: 0 seconds; total runtime: 61 seconds.\n",
      "#### Starting deep galerkin method with seed 4 - 5 out of 10 times\n",
      "Time taken: 81 seconds; L1 error: 1.63E-04; L2 error: 3.17E-08; rel error: 2.31E-03.\n",
      "#### Starting deep BSDE method with seed 4 - 5 out of 10 times\n"
     ]
    },
    {
     "name": "stderr",
     "output_type": "stream",
     "text": [
      "Logs are saved in /home/nprivault/NTU/nguwi_jiang_yu/deep_branching/deep_branching_with_domain/notebooks/logs/tmp\n"
     ]
    },
    {
     "name": "stdout",
     "output_type": "stream",
     "text": [
      "Time taken: 148 seconds; L1 error: 7.31E-03; L2 error: 6.34E-05; rel error: 1.16E-01.\n",
      "\n",
      "\n",
      "#### Starting deep branching method with seed 5 - 6 out of 10 times\n"
     ]
    },
    {
     "name": "stderr",
     "output_type": "stream",
     "text": [
      "Logs are saved in /home/nprivault/NTU/nguwi_jiang_yu/deep_branching/deep_branching_with_domain/notebooks/logs/tmp\n"
     ]
    },
    {
     "name": "stdout",
     "output_type": "stream",
     "text": [
      "Time taken: 62 seconds; L1 error: 1.49E-03; L2 error: 4.46E-06; rel error: 1.81E-02.\n",
      "fdb runtime: 0 seconds; total runtime: 62 seconds.\n",
      "#### Starting deep galerkin method with seed 5 - 6 out of 10 times\n",
      "Time taken: 68 seconds; L1 error: 4.11E-04; L2 error: 2.75E-07; rel error: 1.11E-02.\n",
      "#### Starting deep BSDE method with seed 5 - 6 out of 10 times\n"
     ]
    },
    {
     "name": "stderr",
     "output_type": "stream",
     "text": [
      "Logs are saved in /home/nprivault/NTU/nguwi_jiang_yu/deep_branching/deep_branching_with_domain/notebooks/logs/tmp\n"
     ]
    },
    {
     "name": "stdout",
     "output_type": "stream",
     "text": [
      "Time taken: 150 seconds; L1 error: 2.35E-03; L2 error: 1.00E-05; rel error: 2.55E-02.\n",
      "\n",
      "\n",
      "#### Starting deep branching method with seed 6 - 7 out of 10 times\n"
     ]
    },
    {
     "name": "stderr",
     "output_type": "stream",
     "text": [
      "Logs are saved in /home/nprivault/NTU/nguwi_jiang_yu/deep_branching/deep_branching_with_domain/notebooks/logs/tmp\n"
     ]
    },
    {
     "name": "stdout",
     "output_type": "stream",
     "text": [
      "Time taken: 63 seconds; L1 error: 1.56E-03; L2 error: 4.31E-06; rel error: 2.66E-02.\n",
      "fdb runtime: 0 seconds; total runtime: 63 seconds.\n",
      "#### Starting deep galerkin method with seed 6 - 7 out of 10 times\n",
      "Time taken: 82 seconds; L1 error: 4.56E-04; L2 error: 4.50E-07; rel error: 1.85E-02.\n",
      "#### Starting deep BSDE method with seed 6 - 7 out of 10 times\n"
     ]
    },
    {
     "name": "stderr",
     "output_type": "stream",
     "text": [
      "Logs are saved in /home/nprivault/NTU/nguwi_jiang_yu/deep_branching/deep_branching_with_domain/notebooks/logs/tmp\n"
     ]
    },
    {
     "name": "stdout",
     "output_type": "stream",
     "text": [
      "Time taken: 148 seconds; L1 error: 2.94E-03; L2 error: 1.33E-05; rel error: 5.35E-02.\n",
      "\n",
      "\n",
      "#### Starting deep branching method with seed 7 - 8 out of 10 times\n"
     ]
    },
    {
     "name": "stderr",
     "output_type": "stream",
     "text": [
      "Logs are saved in /home/nprivault/NTU/nguwi_jiang_yu/deep_branching/deep_branching_with_domain/notebooks/logs/tmp\n"
     ]
    },
    {
     "name": "stdout",
     "output_type": "stream",
     "text": [
      "Time taken: 63 seconds; L1 error: 1.43E-03; L2 error: 3.56E-06; rel error: 1.83E-02.\n",
      "fdb runtime: 0 seconds; total runtime: 63 seconds.\n",
      "#### Starting deep galerkin method with seed 7 - 8 out of 10 times\n",
      "Time taken: 91 seconds; L1 error: 8.19E-04; L2 error: 8.82E-07; rel error: 2.25E-02.\n",
      "#### Starting deep BSDE method with seed 7 - 8 out of 10 times\n"
     ]
    },
    {
     "name": "stderr",
     "output_type": "stream",
     "text": [
      "Logs are saved in /home/nprivault/NTU/nguwi_jiang_yu/deep_branching/deep_branching_with_domain/notebooks/logs/tmp\n"
     ]
    },
    {
     "name": "stdout",
     "output_type": "stream",
     "text": [
      "Time taken: 150 seconds; L1 error: 4.05E-03; L2 error: 3.16E-05; rel error: 2.87E-02.\n",
      "\n",
      "\n",
      "#### Starting deep branching method with seed 8 - 9 out of 10 times\n"
     ]
    },
    {
     "name": "stderr",
     "output_type": "stream",
     "text": [
      "Logs are saved in /home/nprivault/NTU/nguwi_jiang_yu/deep_branching/deep_branching_with_domain/notebooks/logs/tmp\n"
     ]
    },
    {
     "name": "stdout",
     "output_type": "stream",
     "text": [
      "Time taken: 63 seconds; L1 error: 1.01E-03; L2 error: 1.72E-06; rel error: 2.18E-02.\n",
      "fdb runtime: 0 seconds; total runtime: 63 seconds.\n",
      "#### Starting deep galerkin method with seed 8 - 9 out of 10 times\n",
      "Time taken: 78 seconds; L1 error: 3.61E-04; L2 error: 1.81E-07; rel error: 8.79E-03.\n",
      "#### Starting deep BSDE method with seed 8 - 9 out of 10 times\n"
     ]
    },
    {
     "name": "stderr",
     "output_type": "stream",
     "text": [
      "Logs are saved in /home/nprivault/NTU/nguwi_jiang_yu/deep_branching/deep_branching_with_domain/notebooks/logs/tmp\n"
     ]
    },
    {
     "name": "stdout",
     "output_type": "stream",
     "text": [
      "Time taken: 150 seconds; L1 error: 3.51E-03; L2 error: 1.83E-05; rel error: 3.13E-02.\n",
      "\n",
      "\n",
      "#### Starting deep branching method with seed 9 - 10 out of 10 times\n"
     ]
    },
    {
     "name": "stderr",
     "output_type": "stream",
     "text": [
      "Logs are saved in /home/nprivault/NTU/nguwi_jiang_yu/deep_branching/deep_branching_with_domain/notebooks/logs/tmp\n"
     ]
    },
    {
     "name": "stdout",
     "output_type": "stream",
     "text": [
      "Time taken: 66 seconds; L1 error: 1.57E-03; L2 error: 7.75E-06; rel error: 1.40E-02.\n",
      "fdb runtime: 0 seconds; total runtime: 66 seconds.\n",
      "#### Starting deep galerkin method with seed 9 - 10 out of 10 times\n",
      "Time taken: 85 seconds; L1 error: 9.85E-04; L2 error: 1.36E-06; rel error: 2.24E-02.\n",
      "#### Starting deep BSDE method with seed 9 - 10 out of 10 times\n",
      "Time taken: 149 seconds; L1 error: 3.88E-03; L2 error: 1.74E-05; rel error: 5.93E-02.\n",
      "\n",
      "\n",
      "\n",
      "\n",
      "######## Summary for deep branching method\n",
      "runtime:        62\n",
      "fdb runtime:    0\n",
      "total runtime:  62\n",
      "mean L1 error:  1.41E-03\n",
      "std L1 error:   1.85E-04\n",
      "mean L2 error:  4.14E-06\n",
      "std L2 error:   1.54E-06\n",
      "mean rel error: 1.97E-02\n",
      "std rel error:  3.57E-03\n",
      "\n",
      "\n",
      "######## Summary for deep galerkin method\n",
      "runtime:        81\n",
      "mean L1 error:  5.75E-04\n",
      "std L1 error:   3.30E-04\n",
      "mean L2 error:  6.00E-07\n",
      "std L2 error:   5.99E-07\n",
      "mean rel error: 1.32E-02\n",
      "std rel error:  6.57E-03\n",
      "\n",
      "\n",
      "######## Summary for deep BSDE method\n",
      "runtime:        147\n",
      "mean L1 error:  3.92E-03\n",
      "std L1 error:   1.31E-03\n",
      "mean L2 error:  2.47E-05\n",
      "std L2 error:   1.55E-05\n",
      "mean rel error: 5.08E-02\n",
      "std rel error:  2.67E-02\n"
     ]
    },
    {
     "data": {
      "image/png": "[encoded data removed]",
      "text/plain": [
       "<Figure size 432x288 with 1 Axes>"
      ]
     },
     "metadata": {
      "needs_background": "light"
     },
     "output_type": "display_data"
    }
   ],
   "source": [
    "T = 0.5\n",
    "dim = 1\n",
    "grid_d_dim = np.concatenate((x_mid * np.ones((0, 100)), np.expand_dims(grid, axis=0), x_mid * np.ones((dim - 1, 100))), axis=0)\n",
    "grid_d_dim_with_t = np.concatenate((t_lo * np.ones((1, 100)), grid_d_dim), axis=0)    \n",
    "true = exact_example(t_lo, grid_d_dim, T)\n",
    "terminal = exact_example(T, grid_d_dim, T)\n",
    "deriv_map = np.concatenate((np.array([[0] * dim]), 1 * np.identity(dim), 2 * np.identity(dim)), axis=0).astype(int)\n",
    "\n",
    "nu = dim ** 2\n",
    "\n",
    "#grid, grid_d_dim, grid_d_dim_with_t, t_lo, true, terminal, \\\n",
    "#    f_example, deriv_map, phi_example, dgm_f_example = gen_for_generalized_burgers(n=n, T=T)\n",
    "compare_performance(grid, grid_d_dim, grid_d_dim_with_t, t_lo, true, terminal=terminal, # seeds=[0],\n",
    "                    # disable_bsde=True, disable_galerkin=True, verbose=True, debug_mode=True,\n",
    "                    T=T, nu=nu, device=device, epochs=3000, fname=f\"burger\",\n",
    "                    branch_nb_states=1000, branch_nb_path_per_state=20000,\n",
    "                    branch_patches=1, branch_exponential_lambda=-math.log(.95)/T,\n",
    "                    second_order=True, branch_nb_states_per_batch=200,\n",
    "                    bsde_nb_states=1000, bsde_nb_time_intervals=4,\n",
    "                    dgm_nb_states=1000, f_fun=f_example, dgm_f_fun=dgm_f_example,\n",
    "                    deriv_map=deriv_map, dgm_deriv_map=deriv_map, phi_fun=phi_example,\n",
    "                    outlier_percentile=3,\n",
    "                    lr_gamma=0.1, branch_lr=1e-2, branch_activation=\"tanh\", neurons=20, layers=5,\n",
    "                    save_for_best_model=False, save_as_tmp=True)"
   ]
  },
  {
   "cell_type": "code",
   "execution_count": 11,
   "metadata": {},
   "outputs": [
    {
     "name": "stderr",
     "output_type": "stream",
     "text": [
      "Logs are saved in /home/nprivault/NTU/nguwi_jiang_yu/deep_branching/deep_branching_with_domain/notebooks/logs/tmp\n"
     ]
    },
    {
     "name": "stdout",
     "output_type": "stream",
     "text": [
      "#### Starting deep branching method with seed 0 - 1 out of 10 times\n"
     ]
    },
    {
     "name": "stderr",
     "output_type": "stream",
     "text": [
      "Logs are saved in /home/nprivault/NTU/nguwi_jiang_yu/deep_branching/deep_branching_with_domain/notebooks/logs/tmp\n"
     ]
    },
    {
     "name": "stdout",
     "output_type": "stream",
     "text": [
      "Time taken: 58 seconds; L1 error: 1.70E-03; L2 error: 6.65E-06; rel error: 1.68E-02.\n",
      "fdb runtime: 0 seconds; total runtime: 58 seconds.\n",
      "#### Starting deep galerkin method with seed 0 - 1 out of 10 times\n",
      "Time taken: 80 seconds; L1 error: 1.73E-03; L2 error: 3.48E-06; rel error: 2.34E-02.\n",
      "#### Starting deep BSDE method with seed 0 - 1 out of 10 times\n"
     ]
    },
    {
     "name": "stderr",
     "output_type": "stream",
     "text": [
      "Logs are saved in /home/nprivault/NTU/nguwi_jiang_yu/deep_branching/deep_branching_with_domain/notebooks/logs/tmp\n"
     ]
    },
    {
     "name": "stdout",
     "output_type": "stream",
     "text": [
      "Time taken: 150 seconds; L1 error: 4.13E-03; L2 error: 3.02E-05; rel error: 5.71E-02.\n",
      "\n",
      "\n",
      "#### Starting deep branching method with seed 1 - 2 out of 10 times\n"
     ]
    },
    {
     "name": "stderr",
     "output_type": "stream",
     "text": [
      "Logs are saved in /home/nprivault/NTU/nguwi_jiang_yu/deep_branching/deep_branching_with_domain/notebooks/logs/tmp\n"
     ]
    },
    {
     "name": "stdout",
     "output_type": "stream",
     "text": [
      "Time taken: 60 seconds; L1 error: 2.54E-03; L2 error: 1.45E-05; rel error: 2.46E-02.\n",
      "fdb runtime: 0 seconds; total runtime: 60 seconds.\n",
      "#### Starting deep galerkin method with seed 1 - 2 out of 10 times\n",
      "Time taken: 82 seconds; L1 error: 3.95E-04; L2 error: 2.93E-07; rel error: 1.43E-02.\n",
      "#### Starting deep BSDE method with seed 1 - 2 out of 10 times\n"
     ]
    },
    {
     "name": "stderr",
     "output_type": "stream",
     "text": [
      "Logs are saved in /home/nprivault/NTU/nguwi_jiang_yu/deep_branching/deep_branching_with_domain/notebooks/logs/tmp\n"
     ]
    },
    {
     "name": "stdout",
     "output_type": "stream",
     "text": [
      "Time taken: 149 seconds; L1 error: 5.61E-03; L2 error: 4.95E-05; rel error: 4.17E-02.\n",
      "\n",
      "\n",
      "#### Starting deep branching method with seed 2 - 3 out of 10 times\n"
     ]
    },
    {
     "name": "stderr",
     "output_type": "stream",
     "text": [
      "Logs are saved in /home/nprivault/NTU/nguwi_jiang_yu/deep_branching/deep_branching_with_domain/notebooks/logs/tmp\n"
     ]
    },
    {
     "name": "stdout",
     "output_type": "stream",
     "text": [
      "Time taken: 60 seconds; L1 error: 1.42E-03; L2 error: 3.40E-06; rel error: 2.14E-02.\n",
      "fdb runtime: 0 seconds; total runtime: 60 seconds.\n",
      "#### Starting deep galerkin method with seed 2 - 3 out of 10 times\n",
      "Time taken: 77 seconds; L1 error: 4.10E-04; L2 error: 3.22E-07; rel error: 1.31E-02.\n",
      "#### Starting deep BSDE method with seed 2 - 3 out of 10 times\n"
     ]
    },
    {
     "name": "stderr",
     "output_type": "stream",
     "text": [
      "Logs are saved in /home/nprivault/NTU/nguwi_jiang_yu/deep_branching/deep_branching_with_domain/notebooks/logs/tmp\n"
     ]
    },
    {
     "name": "stdout",
     "output_type": "stream",
     "text": [
      "Time taken: 144 seconds; L1 error: 4.66E-03; L2 error: 3.86E-05; rel error: 5.65E-02.\n",
      "\n",
      "\n",
      "#### Starting deep branching method with seed 3 - 4 out of 10 times\n"
     ]
    },
    {
     "name": "stderr",
     "output_type": "stream",
     "text": [
      "Logs are saved in /home/nprivault/NTU/nguwi_jiang_yu/deep_branching/deep_branching_with_domain/notebooks/logs/tmp\n"
     ]
    },
    {
     "name": "stdout",
     "output_type": "stream",
     "text": [
      "Time taken: 60 seconds; L1 error: 2.65E-03; L2 error: 1.16E-05; rel error: 2.50E-02.\n",
      "fdb runtime: 0 seconds; total runtime: 60 seconds.\n",
      "#### Starting deep galerkin method with seed 3 - 4 out of 10 times\n",
      "Time taken: 78 seconds; L1 error: 4.91E-04; L2 error: 3.03E-07; rel error: 1.06E-02.\n",
      "#### Starting deep BSDE method with seed 3 - 4 out of 10 times\n"
     ]
    },
    {
     "name": "stderr",
     "output_type": "stream",
     "text": [
      "Logs are saved in /home/nprivault/NTU/nguwi_jiang_yu/deep_branching/deep_branching_with_domain/notebooks/logs/tmp\n"
     ]
    },
    {
     "name": "stdout",
     "output_type": "stream",
     "text": [
      "Time taken: 150 seconds; L1 error: 3.50E-03; L2 error: 1.75E-05; rel error: 5.06E-02.\n",
      "\n",
      "\n",
      "#### Starting deep branching method with seed 4 - 5 out of 10 times\n"
     ]
    },
    {
     "name": "stderr",
     "output_type": "stream",
     "text": [
      "Logs are saved in /home/nprivault/NTU/nguwi_jiang_yu/deep_branching/deep_branching_with_domain/notebooks/logs/tmp\n"
     ]
    },
    {
     "name": "stdout",
     "output_type": "stream",
     "text": [
      "Time taken: 58 seconds; L1 error: 2.56E-03; L2 error: 1.36E-05; rel error: 4.30E-02.\n",
      "fdb runtime: 0 seconds; total runtime: 58 seconds.\n",
      "#### Starting deep galerkin method with seed 4 - 5 out of 10 times\n",
      "Time taken: 67 seconds; L1 error: 1.91E-04; L2 error: 4.87E-08; rel error: 2.82E-03.\n",
      "#### Starting deep BSDE method with seed 4 - 5 out of 10 times\n"
     ]
    },
    {
     "name": "stderr",
     "output_type": "stream",
     "text": [
      "Logs are saved in /home/nprivault/NTU/nguwi_jiang_yu/deep_branching/deep_branching_with_domain/notebooks/logs/tmp\n"
     ]
    },
    {
     "name": "stdout",
     "output_type": "stream",
     "text": [
      "Time taken: 149 seconds; L1 error: 7.10E-03; L2 error: 6.46E-05; rel error: 1.01E-01.\n",
      "\n",
      "\n",
      "#### Starting deep branching method with seed 5 - 6 out of 10 times\n"
     ]
    },
    {
     "name": "stderr",
     "output_type": "stream",
     "text": [
      "Logs are saved in /home/nprivault/NTU/nguwi_jiang_yu/deep_branching/deep_branching_with_domain/notebooks/logs/tmp\n"
     ]
    },
    {
     "name": "stdout",
     "output_type": "stream",
     "text": [
      "Time taken: 63 seconds; L1 error: 2.10E-03; L2 error: 9.22E-06; rel error: 1.67E-02.\n",
      "fdb runtime: 0 seconds; total runtime: 63 seconds.\n",
      "#### Starting deep galerkin method with seed 5 - 6 out of 10 times\n",
      "Time taken: 73 seconds; L1 error: 5.62E-04; L2 error: 5.60E-07; rel error: 1.84E-02.\n",
      "#### Starting deep BSDE method with seed 5 - 6 out of 10 times\n"
     ]
    },
    {
     "name": "stderr",
     "output_type": "stream",
     "text": [
      "Logs are saved in /home/nprivault/NTU/nguwi_jiang_yu/deep_branching/deep_branching_with_domain/notebooks/logs/tmp\n"
     ]
    },
    {
     "name": "stdout",
     "output_type": "stream",
     "text": [
      "Time taken: 149 seconds; L1 error: 2.87E-03; L2 error: 1.20E-05; rel error: 4.38E-02.\n",
      "\n",
      "\n",
      "#### Starting deep branching method with seed 6 - 7 out of 10 times\n"
     ]
    },
    {
     "name": "stderr",
     "output_type": "stream",
     "text": [
      "Logs are saved in /home/nprivault/NTU/nguwi_jiang_yu/deep_branching/deep_branching_with_domain/notebooks/logs/tmp\n"
     ]
    },
    {
     "name": "stdout",
     "output_type": "stream",
     "text": [
      "Time taken: 61 seconds; L1 error: 2.25E-03; L2 error: 9.87E-06; rel error: 2.71E-02.\n",
      "fdb runtime: 0 seconds; total runtime: 61 seconds.\n",
      "#### Starting deep galerkin method with seed 6 - 7 out of 10 times\n",
      "Time taken: 75 seconds; L1 error: 6.02E-04; L2 error: 1.03E-06; rel error: 3.23E-02.\n",
      "#### Starting deep BSDE method with seed 6 - 7 out of 10 times\n"
     ]
    },
    {
     "name": "stderr",
     "output_type": "stream",
     "text": [
      "Logs are saved in /home/nprivault/NTU/nguwi_jiang_yu/deep_branching/deep_branching_with_domain/notebooks/logs/tmp\n"
     ]
    },
    {
     "name": "stdout",
     "output_type": "stream",
     "text": [
      "Time taken: 149 seconds; L1 error: 3.48E-03; L2 error: 2.50E-05; rel error: 5.93E-02.\n",
      "\n",
      "\n",
      "#### Starting deep branching method with seed 7 - 8 out of 10 times\n"
     ]
    },
    {
     "name": "stderr",
     "output_type": "stream",
     "text": [
      "Logs are saved in /home/nprivault/NTU/nguwi_jiang_yu/deep_branching/deep_branching_with_domain/notebooks/logs/tmp\n"
     ]
    },
    {
     "name": "stdout",
     "output_type": "stream",
     "text": [
      "Time taken: 62 seconds; L1 error: 2.05E-03; L2 error: 8.07E-06; rel error: 2.61E-02.\n",
      "fdb runtime: 0 seconds; total runtime: 62 seconds.\n",
      "#### Starting deep galerkin method with seed 7 - 8 out of 10 times\n",
      "Time taken: 76 seconds; L1 error: 9.36E-04; L2 error: 1.29E-06; rel error: 3.13E-02.\n",
      "#### Starting deep BSDE method with seed 7 - 8 out of 10 times\n"
     ]
    },
    {
     "name": "stderr",
     "output_type": "stream",
     "text": [
      "Logs are saved in /home/nprivault/NTU/nguwi_jiang_yu/deep_branching/deep_branching_with_domain/notebooks/logs/tmp\n"
     ]
    },
    {
     "name": "stdout",
     "output_type": "stream",
     "text": [
      "Time taken: 149 seconds; L1 error: 4.70E-03; L2 error: 3.98E-05; rel error: 3.65E-02.\n",
      "\n",
      "\n",
      "#### Starting deep branching method with seed 8 - 9 out of 10 times\n"
     ]
    },
    {
     "name": "stderr",
     "output_type": "stream",
     "text": [
      "Logs are saved in /home/nprivault/NTU/nguwi_jiang_yu/deep_branching/deep_branching_with_domain/notebooks/logs/tmp\n"
     ]
    },
    {
     "name": "stdout",
     "output_type": "stream",
     "text": [
      "Time taken: 63 seconds; L1 error: 1.82E-03; L2 error: 5.43E-06; rel error: 2.12E-02.\n",
      "fdb runtime: 0 seconds; total runtime: 63 seconds.\n",
      "#### Starting deep galerkin method with seed 8 - 9 out of 10 times\n",
      "Time taken: 72 seconds; L1 error: 3.94E-04; L2 error: 2.20E-07; rel error: 1.12E-02.\n",
      "#### Starting deep BSDE method with seed 8 - 9 out of 10 times\n"
     ]
    },
    {
     "name": "stderr",
     "output_type": "stream",
     "text": [
      "Logs are saved in /home/nprivault/NTU/nguwi_jiang_yu/deep_branching/deep_branching_with_domain/notebooks/logs/tmp\n"
     ]
    },
    {
     "name": "stdout",
     "output_type": "stream",
     "text": [
      "Time taken: 147 seconds; L1 error: 4.34E-03; L2 error: 2.54E-05; rel error: 3.65E-02.\n",
      "\n",
      "\n",
      "#### Starting deep branching method with seed 9 - 10 out of 10 times\n"
     ]
    },
    {
     "name": "stderr",
     "output_type": "stream",
     "text": [
      "Logs are saved in /home/nprivault/NTU/nguwi_jiang_yu/deep_branching/deep_branching_with_domain/notebooks/logs/tmp\n"
     ]
    },
    {
     "name": "stdout",
     "output_type": "stream",
     "text": [
      "Time taken: 64 seconds; L1 error: 2.81E-03; L2 error: 2.25E-05; rel error: 2.82E-02.\n",
      "fdb runtime: 0 seconds; total runtime: 64 seconds.\n",
      "#### Starting deep galerkin method with seed 9 - 10 out of 10 times\n",
      "Time taken: 77 seconds; L1 error: 1.00E-03; L2 error: 1.49E-06; rel error: 2.86E-02.\n",
      "#### Starting deep BSDE method with seed 9 - 10 out of 10 times\n",
      "Time taken: 147 seconds; L1 error: 5.01E-03; L2 error: 3.08E-05; rel error: 6.57E-02.\n",
      "\n",
      "\n",
      "\n",
      "\n",
      "######## Summary for deep branching method\n",
      "runtime:        61\n",
      "fdb runtime:    0\n",
      "total runtime:  61\n",
      "mean L1 error:  2.19E-03\n",
      "std L1 error:   4.32E-04\n",
      "mean L2 error:  1.05E-05\n",
      "std L2 error:   5.21E-06\n",
      "mean rel error: 2.50E-02\n",
      "std rel error:  7.10E-03\n",
      "\n",
      "\n",
      "######## Summary for deep galerkin method\n",
      "runtime:        76\n",
      "mean L1 error:  6.71E-04\n",
      "std L1 error:   4.23E-04\n",
      "mean L2 error:  9.04E-07\n",
      "std L2 error:   9.78E-07\n",
      "mean rel error: 1.86E-02\n",
      "std rel error:  9.42E-03\n",
      "\n",
      "\n",
      "######## Summary for deep BSDE method\n",
      "runtime:        148\n",
      "mean L1 error:  4.54E-03\n",
      "std L1 error:   1.15E-03\n",
      "mean L2 error:  3.33E-05\n",
      "std L2 error:   1.47E-05\n",
      "mean rel error: 5.48E-02\n",
      "std rel error:  1.80E-02\n"
     ]
    },
    {
     "data": {
      "image/png": "[encoded data removed]",
      "text/plain": [
       "<Figure size 432x288 with 1 Axes>"
      ]
     },
     "metadata": {
      "needs_background": "light"
     },
     "output_type": "display_data"
    }
   ],
   "source": [
    "T = 0.625\n",
    "dim = 1\n",
    "grid_d_dim = np.concatenate((x_mid * np.ones((0, 100)), np.expand_dims(grid, axis=0), x_mid * np.ones((dim - 1, 100))), axis=0)\n",
    "grid_d_dim_with_t = np.concatenate((t_lo * np.ones((1, 100)), grid_d_dim), axis=0)    \n",
    "true = exact_example(t_lo, grid_d_dim, T)\n",
    "terminal = exact_example(T, grid_d_dim, T)\n",
    "deriv_map = np.concatenate((np.array([[0] * dim]), 1 * np.identity(dim), 2 * np.identity(dim)), axis=0).astype(int)\n",
    "\n",
    "nu = dim ** 2\n",
    "\n",
    "#grid, grid_d_dim, grid_d_dim_with_t, t_lo, true, terminal, \\\n",
    "#    f_example, deriv_map, phi_example, dgm_f_example = gen_for_generalized_burgers(n=n, T=T)\n",
    "compare_performance(grid, grid_d_dim, grid_d_dim_with_t, t_lo, true, terminal=terminal, # seeds=[0],\n",
    "                    # disable_bsde=True, disable_galerkin=True, verbose=True, debug_mode=True,\n",
    "                    T=T, nu=nu, device=device, epochs=3000, fname=f\"burger\",\n",
    "                    branch_nb_states=1000, branch_nb_path_per_state=20000,\n",
    "                    branch_patches=1, branch_exponential_lambda=-math.log(.95)/T,\n",
    "                    second_order=True, branch_nb_states_per_batch=200,\n",
    "                    bsde_nb_states=1000, bsde_nb_time_intervals=4,\n",
    "                    dgm_nb_states=1000, f_fun=f_example, dgm_f_fun=dgm_f_example,\n",
    "                    deriv_map=deriv_map, dgm_deriv_map=deriv_map, phi_fun=phi_example,\n",
    "                    outlier_percentile=3,\n",
    "                    lr_gamma=0.1, branch_lr=1e-2, branch_activation=\"tanh\", neurons=20, layers=5,\n",
    "                    save_for_best_model=False, save_as_tmp=True)"
   ]
  },
  {
   "cell_type": "code",
   "execution_count": 12,
   "metadata": {},
   "outputs": [
    {
     "name": "stderr",
     "output_type": "stream",
     "text": [
      "Logs are saved in /home/nprivault/NTU/nguwi_jiang_yu/deep_branching/deep_branching_with_domain/notebooks/logs/tmp\n"
     ]
    },
    {
     "name": "stdout",
     "output_type": "stream",
     "text": [
      "#### Starting deep branching method with seed 0 - 1 out of 10 times\n"
     ]
    },
    {
     "name": "stderr",
     "output_type": "stream",
     "text": [
      "Logs are saved in /home/nprivault/NTU/nguwi_jiang_yu/deep_branching/deep_branching_with_domain/notebooks/logs/tmp\n"
     ]
    },
    {
     "name": "stdout",
     "output_type": "stream",
     "text": [
      "Time taken: 62 seconds; L1 error: 2.87E-03; L2 error: 2.14E-05; rel error: 3.03E-02.\n",
      "fdb runtime: 0 seconds; total runtime: 62 seconds.\n",
      "#### Starting deep galerkin method with seed 0 - 1 out of 10 times\n",
      "Time taken: 84 seconds; L1 error: 1.98E-03; L2 error: 4.70E-06; rel error: 2.45E-02.\n",
      "#### Starting deep BSDE method with seed 0 - 1 out of 10 times\n"
     ]
    },
    {
     "name": "stderr",
     "output_type": "stream",
     "text": [
      "Logs are saved in /home/nprivault/NTU/nguwi_jiang_yu/deep_branching/deep_branching_with_domain/notebooks/logs/tmp\n"
     ]
    },
    {
     "name": "stdout",
     "output_type": "stream",
     "text": [
      "Time taken: 147 seconds; L1 error: 4.93E-03; L2 error: 4.64E-05; rel error: 6.11E-02.\n",
      "\n",
      "\n",
      "#### Starting deep branching method with seed 1 - 2 out of 10 times\n"
     ]
    },
    {
     "name": "stderr",
     "output_type": "stream",
     "text": [
      "Logs are saved in /home/nprivault/NTU/nguwi_jiang_yu/deep_branching/deep_branching_with_domain/notebooks/logs/tmp\n"
     ]
    },
    {
     "name": "stdout",
     "output_type": "stream",
     "text": [
      "Time taken: 62 seconds; L1 error: 4.04E-03; L2 error: 3.32E-05; rel error: 5.57E-02.\n",
      "fdb runtime: 0 seconds; total runtime: 62 seconds.\n",
      "#### Starting deep galerkin method with seed 1 - 2 out of 10 times\n",
      "Time taken: 78 seconds; L1 error: 4.90E-04; L2 error: 4.75E-07; rel error: 1.97E-02.\n",
      "#### Starting deep BSDE method with seed 1 - 2 out of 10 times\n"
     ]
    },
    {
     "name": "stderr",
     "output_type": "stream",
     "text": [
      "Logs are saved in /home/nprivault/NTU/nguwi_jiang_yu/deep_branching/deep_branching_with_domain/notebooks/logs/tmp\n"
     ]
    },
    {
     "name": "stdout",
     "output_type": "stream",
     "text": [
      "Time taken: 148 seconds; L1 error: 6.51E-03; L2 error: 6.52E-05; rel error: 6.33E-02.\n",
      "\n",
      "\n",
      "#### Starting deep branching method with seed 2 - 3 out of 10 times\n"
     ]
    },
    {
     "name": "stderr",
     "output_type": "stream",
     "text": [
      "Logs are saved in /home/nprivault/NTU/nguwi_jiang_yu/deep_branching/deep_branching_with_domain/notebooks/logs/tmp\n"
     ]
    },
    {
     "name": "stdout",
     "output_type": "stream",
     "text": [
      "Time taken: 62 seconds; L1 error: 2.32E-03; L2 error: 9.71E-06; rel error: 1.87E-02.\n",
      "fdb runtime: 0 seconds; total runtime: 62 seconds.\n",
      "#### Starting deep galerkin method with seed 2 - 3 out of 10 times\n",
      "Time taken: 72 seconds; L1 error: 4.39E-04; L2 error: 3.28E-07; rel error: 1.23E-02.\n",
      "#### Starting deep BSDE method with seed 2 - 3 out of 10 times\n"
     ]
    },
    {
     "name": "stderr",
     "output_type": "stream",
     "text": [
      "Logs are saved in /home/nprivault/NTU/nguwi_jiang_yu/deep_branching/deep_branching_with_domain/notebooks/logs/tmp\n"
     ]
    },
    {
     "name": "stdout",
     "output_type": "stream",
     "text": [
      "Time taken: 146 seconds; L1 error: 5.08E-03; L2 error: 5.73E-05; rel error: 5.92E-02.\n",
      "\n",
      "\n",
      "#### Starting deep branching method with seed 3 - 4 out of 10 times\n"
     ]
    },
    {
     "name": "stderr",
     "output_type": "stream",
     "text": [
      "Logs are saved in /home/nprivault/NTU/nguwi_jiang_yu/deep_branching/deep_branching_with_domain/notebooks/logs/tmp\n"
     ]
    },
    {
     "name": "stdout",
     "output_type": "stream",
     "text": [
      "Time taken: 57 seconds; L1 error: 4.17E-03; L2 error: 3.01E-05; rel error: 6.58E-02.\n",
      "fdb runtime: 0 seconds; total runtime: 57 seconds.\n",
      "#### Starting deep galerkin method with seed 3 - 4 out of 10 times\n",
      "Time taken: 79 seconds; L1 error: 4.79E-04; L2 error: 3.32E-07; rel error: 1.30E-02.\n",
      "#### Starting deep BSDE method with seed 3 - 4 out of 10 times\n"
     ]
    },
    {
     "name": "stderr",
     "output_type": "stream",
     "text": [
      "Logs are saved in /home/nprivault/NTU/nguwi_jiang_yu/deep_branching/deep_branching_with_domain/notebooks/logs/tmp\n"
     ]
    },
    {
     "name": "stdout",
     "output_type": "stream",
     "text": [
      "Time taken: 150 seconds; L1 error: 5.03E-03; L2 error: 4.02E-05; rel error: 5.28E-02.\n",
      "\n",
      "\n",
      "#### Starting deep branching method with seed 4 - 5 out of 10 times\n"
     ]
    },
    {
     "name": "stderr",
     "output_type": "stream",
     "text": [
      "Logs are saved in /home/nprivault/NTU/nguwi_jiang_yu/deep_branching/deep_branching_with_domain/notebooks/logs/tmp\n"
     ]
    },
    {
     "name": "stdout",
     "output_type": "stream",
     "text": [
      "Time taken: 58 seconds; L1 error: 3.39E-03; L2 error: 2.56E-05; rel error: 6.84E-02.\n",
      "fdb runtime: 0 seconds; total runtime: 58 seconds.\n",
      "#### Starting deep galerkin method with seed 4 - 5 out of 10 times\n",
      "Time taken: 86 seconds; L1 error: 2.46E-04; L2 error: 8.05E-08; rel error: 3.13E-03.\n",
      "#### Starting deep BSDE method with seed 4 - 5 out of 10 times\n"
     ]
    },
    {
     "name": "stderr",
     "output_type": "stream",
     "text": [
      "Logs are saved in /home/nprivault/NTU/nguwi_jiang_yu/deep_branching/deep_branching_with_domain/notebooks/logs/tmp\n"
     ]
    },
    {
     "name": "stdout",
     "output_type": "stream",
     "text": [
      "Time taken: 148 seconds; L1 error: 7.52E-03; L2 error: 8.62E-05; rel error: 1.14E-01.\n",
      "\n",
      "\n",
      "#### Starting deep branching method with seed 5 - 6 out of 10 times\n"
     ]
    },
    {
     "name": "stderr",
     "output_type": "stream",
     "text": [
      "Logs are saved in /home/nprivault/NTU/nguwi_jiang_yu/deep_branching/deep_branching_with_domain/notebooks/logs/tmp\n"
     ]
    },
    {
     "name": "stdout",
     "output_type": "stream",
     "text": [
      "Time taken: 60 seconds; L1 error: 3.39E-03; L2 error: 2.55E-05; rel error: 3.00E-02.\n",
      "fdb runtime: 0 seconds; total runtime: 60 seconds.\n",
      "#### Starting deep galerkin method with seed 5 - 6 out of 10 times\n",
      "Time taken: 74 seconds; L1 error: 7.76E-04; L2 error: 1.11E-06; rel error: 2.92E-02.\n",
      "#### Starting deep BSDE method with seed 5 - 6 out of 10 times\n"
     ]
    },
    {
     "name": "stderr",
     "output_type": "stream",
     "text": [
      "Logs are saved in /home/nprivault/NTU/nguwi_jiang_yu/deep_branching/deep_branching_with_domain/notebooks/logs/tmp\n"
     ]
    },
    {
     "name": "stdout",
     "output_type": "stream",
     "text": [
      "Time taken: 150 seconds; L1 error: 4.82E-03; L2 error: 3.99E-05; rel error: 8.69E-02.\n",
      "\n",
      "\n",
      "#### Starting deep branching method with seed 6 - 7 out of 10 times\n"
     ]
    },
    {
     "name": "stderr",
     "output_type": "stream",
     "text": [
      "Logs are saved in /home/nprivault/NTU/nguwi_jiang_yu/deep_branching/deep_branching_with_domain/notebooks/logs/tmp\n"
     ]
    },
    {
     "name": "stdout",
     "output_type": "stream",
     "text": [
      "Time taken: 61 seconds; L1 error: 3.42E-03; L2 error: 2.75E-05; rel error: 2.96E-02.\n",
      "fdb runtime: 0 seconds; total runtime: 61 seconds.\n",
      "#### Starting deep galerkin method with seed 6 - 7 out of 10 times\n",
      "Time taken: 89 seconds; L1 error: 7.72E-04; L2 error: 1.96E-06; rel error: 4.75E-02.\n",
      "#### Starting deep BSDE method with seed 6 - 7 out of 10 times\n"
     ]
    },
    {
     "name": "stderr",
     "output_type": "stream",
     "text": [
      "Logs are saved in /home/nprivault/NTU/nguwi_jiang_yu/deep_branching/deep_branching_with_domain/notebooks/logs/tmp\n"
     ]
    },
    {
     "name": "stdout",
     "output_type": "stream",
     "text": [
      "Time taken: 151 seconds; L1 error: 4.88E-03; L2 error: 4.04E-05; rel error: 7.41E-02.\n",
      "\n",
      "\n",
      "#### Starting deep branching method with seed 7 - 8 out of 10 times\n"
     ]
    },
    {
     "name": "stderr",
     "output_type": "stream",
     "text": [
      "Logs are saved in /home/nprivault/NTU/nguwi_jiang_yu/deep_branching/deep_branching_with_domain/notebooks/logs/tmp\n"
     ]
    },
    {
     "name": "stdout",
     "output_type": "stream",
     "text": [
      "Time taken: 62 seconds; L1 error: 3.19E-03; L2 error: 2.11E-05; rel error: 5.31E-02.\n",
      "fdb runtime: 0 seconds; total runtime: 62 seconds.\n",
      "#### Starting deep galerkin method with seed 7 - 8 out of 10 times\n",
      "Time taken: 84 seconds; L1 error: 1.12E-03; L2 error: 2.31E-06; rel error: 4.77E-02.\n",
      "#### Starting deep BSDE method with seed 7 - 8 out of 10 times\n"
     ]
    },
    {
     "name": "stderr",
     "output_type": "stream",
     "text": [
      "Logs are saved in /home/nprivault/NTU/nguwi_jiang_yu/deep_branching/deep_branching_with_domain/notebooks/logs/tmp\n"
     ]
    },
    {
     "name": "stdout",
     "output_type": "stream",
     "text": [
      "Time taken: 147 seconds; L1 error: 6.20E-03; L2 error: 6.59E-05; rel error: 5.35E-02.\n",
      "\n",
      "\n",
      "#### Starting deep branching method with seed 8 - 9 out of 10 times\n"
     ]
    },
    {
     "name": "stderr",
     "output_type": "stream",
     "text": [
      "Logs are saved in /home/nprivault/NTU/nguwi_jiang_yu/deep_branching/deep_branching_with_domain/notebooks/logs/tmp\n"
     ]
    },
    {
     "name": "stdout",
     "output_type": "stream",
     "text": [
      "Time taken: 60 seconds; L1 error: 2.72E-03; L2 error: 1.38E-05; rel error: 2.38E-02.\n",
      "fdb runtime: 0 seconds; total runtime: 60 seconds.\n",
      "#### Starting deep galerkin method with seed 8 - 9 out of 10 times\n",
      "Time taken: 74 seconds; L1 error: 4.39E-04; L2 error: 2.91E-07; rel error: 1.44E-02.\n",
      "#### Starting deep BSDE method with seed 8 - 9 out of 10 times\n"
     ]
    },
    {
     "name": "stderr",
     "output_type": "stream",
     "text": [
      "Logs are saved in /home/nprivault/NTU/nguwi_jiang_yu/deep_branching/deep_branching_with_domain/notebooks/logs/tmp\n"
     ]
    },
    {
     "name": "stdout",
     "output_type": "stream",
     "text": [
      "Time taken: 149 seconds; L1 error: 5.55E-03; L2 error: 4.45E-05; rel error: 7.90E-02.\n",
      "\n",
      "\n",
      "#### Starting deep branching method with seed 9 - 10 out of 10 times\n"
     ]
    },
    {
     "name": "stderr",
     "output_type": "stream",
     "text": [
      "Logs are saved in /home/nprivault/NTU/nguwi_jiang_yu/deep_branching/deep_branching_with_domain/notebooks/logs/tmp\n"
     ]
    },
    {
     "name": "stdout",
     "output_type": "stream",
     "text": [
      "Time taken: 64 seconds; L1 error: 4.02E-03; L2 error: 4.53E-05; rel error: 3.44E-02.\n",
      "fdb runtime: 0 seconds; total runtime: 64 seconds.\n",
      "#### Starting deep galerkin method with seed 9 - 10 out of 10 times\n",
      "Time taken: 70 seconds; L1 error: 1.01E-03; L2 error: 1.90E-06; rel error: 3.78E-02.\n",
      "#### Starting deep BSDE method with seed 9 - 10 out of 10 times\n",
      "Time taken: 144 seconds; L1 error: 5.56E-03; L2 error: 4.02E-05; rel error: 7.47E-02.\n",
      "\n",
      "\n",
      "\n",
      "\n",
      "######## Summary for deep branching method\n",
      "runtime:        61\n",
      "fdb runtime:    0\n",
      "total runtime:  61\n",
      "mean L1 error:  3.35E-03\n",
      "std L1 error:   5.76E-04\n",
      "mean L2 error:  2.53E-05\n",
      "std L2 error:   9.48E-06\n",
      "mean rel error: 4.10E-02\n",
      "std rel error:  1.71E-02\n",
      "\n",
      "\n",
      "######## Summary for deep galerkin method\n",
      "runtime:        79\n",
      "mean L1 error:  7.75E-04\n",
      "std L1 error:   4.79E-04\n",
      "mean L2 error:  1.35E-06\n",
      "std L2 error:   1.36E-06\n",
      "mean rel error: 2.49E-02\n",
      "std rel error:  1.46E-02\n",
      "\n",
      "\n",
      "######## Summary for deep BSDE method\n",
      "runtime:        148\n",
      "mean L1 error:  5.61E-03\n",
      "std L1 error:   8.39E-04\n",
      "mean L2 error:  5.26E-05\n",
      "std L2 error:   1.49E-05\n",
      "mean rel error: 7.18E-02\n",
      "std rel error:  1.76E-02\n"
     ]
    },
    {
     "data": {
      "image/png": "[encoded data removed]",
      "text/plain": [
       "<Figure size 432x288 with 1 Axes>"
      ]
     },
     "metadata": {
      "needs_background": "light"
     },
     "output_type": "display_data"
    }
   ],
   "source": [
    "T = 0.75\n",
    "dim = 1\n",
    "grid_d_dim = np.concatenate((x_mid * np.ones((0, 100)), np.expand_dims(grid, axis=0), x_mid * np.ones((dim - 1, 100))), axis=0)\n",
    "grid_d_dim_with_t = np.concatenate((t_lo * np.ones((1, 100)), grid_d_dim), axis=0)    \n",
    "true = exact_example(t_lo, grid_d_dim, T)\n",
    "terminal = exact_example(T, grid_d_dim, T)\n",
    "deriv_map = np.concatenate((np.array([[0] * dim]), 1 * np.identity(dim), 2 * np.identity(dim)), axis=0).astype(int)\n",
    "\n",
    "nu = dim ** 2\n",
    "\n",
    "#grid, grid_d_dim, grid_d_dim_with_t, t_lo, true, terminal, \\\n",
    "#    f_example, deriv_map, phi_example, dgm_f_example = gen_for_generalized_burgers(n=n, T=T)\n",
    "compare_performance(grid, grid_d_dim, grid_d_dim_with_t, t_lo, true, terminal=terminal, # seeds=[0],\n",
    "                    # disable_bsde=True, disable_galerkin=True, verbose=True, debug_mode=True,\n",
    "                    T=T, nu=nu, device=device, epochs=3000, fname=f\"burger\",\n",
    "                    branch_nb_states=1000, branch_nb_path_per_state=20000,\n",
    "                    branch_patches=1, branch_exponential_lambda=-math.log(.95)/T,\n",
    "                    second_order=True, branch_nb_states_per_batch=200,\n",
    "                    bsde_nb_states=1000, bsde_nb_time_intervals=4,\n",
    "                    dgm_nb_states=1000, f_fun=f_example, dgm_f_fun=dgm_f_example,\n",
    "                    deriv_map=deriv_map, dgm_deriv_map=deriv_map, phi_fun=phi_example,\n",
    "                    outlier_percentile=3,\n",
    "                    lr_gamma=0.1, branch_lr=1e-2, branch_activation=\"tanh\", neurons=20, layers=5,\n",
    "                    save_for_best_model=False, save_as_tmp=True)"
   ]
  },
  {
   "cell_type": "code",
   "execution_count": 13,
   "metadata": {},
   "outputs": [
    {
     "name": "stderr",
     "output_type": "stream",
     "text": [
      "Logs are saved in /home/nprivault/NTU/nguwi_jiang_yu/deep_branching/deep_branching_with_domain/notebooks/logs/tmp\n"
     ]
    },
    {
     "name": "stdout",
     "output_type": "stream",
     "text": [
      "#### Starting deep branching method with seed 0 - 1 out of 10 times\n"
     ]
    },
    {
     "name": "stderr",
     "output_type": "stream",
     "text": [
      "Logs are saved in /home/nprivault/NTU/nguwi_jiang_yu/deep_branching/deep_branching_with_domain/notebooks/logs/tmp\n"
     ]
    },
    {
     "name": "stdout",
     "output_type": "stream",
     "text": [
      "Time taken: 62 seconds; L1 error: 4.24E-03; L2 error: 3.79E-05; rel error: 6.92E-02.\n",
      "fdb runtime: 0 seconds; total runtime: 62 seconds.\n",
      "#### Starting deep galerkin method with seed 0 - 1 out of 10 times\n",
      "Time taken: 71 seconds; L1 error: 1.26E-03; L2 error: 3.64E-06; rel error: 6.35E-02.\n",
      "#### Starting deep BSDE method with seed 0 - 1 out of 10 times\n"
     ]
    },
    {
     "name": "stderr",
     "output_type": "stream",
     "text": [
      "Logs are saved in /home/nprivault/NTU/nguwi_jiang_yu/deep_branching/deep_branching_with_domain/notebooks/logs/tmp\n"
     ]
    },
    {
     "name": "stdout",
     "output_type": "stream",
     "text": [
      "Time taken: 147 seconds; L1 error: 5.94E-03; L2 error: 7.06E-05; rel error: 7.38E-02.\n",
      "\n",
      "\n",
      "#### Starting deep branching method with seed 1 - 2 out of 10 times\n"
     ]
    },
    {
     "name": "stderr",
     "output_type": "stream",
     "text": [
      "Logs are saved in /home/nprivault/NTU/nguwi_jiang_yu/deep_branching/deep_branching_with_domain/notebooks/logs/tmp\n"
     ]
    },
    {
     "name": "stdout",
     "output_type": "stream",
     "text": [
      "Time taken: 62 seconds; L1 error: 5.92E-03; L2 error: 6.87E-05; rel error: 1.00E-01.\n",
      "fdb runtime: 0 seconds; total runtime: 62 seconds.\n",
      "#### Starting deep galerkin method with seed 1 - 2 out of 10 times\n",
      "Time taken: 92 seconds; L1 error: 6.10E-04; L2 error: 7.28E-07; rel error: 2.52E-02.\n",
      "#### Starting deep BSDE method with seed 1 - 2 out of 10 times\n"
     ]
    },
    {
     "name": "stderr",
     "output_type": "stream",
     "text": [
      "Logs are saved in /home/nprivault/NTU/nguwi_jiang_yu/deep_branching/deep_branching_with_domain/notebooks/logs/tmp\n"
     ]
    },
    {
     "name": "stdout",
     "output_type": "stream",
     "text": [
      "Time taken: 144 seconds; L1 error: 7.51E-03; L2 error: 9.00E-05; rel error: 5.92E-02.\n",
      "\n",
      "\n",
      "#### Starting deep branching method with seed 2 - 3 out of 10 times\n"
     ]
    },
    {
     "name": "stderr",
     "output_type": "stream",
     "text": [
      "Logs are saved in /home/nprivault/NTU/nguwi_jiang_yu/deep_branching/deep_branching_with_domain/notebooks/logs/tmp\n"
     ]
    },
    {
     "name": "stdout",
     "output_type": "stream",
     "text": [
      "Time taken: 62 seconds; L1 error: 4.78E-03; L2 error: 3.57E-05; rel error: 7.75E-02.\n",
      "fdb runtime: 0 seconds; total runtime: 62 seconds.\n",
      "#### Starting deep galerkin method with seed 2 - 3 out of 10 times\n",
      "Time taken: 70 seconds; L1 error: 5.26E-04; L2 error: 4.70E-07; rel error: 1.60E-02.\n",
      "#### Starting deep BSDE method with seed 2 - 3 out of 10 times\n"
     ]
    },
    {
     "name": "stderr",
     "output_type": "stream",
     "text": [
      "Logs are saved in /home/nprivault/NTU/nguwi_jiang_yu/deep_branching/deep_branching_with_domain/notebooks/logs/tmp\n"
     ]
    },
    {
     "name": "stdout",
     "output_type": "stream",
     "text": [
      "Time taken: 146 seconds; L1 error: 6.82E-03; L2 error: 8.67E-05; rel error: 8.77E-02.\n",
      "\n",
      "\n",
      "#### Starting deep branching method with seed 3 - 4 out of 10 times\n"
     ]
    },
    {
     "name": "stderr",
     "output_type": "stream",
     "text": [
      "Logs are saved in /home/nprivault/NTU/nguwi_jiang_yu/deep_branching/deep_branching_with_domain/notebooks/logs/tmp\n"
     ]
    },
    {
     "name": "stdout",
     "output_type": "stream",
     "text": [
      "Time taken: 59 seconds; L1 error: 6.46E-03; L2 error: 7.00E-05; rel error: 1.16E-01.\n",
      "fdb runtime: 0 seconds; total runtime: 59 seconds.\n",
      "#### Starting deep galerkin method with seed 3 - 4 out of 10 times\n",
      "Time taken: 77 seconds; L1 error: 5.13E-04; L2 error: 4.15E-07; rel error: 1.64E-02.\n",
      "#### Starting deep BSDE method with seed 3 - 4 out of 10 times\n"
     ]
    },
    {
     "name": "stderr",
     "output_type": "stream",
     "text": [
      "Logs are saved in /home/nprivault/NTU/nguwi_jiang_yu/deep_branching/deep_branching_with_domain/notebooks/logs/tmp\n"
     ]
    },
    {
     "name": "stdout",
     "output_type": "stream",
     "text": [
      "Time taken: 139 seconds; L1 error: 6.08E-03; L2 error: 7.15E-05; rel error: 9.17E-02.\n",
      "\n",
      "\n",
      "#### Starting deep branching method with seed 4 - 5 out of 10 times\n"
     ]
    },
    {
     "name": "stderr",
     "output_type": "stream",
     "text": [
      "Logs are saved in /home/nprivault/NTU/nguwi_jiang_yu/deep_branching/deep_branching_with_domain/notebooks/logs/tmp\n"
     ]
    },
    {
     "name": "stdout",
     "output_type": "stream",
     "text": [
      "Time taken: 59 seconds; L1 error: 5.14E-03; L2 error: 5.36E-05; rel error: 1.08E-01.\n",
      "fdb runtime: 0 seconds; total runtime: 59 seconds.\n",
      "#### Starting deep galerkin method with seed 4 - 5 out of 10 times\n",
      "Time taken: 67 seconds; L1 error: 3.42E-04; L2 error: 1.50E-07; rel error: 4.84E-03.\n",
      "#### Starting deep BSDE method with seed 4 - 5 out of 10 times\n"
     ]
    },
    {
     "name": "stderr",
     "output_type": "stream",
     "text": [
      "Logs are saved in /home/nprivault/NTU/nguwi_jiang_yu/deep_branching/deep_branching_with_domain/notebooks/logs/tmp\n"
     ]
    },
    {
     "name": "stdout",
     "output_type": "stream",
     "text": [
      "Time taken: 137 seconds; L1 error: 7.97E-03; L2 error: 1.22E-04; rel error: 1.11E-01.\n",
      "\n",
      "\n",
      "#### Starting deep branching method with seed 5 - 6 out of 10 times\n"
     ]
    },
    {
     "name": "stderr",
     "output_type": "stream",
     "text": [
      "Logs are saved in /home/nprivault/NTU/nguwi_jiang_yu/deep_branching/deep_branching_with_domain/notebooks/logs/tmp\n"
     ]
    },
    {
     "name": "stdout",
     "output_type": "stream",
     "text": [
      "Time taken: 58 seconds; L1 error: 5.43E-03; L2 error: 5.73E-05; rel error: 7.08E-02.\n",
      "fdb runtime: 0 seconds; total runtime: 58 seconds.\n",
      "#### Starting deep galerkin method with seed 5 - 6 out of 10 times\n",
      "Time taken: 56 seconds; L1 error: 8.89E-04; L2 error: 1.55E-06; rel error: 3.60E-02.\n",
      "#### Starting deep BSDE method with seed 5 - 6 out of 10 times\n"
     ]
    },
    {
     "name": "stderr",
     "output_type": "stream",
     "text": [
      "Logs are saved in /home/nprivault/NTU/nguwi_jiang_yu/deep_branching/deep_branching_with_domain/notebooks/logs/tmp\n"
     ]
    },
    {
     "name": "stdout",
     "output_type": "stream",
     "text": [
      "Time taken: 144 seconds; L1 error: 6.93E-03; L2 error: 7.62E-05; rel error: 9.87E-02.\n",
      "\n",
      "\n",
      "#### Starting deep branching method with seed 6 - 7 out of 10 times\n"
     ]
    },
    {
     "name": "stderr",
     "output_type": "stream",
     "text": [
      "Logs are saved in /home/nprivault/NTU/nguwi_jiang_yu/deep_branching/deep_branching_with_domain/notebooks/logs/tmp\n"
     ]
    },
    {
     "name": "stdout",
     "output_type": "stream",
     "text": [
      "Time taken: 62 seconds; L1 error: 4.99E-03; L2 error: 6.03E-05; rel error: 4.83E-02.\n",
      "fdb runtime: 0 seconds; total runtime: 62 seconds.\n",
      "#### Starting deep galerkin method with seed 6 - 7 out of 10 times\n",
      "Time taken: 66 seconds; L1 error: 9.26E-04; L2 error: 3.17E-06; rel error: 6.16E-02.\n",
      "#### Starting deep BSDE method with seed 6 - 7 out of 10 times\n"
     ]
    },
    {
     "name": "stderr",
     "output_type": "stream",
     "text": [
      "Logs are saved in /home/nprivault/NTU/nguwi_jiang_yu/deep_branching/deep_branching_with_domain/notebooks/logs/tmp\n"
     ]
    },
    {
     "name": "stdout",
     "output_type": "stream",
     "text": [
      "Time taken: 142 seconds; L1 error: 5.84E-03; L2 error: 6.28E-05; rel error: 9.26E-02.\n",
      "\n",
      "\n",
      "#### Starting deep branching method with seed 7 - 8 out of 10 times\n"
     ]
    },
    {
     "name": "stderr",
     "output_type": "stream",
     "text": [
      "Logs are saved in /home/nprivault/NTU/nguwi_jiang_yu/deep_branching/deep_branching_with_domain/notebooks/logs/tmp\n"
     ]
    },
    {
     "name": "stdout",
     "output_type": "stream",
     "text": [
      "Time taken: 59 seconds; L1 error: 4.25E-03; L2 error: 3.68E-05; rel error: 7.95E-02.\n",
      "fdb runtime: 0 seconds; total runtime: 59 seconds.\n",
      "#### Starting deep galerkin method with seed 7 - 8 out of 10 times\n",
      "Time taken: 76 seconds; L1 error: 1.53E-03; L2 error: 5.64E-06; rel error: 7.93E-02.\n",
      "#### Starting deep BSDE method with seed 7 - 8 out of 10 times\n"
     ]
    },
    {
     "name": "stderr",
     "output_type": "stream",
     "text": [
      "Logs are saved in /home/nprivault/NTU/nguwi_jiang_yu/deep_branching/deep_branching_with_domain/notebooks/logs/tmp\n"
     ]
    },
    {
     "name": "stdout",
     "output_type": "stream",
     "text": [
      "Time taken: 148 seconds; L1 error: 7.68E-03; L2 error: 8.66E-05; rel error: 8.51E-02.\n",
      "\n",
      "\n",
      "#### Starting deep branching method with seed 8 - 9 out of 10 times\n"
     ]
    },
    {
     "name": "stderr",
     "output_type": "stream",
     "text": [
      "Logs are saved in /home/nprivault/NTU/nguwi_jiang_yu/deep_branching/deep_branching_with_domain/notebooks/logs/tmp\n"
     ]
    },
    {
     "name": "stdout",
     "output_type": "stream",
     "text": [
      "Time taken: 62 seconds; L1 error: 4.20E-03; L2 error: 2.94E-05; rel error: 6.27E-02.\n",
      "fdb runtime: 0 seconds; total runtime: 62 seconds.\n",
      "#### Starting deep galerkin method with seed 8 - 9 out of 10 times\n",
      "Time taken: 85 seconds; L1 error: 4.80E-04; L2 error: 4.09E-07; rel error: 1.91E-02.\n",
      "#### Starting deep BSDE method with seed 8 - 9 out of 10 times\n"
     ]
    },
    {
     "name": "stderr",
     "output_type": "stream",
     "text": [
      "Logs are saved in /home/nprivault/NTU/nguwi_jiang_yu/deep_branching/deep_branching_with_domain/notebooks/logs/tmp\n"
     ]
    },
    {
     "name": "stdout",
     "output_type": "stream",
     "text": [
      "Time taken: 142 seconds; L1 error: 7.20E-03; L2 error: 7.15E-05; rel error: 7.22E-02.\n",
      "\n",
      "\n",
      "#### Starting deep branching method with seed 9 - 10 out of 10 times\n"
     ]
    },
    {
     "name": "stderr",
     "output_type": "stream",
     "text": [
      "Logs are saved in /home/nprivault/NTU/nguwi_jiang_yu/deep_branching/deep_branching_with_domain/notebooks/logs/tmp\n"
     ]
    },
    {
     "name": "stdout",
     "output_type": "stream",
     "text": [
      "Time taken: 62 seconds; L1 error: 6.42E-03; L2 error: 1.00E-04; rel error: 8.40E-02.\n",
      "fdb runtime: 0 seconds; total runtime: 63 seconds.\n",
      "#### Starting deep galerkin method with seed 9 - 10 out of 10 times\n",
      "Time taken: 81 seconds; L1 error: 1.07E-03; L2 error: 2.81E-06; rel error: 5.06E-02.\n",
      "#### Starting deep BSDE method with seed 9 - 10 out of 10 times\n",
      "Time taken: 144 seconds; L1 error: 6.52E-03; L2 error: 6.94E-05; rel error: 8.51E-02.\n",
      "\n",
      "\n",
      "\n",
      "\n",
      "######## Summary for deep branching method\n",
      "runtime:        61\n",
      "fdb runtime:    0\n",
      "total runtime:  61\n",
      "mean L1 error:  5.18E-03\n",
      "std L1 error:   8.16E-04\n",
      "mean L2 error:  5.50E-05\n",
      "std L2 error:   2.04E-05\n",
      "mean rel error: 8.16E-02\n",
      "std rel error:  2.00E-02\n",
      "\n",
      "\n",
      "######## Summary for deep galerkin method\n",
      "runtime:        74\n",
      "mean L1 error:  8.13E-04\n",
      "std L1 error:   3.65E-04\n",
      "mean L2 error:  1.90E-06\n",
      "std L2 error:   1.75E-06\n",
      "mean rel error: 3.72E-02\n",
      "std rel error:  2.38E-02\n",
      "\n",
      "\n",
      "######## Summary for deep BSDE method\n",
      "runtime:        143\n",
      "mean L1 error:  6.85E-03\n",
      "std L1 error:   7.12E-04\n",
      "mean L2 error:  8.08E-05\n",
      "std L2 error:   1.61E-05\n",
      "mean rel error: 8.58E-02\n",
      "std rel error:  1.39E-02\n"
     ]
    },
    {
     "data": {
      "image/png": "[encoded data removed]",
      "text/plain": [
       "<Figure size 432x288 with 1 Axes>"
      ]
     },
     "metadata": {
      "needs_background": "light"
     },
     "output_type": "display_data"
    }
   ],
   "source": [
    "T = 0.875\n",
    "dim = 1\n",
    "grid_d_dim = np.concatenate((x_mid * np.ones((0, 100)), np.expand_dims(grid, axis=0), x_mid * np.ones((dim - 1, 100))), axis=0)\n",
    "grid_d_dim_with_t = np.concatenate((t_lo * np.ones((1, 100)), grid_d_dim), axis=0)    \n",
    "true = exact_example(t_lo, grid_d_dim, T)\n",
    "terminal = exact_example(T, grid_d_dim, T)\n",
    "deriv_map = np.concatenate((np.array([[0] * dim]), 1 * np.identity(dim), 2 * np.identity(dim)), axis=0).astype(int)\n",
    "\n",
    "nu = dim ** 2\n",
    "\n",
    "#grid, grid_d_dim, grid_d_dim_with_t, t_lo, true, terminal, \\\n",
    "#    f_example, deriv_map, phi_example, dgm_f_example = gen_for_generalized_burgers(n=n, T=T)\n",
    "compare_performance(grid, grid_d_dim, grid_d_dim_with_t, t_lo, true, terminal=terminal, # seeds=[0],\n",
    "                    # disable_bsde=True, disable_galerkin=True, verbose=True, debug_mode=True,\n",
    "                    T=T, nu=nu, device=device, epochs=3000, fname=f\"burger\",\n",
    "                    branch_nb_states=1000, branch_nb_path_per_state=20000,\n",
    "                    branch_patches=1, branch_exponential_lambda=-math.log(.95)/T,\n",
    "                    second_order=True, branch_nb_states_per_batch=200,\n",
    "                    bsde_nb_states=1000, bsde_nb_time_intervals=4,\n",
    "                    dgm_nb_states=1000, f_fun=f_example, dgm_f_fun=dgm_f_example,\n",
    "                    deriv_map=deriv_map, dgm_deriv_map=deriv_map, phi_fun=phi_example,\n",
    "                    outlier_percentile=3,\n",
    "                    lr_gamma=0.1, branch_lr=1e-2, branch_activation=\"tanh\", neurons=20, layers=5,\n",
    "                    save_for_best_model=False, save_as_tmp=True)"
   ]
  },
  {
   "cell_type": "code",
   "execution_count": 14,
   "metadata": {},
   "outputs": [
    {
     "name": "stderr",
     "output_type": "stream",
     "text": [
      "Logs are saved in /home/nprivault/NTU/nguwi_jiang_yu/deep_branching/deep_branching_with_domain/notebooks/logs/tmp\n"
     ]
    },
    {
     "name": "stdout",
     "output_type": "stream",
     "text": [
      "#### Starting deep branching method with seed 0 - 1 out of 10 times\n"
     ]
    },
    {
     "name": "stderr",
     "output_type": "stream",
     "text": [
      "Logs are saved in /home/nprivault/NTU/nguwi_jiang_yu/deep_branching/deep_branching_with_domain/notebooks/logs/tmp\n"
     ]
    },
    {
     "name": "stdout",
     "output_type": "stream",
     "text": [
      "Time taken: 62 seconds; L1 error: 6.42E-03; L2 error: 7.47E-05; rel error: 1.33E-01.\n",
      "fdb runtime: 0 seconds; total runtime: 62 seconds.\n",
      "#### Starting deep galerkin method with seed 0 - 1 out of 10 times\n",
      "Time taken: 74 seconds; L1 error: 1.28E-03; L2 error: 5.47E-06; rel error: 8.10E-02.\n",
      "#### Starting deep BSDE method with seed 0 - 1 out of 10 times\n"
     ]
    },
    {
     "name": "stderr",
     "output_type": "stream",
     "text": [
      "Logs are saved in /home/nprivault/NTU/nguwi_jiang_yu/deep_branching/deep_branching_with_domain/notebooks/logs/tmp\n"
     ]
    },
    {
     "name": "stdout",
     "output_type": "stream",
     "text": [
      "Time taken: 146 seconds; L1 error: 9.04E-03; L2 error: 1.58E-04; rel error: 1.26E-01.\n",
      "\n",
      "\n",
      "#### Starting deep branching method with seed 1 - 2 out of 10 times\n"
     ]
    },
    {
     "name": "stderr",
     "output_type": "stream",
     "text": [
      "Logs are saved in /home/nprivault/NTU/nguwi_jiang_yu/deep_branching/deep_branching_with_domain/notebooks/logs/tmp\n"
     ]
    },
    {
     "name": "stdout",
     "output_type": "stream",
     "text": [
      "Time taken: 64 seconds; L1 error: 7.89E-03; L2 error: 1.19E-04; rel error: 1.77E-01.\n",
      "fdb runtime: 0 seconds; total runtime: 64 seconds.\n",
      "#### Starting deep galerkin method with seed 1 - 2 out of 10 times\n",
      "Time taken: 65 seconds; L1 error: 7.69E-04; L2 error: 1.19E-06; rel error: 3.35E-02.\n",
      "#### Starting deep BSDE method with seed 1 - 2 out of 10 times\n"
     ]
    },
    {
     "name": "stderr",
     "output_type": "stream",
     "text": [
      "Logs are saved in /home/nprivault/NTU/nguwi_jiang_yu/deep_branching/deep_branching_with_domain/notebooks/logs/tmp\n"
     ]
    },
    {
     "name": "stdout",
     "output_type": "stream",
     "text": [
      "Time taken: 136 seconds; L1 error: 1.01E-02; L2 error: 1.49E-04; rel error: 8.52E-02.\n",
      "\n",
      "\n",
      "#### Starting deep branching method with seed 2 - 3 out of 10 times\n"
     ]
    },
    {
     "name": "stderr",
     "output_type": "stream",
     "text": [
      "Logs are saved in /home/nprivault/NTU/nguwi_jiang_yu/deep_branching/deep_branching_with_domain/notebooks/logs/tmp\n"
     ]
    },
    {
     "name": "stdout",
     "output_type": "stream",
     "text": [
      "Time taken: 60 seconds; L1 error: 7.02E-03; L2 error: 7.34E-05; rel error: 1.65E-01.\n",
      "fdb runtime: 0 seconds; total runtime: 60 seconds.\n",
      "#### Starting deep galerkin method with seed 2 - 3 out of 10 times\n",
      "Time taken: 69 seconds; L1 error: 6.32E-04; L2 error: 7.66E-07; rel error: 2.32E-02.\n",
      "#### Starting deep BSDE method with seed 2 - 3 out of 10 times\n"
     ]
    },
    {
     "name": "stderr",
     "output_type": "stream",
     "text": [
      "Logs are saved in /home/nprivault/NTU/nguwi_jiang_yu/deep_branching/deep_branching_with_domain/notebooks/logs/tmp\n"
     ]
    },
    {
     "name": "stdout",
     "output_type": "stream",
     "text": [
      "Time taken: 149 seconds; L1 error: 7.43E-03; L2 error: 1.17E-04; rel error: 1.06E-01.\n",
      "\n",
      "\n",
      "#### Starting deep branching method with seed 3 - 4 out of 10 times\n"
     ]
    },
    {
     "name": "stderr",
     "output_type": "stream",
     "text": [
      "Logs are saved in /home/nprivault/NTU/nguwi_jiang_yu/deep_branching/deep_branching_with_domain/notebooks/logs/tmp\n"
     ]
    },
    {
     "name": "stdout",
     "output_type": "stream",
     "text": [
      "Time taken: 61 seconds; L1 error: 9.05E-03; L2 error: 1.39E-04; rel error: 1.96E-01.\n",
      "fdb runtime: 0 seconds; total runtime: 61 seconds.\n",
      "#### Starting deep galerkin method with seed 3 - 4 out of 10 times\n",
      "Time taken: 75 seconds; L1 error: 5.29E-04; L2 error: 4.46E-07; rel error: 1.74E-02.\n",
      "#### Starting deep BSDE method with seed 3 - 4 out of 10 times\n"
     ]
    },
    {
     "name": "stderr",
     "output_type": "stream",
     "text": [
      "Logs are saved in /home/nprivault/NTU/nguwi_jiang_yu/deep_branching/deep_branching_with_domain/notebooks/logs/tmp\n"
     ]
    },
    {
     "name": "stdout",
     "output_type": "stream",
     "text": [
      "Time taken: 143 seconds; L1 error: 7.69E-03; L2 error: 9.99E-05; rel error: 9.99E-02.\n",
      "\n",
      "\n",
      "#### Starting deep branching method with seed 4 - 5 out of 10 times\n"
     ]
    },
    {
     "name": "stderr",
     "output_type": "stream",
     "text": [
      "Logs are saved in /home/nprivault/NTU/nguwi_jiang_yu/deep_branching/deep_branching_with_domain/notebooks/logs/tmp\n"
     ]
    },
    {
     "name": "stdout",
     "output_type": "stream",
     "text": [
      "Time taken: 60 seconds; L1 error: 7.08E-03; L2 error: 1.02E-04; rel error: 1.54E-01.\n",
      "fdb runtime: 0 seconds; total runtime: 60 seconds.\n",
      "#### Starting deep galerkin method with seed 4 - 5 out of 10 times\n",
      "Time taken: 80 seconds; L1 error: 4.58E-04; L2 error: 2.73E-07; rel error: 8.85E-03.\n",
      "#### Starting deep BSDE method with seed 4 - 5 out of 10 times\n"
     ]
    },
    {
     "name": "stderr",
     "output_type": "stream",
     "text": [
      "Logs are saved in /home/nprivault/NTU/nguwi_jiang_yu/deep_branching/deep_branching_with_domain/notebooks/logs/tmp\n"
     ]
    },
    {
     "name": "stdout",
     "output_type": "stream",
     "text": [
      "Time taken: 140 seconds; L1 error: 9.78E-03; L2 error: 1.93E-04; rel error: 1.40E-01.\n",
      "\n",
      "\n",
      "#### Starting deep branching method with seed 5 - 6 out of 10 times\n"
     ]
    },
    {
     "name": "stderr",
     "output_type": "stream",
     "text": [
      "Logs are saved in /home/nprivault/NTU/nguwi_jiang_yu/deep_branching/deep_branching_with_domain/notebooks/logs/tmp\n"
     ]
    },
    {
     "name": "stdout",
     "output_type": "stream",
     "text": [
      "Time taken: 60 seconds; L1 error: 8.52E-03; L2 error: 1.24E-04; rel error: 1.52E-01.\n",
      "fdb runtime: 0 seconds; total runtime: 60 seconds.\n",
      "#### Starting deep galerkin method with seed 5 - 6 out of 10 times\n",
      "Time taken: 74 seconds; L1 error: 9.77E-04; L2 error: 2.01E-06; rel error: 4.22E-02.\n",
      "#### Starting deep BSDE method with seed 5 - 6 out of 10 times\n"
     ]
    },
    {
     "name": "stderr",
     "output_type": "stream",
     "text": [
      "Logs are saved in /home/nprivault/NTU/nguwi_jiang_yu/deep_branching/deep_branching_with_domain/notebooks/logs/tmp\n"
     ]
    },
    {
     "name": "stdout",
     "output_type": "stream",
     "text": [
      "Time taken: 146 seconds; L1 error: 8.69E-03; L2 error: 1.23E-04; rel error: 1.97E-01.\n",
      "\n",
      "\n",
      "#### Starting deep branching method with seed 6 - 7 out of 10 times\n"
     ]
    },
    {
     "name": "stderr",
     "output_type": "stream",
     "text": [
      "Logs are saved in /home/nprivault/NTU/nguwi_jiang_yu/deep_branching/deep_branching_with_domain/notebooks/logs/tmp\n"
     ]
    },
    {
     "name": "stdout",
     "output_type": "stream",
     "text": [
      "Time taken: 61 seconds; L1 error: 7.17E-03; L2 error: 1.12E-04; rel error: 1.13E-01.\n",
      "fdb runtime: 0 seconds; total runtime: 61 seconds.\n",
      "#### Starting deep galerkin method with seed 6 - 7 out of 10 times\n",
      "Time taken: 72 seconds; L1 error: 1.36E-03; L2 error: 3.58E-06; rel error: 4.86E-02.\n",
      "#### Starting deep BSDE method with seed 6 - 7 out of 10 times\n"
     ]
    },
    {
     "name": "stderr",
     "output_type": "stream",
     "text": [
      "Logs are saved in /home/nprivault/NTU/nguwi_jiang_yu/deep_branching/deep_branching_with_domain/notebooks/logs/tmp\n"
     ]
    },
    {
     "name": "stdout",
     "output_type": "stream",
     "text": [
      "Time taken: 140 seconds; L1 error: 7.40E-03; L2 error: 1.09E-04; rel error: 9.13E-02.\n",
      "\n",
      "\n",
      "#### Starting deep branching method with seed 7 - 8 out of 10 times\n"
     ]
    },
    {
     "name": "stderr",
     "output_type": "stream",
     "text": [
      "Logs are saved in /home/nprivault/NTU/nguwi_jiang_yu/deep_branching/deep_branching_with_domain/notebooks/logs/tmp\n"
     ]
    },
    {
     "name": "stdout",
     "output_type": "stream",
     "text": [
      "Time taken: 62 seconds; L1 error: 6.21E-03; L2 error: 6.95E-05; rel error: 1.39E-01.\n",
      "fdb runtime: 0 seconds; total runtime: 62 seconds.\n",
      "#### Starting deep galerkin method with seed 7 - 8 out of 10 times\n",
      "Time taken: 83 seconds; L1 error: 2.20E-03; L2 error: 1.53E-05; rel error: 1.34E-01.\n",
      "#### Starting deep BSDE method with seed 7 - 8 out of 10 times\n"
     ]
    },
    {
     "name": "stderr",
     "output_type": "stream",
     "text": [
      "Logs are saved in /home/nprivault/NTU/nguwi_jiang_yu/deep_branching/deep_branching_with_domain/notebooks/logs/tmp\n"
     ]
    },
    {
     "name": "stdout",
     "output_type": "stream",
     "text": [
      "Time taken: 144 seconds; L1 error: 1.19E-02; L2 error: 1.97E-04; rel error: 1.89E-01.\n",
      "\n",
      "\n",
      "#### Starting deep branching method with seed 8 - 9 out of 10 times\n"
     ]
    },
    {
     "name": "stderr",
     "output_type": "stream",
     "text": [
      "Logs are saved in /home/nprivault/NTU/nguwi_jiang_yu/deep_branching/deep_branching_with_domain/notebooks/logs/tmp\n"
     ]
    },
    {
     "name": "stdout",
     "output_type": "stream",
     "text": [
      "Time taken: 59 seconds; L1 error: 6.19E-03; L2 error: 5.85E-05; rel error: 9.34E-02.\n",
      "fdb runtime: 0 seconds; total runtime: 59 seconds.\n",
      "#### Starting deep galerkin method with seed 8 - 9 out of 10 times\n",
      "Time taken: 65 seconds; L1 error: 5.49E-04; L2 error: 6.99E-07; rel error: 2.67E-02.\n",
      "#### Starting deep BSDE method with seed 8 - 9 out of 10 times\n"
     ]
    },
    {
     "name": "stderr",
     "output_type": "stream",
     "text": [
      "Logs are saved in /home/nprivault/NTU/nguwi_jiang_yu/deep_branching/deep_branching_with_domain/notebooks/logs/tmp\n"
     ]
    },
    {
     "name": "stdout",
     "output_type": "stream",
     "text": [
      "Time taken: 141 seconds; L1 error: 8.31E-03; L2 error: 1.04E-04; rel error: 8.28E-02.\n",
      "\n",
      "\n",
      "#### Starting deep branching method with seed 9 - 10 out of 10 times\n"
     ]
    },
    {
     "name": "stderr",
     "output_type": "stream",
     "text": [
      "Logs are saved in /home/nprivault/NTU/nguwi_jiang_yu/deep_branching/deep_branching_with_domain/notebooks/logs/tmp\n"
     ]
    },
    {
     "name": "stdout",
     "output_type": "stream",
     "text": [
      "Time taken: 63 seconds; L1 error: 9.33E-03; L2 error: 1.82E-04; rel error: 1.58E-01.\n",
      "fdb runtime: 0 seconds; total runtime: 63 seconds.\n",
      "#### Starting deep galerkin method with seed 9 - 10 out of 10 times\n",
      "Time taken: 88 seconds; L1 error: 1.24E-03; L2 error: 4.52E-06; rel error: 6.79E-02.\n",
      "#### Starting deep BSDE method with seed 9 - 10 out of 10 times\n",
      "Time taken: 149 seconds; L1 error: 8.64E-03; L2 error: 1.10E-04; rel error: 1.12E-01.\n",
      "\n",
      "\n",
      "\n",
      "\n",
      "######## Summary for deep branching method\n",
      "runtime:        61\n",
      "fdb runtime:    0\n",
      "total runtime:  61\n",
      "mean L1 error:  7.49E-03\n",
      "std L1 error:   1.09E-03\n",
      "mean L2 error:  1.05E-04\n",
      "std L2 error:   3.61E-05\n",
      "mean rel error: 1.48E-01\n",
      "std rel error:  2.85E-02\n",
      "\n",
      "\n",
      "######## Summary for deep galerkin method\n",
      "runtime:        74\n",
      "mean L1 error:  1.00E-03\n",
      "std L1 error:   5.11E-04\n",
      "mean L2 error:  3.43E-06\n",
      "std L2 error:   4.33E-06\n",
      "mean rel error: 4.84E-02\n",
      "std rel error:  3.56E-02\n",
      "\n",
      "\n",
      "######## Summary for deep BSDE method\n",
      "runtime:        143\n",
      "mean L1 error:  8.90E-03\n",
      "std L1 error:   1.32E-03\n",
      "mean L2 error:  1.36E-04\n",
      "std L2 error:   3.44E-05\n",
      "mean rel error: 1.23E-01\n",
      "std rel error:  3.90E-02\n"
     ]
    },
    {
     "data": {
      "image/png": "[encoded data removed]",
      "text/plain": [
       "<Figure size 432x288 with 1 Axes>"
      ]
     },
     "metadata": {
      "needs_background": "light"
     },
     "output_type": "display_data"
    }
   ],
   "source": [
    "T = 1.0\n",
    "dim = 1\n",
    "grid_d_dim = np.concatenate((x_mid * np.ones((0, 100)), np.expand_dims(grid, axis=0), x_mid * np.ones((dim - 1, 100))), axis=0)\n",
    "grid_d_dim_with_t = np.concatenate((t_lo * np.ones((1, 100)), grid_d_dim), axis=0)    \n",
    "true = exact_example(t_lo, grid_d_dim, T)\n",
    "terminal = exact_example(T, grid_d_dim, T)\n",
    "deriv_map = np.concatenate((np.array([[0] * dim]), 1 * np.identity(dim), 2 * np.identity(dim)), axis=0).astype(int)\n",
    "\n",
    "nu = dim ** 2\n",
    "\n",
    "#grid, grid_d_dim, grid_d_dim_with_t, t_lo, true, terminal, \\\n",
    "#    f_example, deriv_map, phi_example, dgm_f_example = gen_for_generalized_burgers(n=n, T=T)\n",
    "compare_performance(grid, grid_d_dim, grid_d_dim_with_t, t_lo, true, terminal=terminal, # seeds=[0],\n",
    "                    # disable_bsde=True, disable_galerkin=True, verbose=True, debug_mode=True,\n",
    "                    T=T, nu=nu, device=device, epochs=3000, fname=f\"burger\",\n",
    "                    branch_nb_states=1000, branch_nb_path_per_state=20000,\n",
    "                    branch_patches=1, branch_exponential_lambda=-math.log(.95)/T,\n",
    "                    second_order=True, branch_nb_states_per_batch=200,\n",
    "                    bsde_nb_states=1000, bsde_nb_time_intervals=4,\n",
    "                    dgm_nb_states=1000, f_fun=f_example, dgm_f_fun=dgm_f_example,\n",
    "                    deriv_map=deriv_map, dgm_deriv_map=deriv_map, phi_fun=phi_example,\n",
    "                    outlier_percentile=3,\n",
    "                    lr_gamma=0.1, branch_lr=1e-2, branch_activation=\"tanh\", neurons=20, layers=5,\n",
    "                    save_for_best_model=False, save_as_tmp=True)"
   ]
  }
 ],
 "metadata": {
  "accelerator": "GPU",
  "colab": {
   "collapsed_sections": [
    "GSuvC0ycqjNq",
    "XC4ej7xCLaN1",
    "Rr6nHqQLYdLJ",
    "lGC3MnEEHLtv",
    "fQXKDk7IexOm",
    "u_dYHEeePLeD"
   ],
   "name": "comparison.ipynb",
   "provenance": [
    {
     "file_id": "/v2/external/notebooks/pro.ipynb",
     "timestamp": 1644891847321
    }
   ]
  },
  "kernelspec": {
   "display_name": "Python 3 (ipykernel)",
   "language": "python",
   "name": "python3"
  },
  "language_info": {
   "codemirror_mode": {
    "name": "ipython",
    "version": 3
   },
   "file_extension": ".py",
   "mimetype": "text/x-python",
   "name": "python",
   "nbconvert_exporter": "python",
   "pygments_lexer": "ipython3",
   "version": "3.10.9"
  }
 },
 "nbformat": 4,
 "nbformat_minor": 1
}
