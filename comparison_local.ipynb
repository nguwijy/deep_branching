{
 "cells": [
  {
   "cell_type": "markdown",
   "metadata": {
    "id": "GSuvC0ycqjNq",
    "pycharm": {
     "name": "#%% md\n"
    }
   },
   "source": [
    "# Imports & basic configuration"
   ]
  },
  {
   "cell_type": "code",
   "execution_count": 1,
   "metadata": {
    "colab": {
     "base_uri": "https://localhost:8080/"
    },
    "executionInfo": {
     "elapsed": 2706,
     "status": "ok",
     "timestamp": 1647940111437,
     "user": {
      "displayName": "nguwi jy",
      "photoUrl": "https://lh3.googleusercontent.com/a-/AOh14GgoiFFc59OKXMvhrMZCwWWzqPAzDXA1ooQ_zi8p=s64",
      "userId": "17294038731682000497"
     },
     "user_tz": -480
    },
    "id": "6357edd9",
    "outputId": "f45d2e8e-9123-4654-b639-cb824fdfdbdc",
    "pycharm": {
     "name": "#%%\n"
    }
   },
   "outputs": [],
   "source": [
    "try:\n",
    "    # always cd to the right directory in google colab\n",
    "    from google.colab import drive\n",
    "    drive.mount('/content/drive')\n",
    "    %cd \"/content/drive/MyDrive/Colab Notebooks/branch_full/deep_branching\"\n",
    "except:\n",
    "    pass\n",
    "\n",
    "import math\n",
    "from scipy import special\n",
    "import numpy as np\n",
    "import torch\n",
    "import matplotlib.pyplot as plt\n",
    "import time\n",
    "from branch import Net\n",
    "from galerkin import DGMNet\n",
    "from bsde import BSDENet\n",
    "import logging\n",
    "from pynverse import inversefunc\n",
    "\n",
    "device = torch.device(\"cuda\" if torch.cuda.is_available() else \"cpu\")"
   ]
  },
  {
   "cell_type": "code",
   "execution_count": 2,
   "metadata": {
    "colab": {
     "base_uri": "https://localhost:8080/"
    },
    "executionInfo": {
     "elapsed": 362,
     "status": "ok",
     "timestamp": 1647940117264,
     "user": {
      "displayName": "nguwi jy",
      "photoUrl": "https://lh3.googleusercontent.com/a-/AOh14GgoiFFc59OKXMvhrMZCwWWzqPAzDXA1ooQ_zi8p=s64",
      "userId": "17294038731682000497"
     },
     "user_tz": -480
    },
    "id": "GKSN0XXSwzs_",
    "outputId": "479076d5-d9fa-418a-99aa-b38c14893038",
    "pycharm": {
     "name": "#%%\n"
    }
   },
   "outputs": [
    {
     "name": "stdout",
     "output_type": "stream",
     "text": [
      "torch version: 1.11.0+cu113\n",
      "torchaudio version: 0.11.0+cu113\n",
      "torchvision version: 0.12.0+cu113\n"
     ]
    }
   ],
   "source": [
    "# perfect reproducibility is not guaranteed with different version of torch\n",
    "#\n",
    "import torchaudio\n",
    "import torchvision\n",
    "\n",
    "print(f\"torch version: {torch.__version__}\")\n",
    "print(f\"torchaudio version: {torchaudio.__version__}\")\n",
    "print(f\"torchvision version: {torchvision.__version__}\")"
   ]
  },
  {
   "cell_type": "code",
   "execution_count": 3,
   "metadata": {
    "colab": {
     "base_uri": "https://localhost:8080/"
    },
    "executionInfo": {
     "elapsed": 29,
     "status": "ok",
     "timestamp": 1647940111438,
     "user": {
      "displayName": "nguwi jy",
      "photoUrl": "https://lh3.googleusercontent.com/a-/AOh14GgoiFFc59OKXMvhrMZCwWWzqPAzDXA1ooQ_zi8p=s64",
      "userId": "17294038731682000497"
     },
     "user_tz": -480
    },
    "id": "W8KR70pwVNfJ",
    "outputId": "0971b8c8-a20c-424a-d81f-1b53d6b34b84",
    "pycharm": {
     "name": "#%%\n"
    }
   },
   "outputs": [
    {
     "name": "stdout",
     "output_type": "stream",
     "text": [
      "Information of the allocated GPU.\n",
      "Thu May 12 00:22:52 2022       \n",
      "+-----------------------------------------------------------------------------+\n",
      "| NVIDIA-SMI 470.73       Driver Version: 472.12       CUDA Version: 11.4     |\n",
      "|-------------------------------+----------------------+----------------------+\n",
      "| GPU  Name        Persistence-M| Bus-Id        Disp.A | Volatile Uncorr. ECC |\n",
      "| Fan  Temp  Perf  Pwr:Usage/Cap|         Memory-Usage | GPU-Util  Compute M. |\n",
      "|                               |                      |               MIG M. |\n",
      "|===============================+======================+======================|\n",
      "|   0  NVIDIA GeForce ...  Off  | 00000000:07:00.0  On |                  N/A |\n",
      "| 30%   50C    P8    30W / 350W |    644MiB / 12288MiB |    ERR!      Default |\n",
      "|                               |                      |                  N/A |\n",
      "+-------------------------------+----------------------+----------------------+\n",
      "                                                                               \n",
      "+-----------------------------------------------------------------------------+\n",
      "| Processes:                                                                  |\n",
      "|  GPU   GI   CI        PID   Type   Process name                  GPU Memory |\n",
      "|        ID   ID                                                   Usage      |\n",
      "|=============================================================================|\n",
      "|  No running processes found                                                 |\n",
      "+-----------------------------------------------------------------------------+\n"
     ]
    }
   ],
   "source": [
    "print(\"Information of the allocated GPU.\")\n",
    "!nvidia-smi"
   ]
  },
  {
   "cell_type": "code",
   "execution_count": 4,
   "metadata": {
    "id": "sdQhnjL3U5SJ",
    "pycharm": {
     "name": "#%%\n"
    }
   },
   "outputs": [],
   "source": [
    "# performance evaluation for PDE\n",
    "def compare_performance(\n",
    "    grid_1d,\n",
    "    grid_nd,\n",
    "    grid_with_t,\n",
    "    t_lo,\n",
    "    true,\n",
    "    terminal,\n",
    "    fname=None,\n",
    "    debug_mode=False,\n",
    "    disable_galerkin=False,\n",
    "    disable_bsde=False,\n",
    "    disable_branch=False,\n",
    "    seeds=list(range(10)),\n",
    "    **kwargs,\n",
    "):\n",
    "    x_lo, x_hi = grid_nd.min(), grid_nd.max()\n",
    "    grid_nd = grid_nd.astype(np.float32)\n",
    "    grid_with_t = grid_with_t.astype(np.float32)\n",
    "\n",
    "    fname = f\"{fname}_dim_{grid_nd.shape[0]}\" if fname is not None else None\n",
    "    counter = 1\n",
    "\n",
    "    branch_runtime, branch_l1_error, branch_l2_error, branch_rel_error, branch = (\n",
    "        [],\n",
    "        [],\n",
    "        [],\n",
    "        [],\n",
    "        0,\n",
    "    )\n",
    "    branch_fdb_runtime, branch_total_runtime = [], []\n",
    "    dgm_runtime, dgm_l1_error, dgm_l2_error, dgm_rel_error, dgm = [], [], [], [], 0\n",
    "    bsde_runtime, bsde_l1_error, bsde_l2_error, bsde_rel_error, bsde = [], [], [], [], 0\n",
    "    for seed in seeds:\n",
    "        ######### Deep branching method\n",
    "        if not disable_branch:\n",
    "            torch.manual_seed(seed)\n",
    "            print(\n",
    "                f\"#### Starting deep branching method with seed {seed} - {counter} out of {len(seeds)} times\"\n",
    "            )\n",
    "            start = time.time()\n",
    "            model = Net(t_lo=t_lo, t_hi=t_lo, x_lo=x_lo, x_hi=x_hi, **kwargs)\n",
    "            model.train_and_eval(debug_mode)\n",
    "            branch_total_runtime.append(time.time() - start)\n",
    "            branch_fdb_runtime.append(model.fdb_runtime)\n",
    "            branch_runtime.append(branch_total_runtime[-1] - branch_fdb_runtime[-1])\n",
    "            tmp = (\n",
    "                model(torch.tensor(grid_with_t.T, device=device)).detach().cpu().numpy()\n",
    "            )\n",
    "            branch += tmp\n",
    "            branch_l1_error.append((np.abs(tmp - true)).mean())\n",
    "            branch_l2_error.append(((tmp - true) ** 2).mean())\n",
    "            branch_rel_error.append((np.abs(tmp - true) / np.abs(true)).mean())\n",
    "            print(\n",
    "                f\"Time taken: {branch_runtime[-1]:.0f} seconds; L1 error: {branch_l1_error[-1]:.2E}; L2 error: {branch_l2_error[-1]:.2E}; rel error: {branch_rel_error[-1]:.2E}.\"\n",
    "            )\n",
    "            print(\n",
    "                f\"fdb runtime: {branch_fdb_runtime[-1]:.0f} seconds; total runtime: {branch_total_runtime[-1]:.0f} seconds.\"\n",
    "            )\n",
    "\n",
    "        ######### Deep galerkin method\n",
    "        if not disable_galerkin:\n",
    "            torch.manual_seed(seed)\n",
    "            print(\n",
    "                f\"#### Starting deep galerkin method with seed {seed} - {counter} out of {len(seeds)} times\"\n",
    "            )\n",
    "            start = time.time()\n",
    "            model = DGMNet(t_lo=t_lo, t_hi=kwargs[\"T\"], x_lo=x_lo, x_hi=x_hi, **kwargs)\n",
    "            model.train_and_eval(debug_mode)\n",
    "            dgm_runtime.append(time.time() - start)\n",
    "            tmp = (\n",
    "                model(torch.tensor(grid_with_t.T, device=device)).detach().cpu().numpy()\n",
    "            )\n",
    "            dgm += tmp\n",
    "            dgm_l1_error.append((np.abs(tmp - true)).mean())\n",
    "            dgm_l2_error.append(((tmp - true) ** 2).mean())\n",
    "            dgm_rel_error.append((np.abs(tmp - true) / np.abs(true)).mean())\n",
    "            print(\n",
    "                f\"Time taken: {dgm_runtime[-1]:.0f} seconds; L1 error: {dgm_l1_error[-1]:.2E}; L2 error: {dgm_l2_error[-1]:.2E}; rel error: {dgm_rel_error[-1]:.2E}.\"\n",
    "            )\n",
    "\n",
    "        ######### Deep BSDE method\n",
    "        if not disable_bsde:\n",
    "            torch.manual_seed(seed)\n",
    "            print(\n",
    "                f\"#### Starting deep BSDE method with seed {seed} - {counter} out of {len(seeds)} times\"\n",
    "            )\n",
    "            start = time.time()\n",
    "            model = BSDENet(t_lo=t_lo, t_hi=kwargs[\"T\"], x_lo=x_lo, x_hi=x_hi, **kwargs)\n",
    "            model.train_and_eval(debug_mode)\n",
    "            bsde_runtime.append(time.time() - start)\n",
    "            tmp = (\n",
    "                model(torch.tensor(grid_nd.T, device=device))\n",
    "                .squeeze(-1)\n",
    "                .detach()\n",
    "                .cpu()\n",
    "                .numpy()\n",
    "            )\n",
    "            bsde += tmp\n",
    "            bsde_l1_error.append((np.abs(tmp - true)).mean())\n",
    "            bsde_l2_error.append(((tmp - true) ** 2).mean())\n",
    "            bsde_rel_error.append((np.abs(tmp - true) / np.abs(true)).mean())\n",
    "            print(\n",
    "                f\"Time taken: {bsde_runtime[-1]:.0f} seconds; L1 error: {bsde_l1_error[-1]:.2E}; L2 error: {bsde_l2_error[-1]:.2E}; rel error: {bsde_rel_error[-1]:.2E}.\"\n",
    "            )\n",
    "\n",
    "        print(\"\\n\")\n",
    "        counter += 1\n",
    "\n",
    "    # Plot\n",
    "    f = plt.figure()\n",
    "    plt.plot(grid_1d, true, label=\"True solution\")\n",
    "    plt.plot(grid_1d, terminal, label=\"Terminal condition\")\n",
    "    # save into csv\n",
    "    if fname is not None:\n",
    "        plt_data = np.stack((grid_1d, true, terminal), axis=-1)\n",
    "        plt_header = \"x, true, terminal\"\n",
    "\n",
    "    if not disable_branch:\n",
    "        branch /= len(seeds)\n",
    "        branch_runtime, branch_l1_error, branch_l2_error, branch_rel_error = (\n",
    "            np.array(branch_runtime),\n",
    "            np.array(branch_l1_error),\n",
    "            np.array(branch_l2_error),\n",
    "            np.array(branch_rel_error),\n",
    "        )\n",
    "        branch_fdb_runtime, branch_total_runtime = np.array(\n",
    "            branch_fdb_runtime\n",
    "        ), np.array(branch_total_runtime)\n",
    "        print(\"\\n\")\n",
    "        print(\"######## Summary for deep branching method\")\n",
    "        print(f\"runtime:        {branch_runtime.mean():.0f}\")\n",
    "        print(f\"fdb runtime:    {branch_fdb_runtime.mean():.0f}\")\n",
    "        print(f\"total runtime:  {branch_total_runtime.mean():.0f}\")\n",
    "        print(f\"mean L1 error:  {branch_l1_error.mean():.2E}\")\n",
    "        print(f\"std L1 error:   {branch_l1_error.std():.2E}\")\n",
    "        print(f\"mean L2 error:  {branch_l2_error.mean():.2E}\")\n",
    "        print(f\"std L2 error:   {branch_l2_error.std():.2E}\")\n",
    "        print(f\"mean rel error: {branch_rel_error.mean():.2E}\")\n",
    "        print(f\"std rel error:  {branch_rel_error.std():.2E}\")\n",
    "        # Plot\n",
    "        plt.plot(grid_1d, branch, label=\"Deep branching\")\n",
    "        # save into csv\n",
    "        if fname is not None:\n",
    "            plt_data = np.concatenate(\n",
    "                (plt_data, np.expand_dims(branch, axis=-1)), axis=-1\n",
    "            )\n",
    "            plt_header += \", branch\"\n",
    "            data = np.stack(\n",
    "                (branch_runtime, branch_l1_error, branch_l2_error, branch_rel_error),\n",
    "                axis=-1,\n",
    "            )\n",
    "            np.savetxt(\n",
    "                \"log/branch_\" + fname + \".csv\",\n",
    "                data,\n",
    "                delimiter=\",\",\n",
    "                header=\"runtime,l1_error,l2_error,rel_error\",\n",
    "                comments=\"\",\n",
    "            )\n",
    "\n",
    "    if not disable_galerkin:\n",
    "        dgm /= len(seeds)\n",
    "        dgm_runtime, dgm_l1_error, dgm_l2_error, dgm_rel_error = (\n",
    "            np.array(dgm_runtime),\n",
    "            np.array(dgm_l1_error),\n",
    "            np.array(dgm_l2_error),\n",
    "            np.array(dgm_rel_error),\n",
    "        )\n",
    "        print(\"\\n\")\n",
    "        print(\"######## Summary for deep galerkin method\")\n",
    "        print(f\"runtime:        {dgm_runtime.mean():.0f}\")\n",
    "        print(f\"mean L1 error:  {dgm_l1_error.mean():.2E}\")\n",
    "        print(f\"std L1 error:   {dgm_l1_error.std():.2E}\")\n",
    "        print(f\"mean L2 error:  {dgm_l2_error.mean():.2E}\")\n",
    "        print(f\"std L2 error:   {dgm_l2_error.std():.2E}\")\n",
    "        print(f\"mean rel error: {dgm_rel_error.mean():.2E}\")\n",
    "        print(f\"std rel error:  {dgm_rel_error.std():.2E}\")\n",
    "        # Plot\n",
    "        plt.plot(grid_1d, dgm, label=\"Deep Galerkin\")\n",
    "        # save into csv\n",
    "        if fname is not None:\n",
    "            plt_data = np.concatenate((plt_data, np.expand_dims(dgm, axis=-1)), axis=-1)\n",
    "            plt_header += \", dgm\"\n",
    "            data = np.stack(\n",
    "                (dgm_runtime, dgm_l1_error, dgm_l2_error, dgm_rel_error), axis=-1\n",
    "            )\n",
    "            np.savetxt(\n",
    "                \"log/dgm_\" + fname + \".csv\",\n",
    "                data,\n",
    "                delimiter=\",\",\n",
    "                header=\"runtime,l1_error,l2_error,rel_error\",\n",
    "                comments=\"\",\n",
    "            )\n",
    "\n",
    "    ######### Deep BSDE method\n",
    "    if not disable_bsde:\n",
    "        bsde /= len(seeds)\n",
    "        bsde_runtime, bsde_l1_error, bsde_l2_error, bsde_rel_error = (\n",
    "            np.array(bsde_runtime),\n",
    "            np.array(bsde_l1_error),\n",
    "            np.array(bsde_l2_error),\n",
    "            np.array(bsde_rel_error),\n",
    "        )\n",
    "        print(\"\\n\")\n",
    "        print(\"######## Summary for deep BSDE method\")\n",
    "        print(f\"runtime:        {bsde_runtime.mean():.0f}\")\n",
    "        print(f\"mean L1 error:  {bsde_l1_error.mean():.2E}\")\n",
    "        print(f\"std L1 error:   {bsde_l1_error.std():.2E}\")\n",
    "        print(f\"mean L2 error:  {bsde_l2_error.mean():.2E}\")\n",
    "        print(f\"std L2 error:   {bsde_l2_error.std():.2E}\")\n",
    "        print(f\"mean rel error: {bsde_rel_error.mean():.2E}\")\n",
    "        print(f\"std rel error:  {bsde_rel_error.std():.2E}\")\n",
    "        # Plot\n",
    "        plt.plot(grid_1d, bsde, label=\"Deep BSDE\")\n",
    "        # save into csv\n",
    "        if fname is not None:\n",
    "            plt_data = np.concatenate(\n",
    "                (plt_data, np.expand_dims(bsde, axis=-1)), axis=-1\n",
    "            )\n",
    "            plt_header += \", bsde\"\n",
    "            data = np.stack(\n",
    "                (bsde_runtime, bsde_l1_error, bsde_l2_error, bsde_rel_error), axis=-1\n",
    "            )\n",
    "            np.savetxt(\n",
    "                \"log/bsde_\" + fname + \".csv\",\n",
    "                data,\n",
    "                delimiter=\",\",\n",
    "                header=\"runtime,l1_error,l2_error,rel_error\",\n",
    "                comments=\"\",\n",
    "            )\n",
    "\n",
    "    plt.legend()\n",
    "    plt.show()\n",
    "    f.savefig(f\"plot/{'comparison' if fname is None else fname}.pdf\")\n",
    "    if fname is not None:\n",
    "        np.savetxt(\n",
    "            \"log/plt_\" + fname + \".csv\", plt_data, delimiter=\",\", header=plt_header, comments=\"\"\n",
    "        )"
   ]
  },
  {
   "cell_type": "markdown",
   "metadata": {
    "id": "puBETzqybZc7",
    "pycharm": {
     "name": "#%% md\n"
    }
   },
   "source": [
    "# 1-dimensional PDE"
   ]
  },
  {
   "cell_type": "markdown",
   "metadata": {
    "id": "k5W-fTLwbZc_",
    "pycharm": {
     "name": "#%% md\n"
    }
   },
   "source": [
    "## Allen-Cahn"
   ]
  },
  {
   "cell_type": "code",
   "execution_count": 5,
   "metadata": {
    "id": "_fyuebzCGhoj",
    "pycharm": {
     "name": "#%%\n"
    }
   },
   "outputs": [],
   "source": [
    "# function definition\n",
    "deriv_map = np.array([0]).reshape(-1, 1)\n",
    "def f_example(y):\n",
    "    \"\"\"\n",
    "    idx 0 -> no deriv\n",
    "    \"\"\"\n",
    "    return y[0] - y[0] ** 3\n",
    "\n",
    "dgm_deriv_map = np.array([0, 2]).reshape(-1, 1)\n",
    "def dgm_f_example(y):\n",
    "    \"\"\"\n",
    "    idx 0 -> no deriv\n",
    "    idx 1 -> second deriv\n",
    "    \"\"\"\n",
    "    return .5 * y[1] + y[0] - y[0] ** 3\n",
    "\n",
    "def phi_example(x):\n",
    "    return -0.5 - 0.5 * torch.nn.Tanh()(-x[0] / 2)\n",
    "\n",
    "def exact_example(t, x, T):\n",
    "    return -0.5 - 0.5 * np.tanh(-x[0]/2 + 3*(T-t)/4)\n",
    "\n",
    "t_lo, x_lo, x_hi, n = 0., -8., 8., 0\n",
    "grid = np.linspace(x_lo, x_hi, 100)\n",
    "grid_d_dim = np.expand_dims(grid, axis=0)\n",
    "grid_d_dim_with_t = np.concatenate((t_lo * np.ones((1, 100)), grid_d_dim), axis=0)\n",
    "\n",
    "T = .5\n",
    "true = exact_example(t_lo, grid_d_dim, T)\n",
    "terminal = exact_example(T, grid_d_dim, T)"
   ]
  },
  {
   "cell_type": "code",
   "execution_count": 6,
   "metadata": {
    "colab": {
     "base_uri": "https://localhost:8080/",
     "height": 1000
    },
    "executionInfo": {
     "elapsed": 1819106,
     "status": "ok",
     "timestamp": 1647941958787,
     "user": {
      "displayName": "nguwi jy",
      "photoUrl": "https://lh3.googleusercontent.com/a-/AOh14GgoiFFc59OKXMvhrMZCwWWzqPAzDXA1ooQ_zi8p=s64",
      "userId": "17294038731682000497"
     },
     "user_tz": -480
    },
    "id": "z249CC8jhDwl",
    "outputId": "874b2413-7201-4162-8d26-03b16de8216a",
    "pycharm": {
     "name": "#%%\n"
    }
   },
   "outputs": [
    {
     "name": "stdout",
     "output_type": "stream",
     "text": [
      "#### Starting deep branching method with seed 0 - 1 out of 10 times\n",
      "Time taken: 50 seconds; L1 error: 1.32E-03; L2 error: 4.68E-06; rel error: 2.49E-02.\n",
      "fdb runtime: 0 seconds; total runtime: 50 seconds.\n",
      "#### Starting deep galerkin method with seed 0 - 1 out of 10 times\n",
      "Time taken: 45 seconds; L1 error: 1.13E-03; L2 error: 2.26E-06; rel error: 2.46E-01.\n",
      "#### Starting deep BSDE method with seed 0 - 1 out of 10 times\n",
      "Time taken: 84 seconds; L1 error: 5.11E-03; L2 error: 5.22E-05; rel error: 1.08E+00.\n",
      "\n",
      "\n",
      "#### Starting deep branching method with seed 1 - 2 out of 10 times\n",
      "Time taken: 23 seconds; L1 error: 1.11E-03; L2 error: 3.81E-06; rel error: 3.30E-02.\n",
      "fdb runtime: 0 seconds; total runtime: 23 seconds.\n",
      "#### Starting deep galerkin method with seed 1 - 2 out of 10 times\n",
      "Time taken: 47 seconds; L1 error: 8.30E-04; L2 error: 1.39E-06; rel error: 1.20E-01.\n",
      "#### Starting deep BSDE method with seed 1 - 2 out of 10 times\n",
      "Time taken: 81 seconds; L1 error: 4.86E-03; L2 error: 3.56E-05; rel error: 6.13E-01.\n",
      "\n",
      "\n",
      "#### Starting deep branching method with seed 2 - 3 out of 10 times\n",
      "Time taken: 21 seconds; L1 error: 1.61E-03; L2 error: 4.75E-06; rel error: 4.09E-02.\n",
      "fdb runtime: 0 seconds; total runtime: 21 seconds.\n",
      "#### Starting deep galerkin method with seed 2 - 3 out of 10 times\n",
      "Time taken: 44 seconds; L1 error: 1.51E-02; L2 error: 2.47E-04; rel error: 1.62E+00.\n",
      "#### Starting deep BSDE method with seed 2 - 3 out of 10 times\n",
      "Time taken: 83 seconds; L1 error: 3.84E-03; L2 error: 3.03E-05; rel error: 7.00E-01.\n",
      "\n",
      "\n",
      "#### Starting deep branching method with seed 3 - 4 out of 10 times\n",
      "Time taken: 20 seconds; L1 error: 1.11E-03; L2 error: 3.17E-06; rel error: 1.67E-02.\n",
      "fdb runtime: 0 seconds; total runtime: 20 seconds.\n",
      "#### Starting deep galerkin method with seed 3 - 4 out of 10 times\n",
      "Time taken: 43 seconds; L1 error: 2.44E-03; L2 error: 7.40E-06; rel error: 2.57E-01.\n",
      "#### Starting deep BSDE method with seed 3 - 4 out of 10 times\n",
      "Time taken: 81 seconds; L1 error: 3.74E-03; L2 error: 2.03E-05; rel error: 2.63E-01.\n",
      "\n",
      "\n",
      "#### Starting deep branching method with seed 4 - 5 out of 10 times\n",
      "Time taken: 20 seconds; L1 error: 1.10E-03; L2 error: 2.46E-06; rel error: 2.75E-02.\n",
      "fdb runtime: 0 seconds; total runtime: 20 seconds.\n",
      "#### Starting deep galerkin method with seed 4 - 5 out of 10 times\n",
      "Time taken: 43 seconds; L1 error: 9.67E-04; L2 error: 1.48E-06; rel error: 1.36E-01.\n",
      "#### Starting deep BSDE method with seed 4 - 5 out of 10 times\n",
      "Time taken: 90 seconds; L1 error: 4.71E-03; L2 error: 4.12E-05; rel error: 5.25E-01.\n",
      "\n",
      "\n",
      "#### Starting deep branching method with seed 5 - 6 out of 10 times\n",
      "Time taken: 23 seconds; L1 error: 1.11E-03; L2 error: 2.58E-06; rel error: 3.04E-02.\n",
      "fdb runtime: 0 seconds; total runtime: 23 seconds.\n",
      "#### Starting deep galerkin method with seed 5 - 6 out of 10 times\n",
      "Time taken: 54 seconds; L1 error: 3.86E-04; L2 error: 2.46E-07; rel error: 4.78E-02.\n",
      "#### Starting deep BSDE method with seed 5 - 6 out of 10 times\n",
      "Time taken: 86 seconds; L1 error: 4.95E-03; L2 error: 5.96E-05; rel error: 2.41E-01.\n",
      "\n",
      "\n",
      "#### Starting deep branching method with seed 6 - 7 out of 10 times\n",
      "Time taken: 22 seconds; L1 error: 1.01E-03; L2 error: 2.15E-06; rel error: 2.81E-02.\n",
      "fdb runtime: 0 seconds; total runtime: 22 seconds.\n",
      "#### Starting deep galerkin method with seed 6 - 7 out of 10 times\n",
      "Time taken: 49 seconds; L1 error: 1.08E-02; L2 error: 1.35E-04; rel error: 1.04E+00.\n",
      "#### Starting deep BSDE method with seed 6 - 7 out of 10 times\n",
      "Time taken: 82 seconds; L1 error: 5.54E-03; L2 error: 5.87E-05; rel error: 4.70E-01.\n",
      "\n",
      "\n",
      "#### Starting deep branching method with seed 7 - 8 out of 10 times\n",
      "Time taken: 20 seconds; L1 error: 1.27E-03; L2 error: 3.16E-06; rel error: 5.00E-02.\n",
      "fdb runtime: 0 seconds; total runtime: 20 seconds.\n",
      "#### Starting deep galerkin method with seed 7 - 8 out of 10 times\n",
      "Time taken: 45 seconds; L1 error: 5.30E-04; L2 error: 4.42E-07; rel error: 4.36E-02.\n",
      "#### Starting deep BSDE method with seed 7 - 8 out of 10 times\n",
      "Time taken: 82 seconds; L1 error: 4.42E-03; L2 error: 4.64E-05; rel error: 4.70E-01.\n",
      "\n",
      "\n",
      "#### Starting deep branching method with seed 8 - 9 out of 10 times\n",
      "Time taken: 23 seconds; L1 error: 1.11E-03; L2 error: 3.30E-06; rel error: 4.04E-02.\n",
      "fdb runtime: 0 seconds; total runtime: 23 seconds.\n",
      "#### Starting deep galerkin method with seed 8 - 9 out of 10 times\n",
      "Time taken: 48 seconds; L1 error: 2.23E-03; L2 error: 7.29E-06; rel error: 3.35E-01.\n",
      "#### Starting deep BSDE method with seed 8 - 9 out of 10 times\n",
      "Time taken: 82 seconds; L1 error: 5.52E-03; L2 error: 4.91E-05; rel error: 6.07E-01.\n",
      "\n",
      "\n",
      "#### Starting deep branching method with seed 9 - 10 out of 10 times\n",
      "Time taken: 20 seconds; L1 error: 1.41E-03; L2 error: 5.27E-06; rel error: 2.96E-02.\n",
      "fdb runtime: 0 seconds; total runtime: 20 seconds.\n",
      "#### Starting deep galerkin method with seed 9 - 10 out of 10 times\n",
      "Time taken: 45 seconds; L1 error: 5.17E-04; L2 error: 4.76E-07; rel error: 8.41E-02.\n",
      "#### Starting deep BSDE method with seed 9 - 10 out of 10 times\n",
      "Time taken: 80 seconds; L1 error: 7.28E-03; L2 error: 9.85E-05; rel error: 3.12E-01.\n",
      "\n",
      "\n",
      "\n",
      "\n",
      "######## Summary for deep branching method\n",
      "runtime:        24\n",
      "fdb runtime:    0\n",
      "total runtime:  24\n",
      "mean L1 error:  1.22E-03\n",
      "std L1 error:   1.76E-04\n",
      "mean L2 error:  3.53E-06\n",
      "std L2 error:   1.01E-06\n",
      "mean rel error: 3.22E-02\n",
      "std rel error:  8.96E-03\n",
      "\n",
      "\n",
      "######## Summary for deep galerkin method\n",
      "runtime:        46\n",
      "mean L1 error:  3.49E-03\n",
      "std L1 error:   4.87E-03\n",
      "mean L2 error:  4.03E-05\n",
      "std L2 error:   7.94E-05\n",
      "mean rel error: 3.93E-01\n",
      "std rel error:  4.96E-01\n",
      "\n",
      "\n",
      "######## Summary for deep BSDE method\n",
      "runtime:        83\n",
      "mean L1 error:  5.00E-03\n",
      "std L1 error:   9.56E-04\n",
      "mean L2 error:  4.92E-05\n",
      "std L2 error:   2.02E-05\n",
      "mean rel error: 5.29E-01\n",
      "std rel error:  2.36E-01\n"
     ]
    },
    {
     "data": {
      "image/png": "[encoded data removed]",
      "text/plain": [
       "<Figure size 432x288 with 1 Axes>"
      ]
     },
     "metadata": {
      "needs_background": "light"
     },
     "output_type": "display_data"
    }
   ],
   "source": [
    "# Performance comparison\n",
    "compare_performance(grid, grid_d_dim, grid_d_dim_with_t, t_lo, true, terminal=terminal, # seeds=[0],\n",
    "                    # disable_bsde=True, disable_galerkin=True, verbose=True, debug_mode=True,\n",
    "                    T=T, device=device, epochs=3000, fname=\"allen_cahn\",\n",
    "                    branch_nb_states=1000, branch_nb_path_per_state=100000,\n",
    "                    branch_patches=1, branch_exponential_lambda=-math.log(.95)/T,\n",
    "                    branch_nb_states_per_batch=200,\n",
    "                    bsde_nb_states=1000, bsde_nb_time_intervals=4,\n",
    "                    dgm_nb_states=10000, f_fun=f_example, dgm_f_fun=dgm_f_example,\n",
    "                    deriv_map=deriv_map, dgm_deriv_map=dgm_deriv_map, phi_fun=phi_example)"
   ]
  },
  {
   "cell_type": "markdown",
   "metadata": {
    "id": "tvZHgAmEHHou",
    "pycharm": {
     "name": "#%% md\n"
    }
   },
   "source": [
    "## Exponential nonlinearity"
   ]
  },
  {
   "cell_type": "code",
   "execution_count": 7,
   "metadata": {
    "id": "zu1qtOUiHHox",
    "pycharm": {
     "name": "#%%\n"
    }
   },
   "outputs": [],
   "source": [
    "alpha = 10\n",
    "\n",
    "# function definition\n",
    "deriv_map = np.array([0, 1]).reshape(-1, 1)\n",
    "def f_example(y):\n",
    "    \"\"\"\n",
    "    idx 0 -> no deriv\n",
    "    idx 1 -> first deriv\n",
    "    \"\"\"\n",
    "    return torch.exp(-y[0]) - 2 * torch.exp(-2 * y[0]) + alpha * y[1]\n",
    "\n",
    "dgm_deriv_map = np.array([0, 1, 2]).reshape(-1, 1)\n",
    "def dgm_f_example(y):\n",
    "    \"\"\"\n",
    "    idx 0 -> no deriv\n",
    "    idx 1 -> first deriv\n",
    "    idx 2 -> second deriv\n",
    "    \"\"\"\n",
    "    return .5 * y[2] + torch.exp(-y[0]) - 2 * torch.exp(-2 * y[0]) + alpha * y[1]\n",
    "\n",
    "def phi_example(x):\n",
    "    return torch.log(1 + x[0] ** 2)\n",
    "\n",
    "def exact_example(t, x, T):\n",
    "    return np.log(1 + (x[0] + alpha * (T - t)) ** 2)\n",
    "\n",
    "t_lo, x_lo, x_hi, n = 0., -4., 4., 1\n",
    "grid = np.linspace(x_lo, x_hi, 100)\n",
    "grid_d_dim = np.expand_dims(grid, axis=0)\n",
    "grid_d_dim_with_t = np.concatenate((t_lo * np.ones((1, 100)), grid_d_dim), axis=0)\n",
    "\n",
    "T = .05\n",
    "true = exact_example(t_lo, grid_d_dim, T)\n",
    "terminal = exact_example(T, grid_d_dim, T)"
   ]
  },
  {
   "cell_type": "code",
   "execution_count": 8,
   "metadata": {
    "colab": {
     "base_uri": "https://localhost:8080/",
     "height": 1000
    },
    "executionInfo": {
     "elapsed": 2048420,
     "status": "ok",
     "timestamp": 1647944007189,
     "user": {
      "displayName": "nguwi jy",
      "photoUrl": "https://lh3.googleusercontent.com/a-/AOh14GgoiFFc59OKXMvhrMZCwWWzqPAzDXA1ooQ_zi8p=s64",
      "userId": "17294038731682000497"
     },
     "user_tz": -480
    },
    "id": "4yef7L4PhiIA",
    "outputId": "efef0e5e-08d5-4e88-b2fb-bf1e50aa4335",
    "pycharm": {
     "name": "#%%\n"
    }
   },
   "outputs": [
    {
     "name": "stdout",
     "output_type": "stream",
     "text": [
      "#### Starting deep branching method with seed 0 - 1 out of 10 times\n",
      "Time taken: 25 seconds; L1 error: 1.04E-02; L2 error: 4.23E-04; rel error: 9.31E-01.\n",
      "fdb runtime: 0 seconds; total runtime: 25 seconds.\n",
      "#### Starting deep galerkin method with seed 0 - 1 out of 10 times\n",
      "Time taken: 55 seconds; L1 error: 1.31E-02; L2 error: 2.72E-04; rel error: 7.20E-01.\n",
      "#### Starting deep BSDE method with seed 0 - 1 out of 10 times\n",
      "Time taken: 85 seconds; L1 error: 1.36E-02; L2 error: 4.50E-04; rel error: 1.66E+00.\n",
      "\n",
      "\n",
      "#### Starting deep branching method with seed 1 - 2 out of 10 times\n",
      "Time taken: 26 seconds; L1 error: 1.05E-02; L2 error: 3.52E-04; rel error: 8.11E-01.\n",
      "fdb runtime: 0 seconds; total runtime: 26 seconds.\n",
      "#### Starting deep galerkin method with seed 1 - 2 out of 10 times\n",
      "Time taken: 56 seconds; L1 error: 9.59E-03; L2 error: 2.27E-04; rel error: 1.02E+00.\n",
      "#### Starting deep BSDE method with seed 1 - 2 out of 10 times\n",
      "Time taken: 86 seconds; L1 error: 1.03E-02; L2 error: 2.54E-04; rel error: 1.21E+00.\n",
      "\n",
      "\n",
      "#### Starting deep branching method with seed 2 - 3 out of 10 times\n",
      "Time taken: 27 seconds; L1 error: 1.24E-02; L2 error: 4.67E-04; rel error: 1.39E+00.\n",
      "fdb runtime: 0 seconds; total runtime: 27 seconds.\n",
      "#### Starting deep galerkin method with seed 2 - 3 out of 10 times\n",
      "Time taken: 59 seconds; L1 error: 3.05E-02; L2 error: 1.65E-03; rel error: 2.03E+00.\n",
      "#### Starting deep BSDE method with seed 2 - 3 out of 10 times\n",
      "Time taken: 93 seconds; L1 error: 1.29E-02; L2 error: 2.73E-04; rel error: 6.98E-01.\n",
      "\n",
      "\n",
      "#### Starting deep branching method with seed 3 - 4 out of 10 times\n",
      "Time taken: 27 seconds; L1 error: 1.29E-02; L2 error: 4.81E-04; rel error: 1.27E+00.\n",
      "fdb runtime: 0 seconds; total runtime: 27 seconds.\n",
      "#### Starting deep galerkin method with seed 3 - 4 out of 10 times\n",
      "Time taken: 59 seconds; L1 error: 1.30E-02; L2 error: 2.67E-04; rel error: 6.57E-01.\n",
      "#### Starting deep BSDE method with seed 3 - 4 out of 10 times\n",
      "Time taken: 93 seconds; L1 error: 1.14E-02; L2 error: 2.44E-04; rel error: 1.15E+00.\n",
      "\n",
      "\n",
      "#### Starting deep branching method with seed 4 - 5 out of 10 times\n",
      "Time taken: 27 seconds; L1 error: 1.17E-02; L2 error: 4.40E-04; rel error: 9.15E-01.\n",
      "fdb runtime: 0 seconds; total runtime: 27 seconds.\n",
      "#### Starting deep galerkin method with seed 4 - 5 out of 10 times\n",
      "Time taken: 53 seconds; L1 error: 2.86E-02; L2 error: 1.46E-03; rel error: 2.22E+00.\n",
      "#### Starting deep BSDE method with seed 4 - 5 out of 10 times\n",
      "Time taken: 86 seconds; L1 error: 1.50E-02; L2 error: 3.59E-04; rel error: 8.11E-01.\n",
      "\n",
      "\n",
      "#### Starting deep branching method with seed 5 - 6 out of 10 times\n",
      "Time taken: 26 seconds; L1 error: 1.09E-02; L2 error: 3.50E-04; rel error: 7.47E-01.\n",
      "fdb runtime: 0 seconds; total runtime: 26 seconds.\n",
      "#### Starting deep galerkin method with seed 5 - 6 out of 10 times\n",
      "Time taken: 53 seconds; L1 error: 5.81E-03; L2 error: 6.61E-05; rel error: 5.22E-01.\n",
      "#### Starting deep BSDE method with seed 5 - 6 out of 10 times\n",
      "Time taken: 89 seconds; L1 error: 1.23E-02; L2 error: 4.10E-04; rel error: 1.31E+00.\n",
      "\n",
      "\n",
      "#### Starting deep branching method with seed 6 - 7 out of 10 times\n",
      "Time taken: 26 seconds; L1 error: 1.18E-02; L2 error: 4.12E-04; rel error: 7.53E-01.\n",
      "fdb runtime: 0 seconds; total runtime: 26 seconds.\n",
      "#### Starting deep galerkin method with seed 6 - 7 out of 10 times\n",
      "Time taken: 54 seconds; L1 error: 3.61E-02; L2 error: 1.98E-03; rel error: 2.44E+00.\n",
      "#### Starting deep BSDE method with seed 6 - 7 out of 10 times\n",
      "Time taken: 89 seconds; L1 error: 1.62E-02; L2 error: 4.99E-04; rel error: 9.62E-01.\n",
      "\n",
      "\n",
      "#### Starting deep branching method with seed 7 - 8 out of 10 times\n",
      "Time taken: 26 seconds; L1 error: 1.16E-02; L2 error: 3.90E-04; rel error: 9.84E-01.\n",
      "fdb runtime: 0 seconds; total runtime: 26 seconds.\n",
      "#### Starting deep galerkin method with seed 7 - 8 out of 10 times\n",
      "Time taken: 54 seconds; L1 error: 2.72E-02; L2 error: 1.16E-03; rel error: 1.85E+00.\n",
      "#### Starting deep BSDE method with seed 7 - 8 out of 10 times\n",
      "Time taken: 89 seconds; L1 error: 1.22E-02; L2 error: 3.80E-04; rel error: 1.33E+00.\n",
      "\n",
      "\n",
      "#### Starting deep branching method with seed 8 - 9 out of 10 times\n",
      "Time taken: 27 seconds; L1 error: 9.15E-03; L2 error: 2.73E-04; rel error: 7.69E-01.\n",
      "fdb runtime: 0 seconds; total runtime: 27 seconds.\n",
      "#### Starting deep galerkin method with seed 8 - 9 out of 10 times\n",
      "Time taken: 54 seconds; L1 error: 9.07E-03; L2 error: 1.44E-04; rel error: 7.58E-01.\n",
      "#### Starting deep BSDE method with seed 8 - 9 out of 10 times\n",
      "Time taken: 89 seconds; L1 error: 1.18E-02; L2 error: 2.18E-04; rel error: 7.74E-01.\n",
      "\n",
      "\n",
      "#### Starting deep branching method with seed 9 - 10 out of 10 times\n",
      "Time taken: 27 seconds; L1 error: 9.87E-03; L2 error: 3.23E-04; rel error: 7.59E-01.\n",
      "fdb runtime: 0 seconds; total runtime: 27 seconds.\n",
      "#### Starting deep galerkin method with seed 9 - 10 out of 10 times\n",
      "Time taken: 54 seconds; L1 error: 8.41E-02; L2 error: 1.15E-02; rel error: 5.73E+00.\n",
      "#### Starting deep BSDE method with seed 9 - 10 out of 10 times\n",
      "Time taken: 89 seconds; L1 error: 1.55E-02; L2 error: 3.57E-04; rel error: 1.13E+00.\n",
      "\n",
      "\n",
      "\n",
      "\n",
      "######## Summary for deep branching method\n",
      "runtime:        26\n",
      "fdb runtime:    0\n",
      "total runtime:  26\n",
      "mean L1 error:  1.11E-02\n",
      "std L1 error:   1.12E-03\n",
      "mean L2 error:  3.91E-04\n",
      "std L2 error:   6.29E-05\n",
      "mean rel error: 9.33E-01\n",
      "std rel error:  2.15E-01\n",
      "\n",
      "\n",
      "######## Summary for deep galerkin method\n",
      "runtime:        55\n",
      "mean L1 error:  2.57E-02\n",
      "std L1 error:   2.19E-02\n",
      "mean L2 error:  1.88E-03\n",
      "std L2 error:   3.29E-03\n",
      "mean rel error: 1.79E+00\n",
      "std rel error:  1.48E+00\n",
      "\n",
      "\n",
      "######## Summary for deep BSDE method\n",
      "runtime:        89\n",
      "mean L1 error:  1.31E-02\n",
      "std L1 error:   1.81E-03\n",
      "mean L2 error:  3.44E-04\n",
      "std L2 error:   8.96E-05\n",
      "mean rel error: 1.10E+00\n",
      "std rel error:  2.83E-01\n"
     ]
    },
    {
     "data": {
      "image/png": "[encoded data removed]",
      "text/plain": [
       "<Figure size 432x288 with 1 Axes>"
      ]
     },
     "metadata": {
      "needs_background": "light"
     },
     "output_type": "display_data"
    }
   ],
   "source": [
    "# Performance comparison\n",
    "compare_performance(grid, grid_d_dim, grid_d_dim_with_t, t_lo, true, terminal=terminal, # seeds=[0],\n",
    "                    # disable_bsde=True, disable_galerkin=True, verbose=True, debug_mode=True,\n",
    "                    T=T, device=device, epochs=3000, fname=\"exponential\",\n",
    "                    branch_nb_states=1000, branch_nb_path_per_state=30000,\n",
    "                    branch_patches=1, branch_exponential_lambda=-math.log(.95)/T,\n",
    "                    branch_nb_states_per_batch=200,\n",
    "                    bsde_nb_states=1000, bsde_nb_time_intervals=4,\n",
    "                    dgm_nb_states=10000, f_fun=f_example, dgm_f_fun=dgm_f_example,\n",
    "                    deriv_map=deriv_map, dgm_deriv_map=dgm_deriv_map, phi_fun=phi_example)"
   ]
  },
  {
   "cell_type": "markdown",
   "metadata": {
    "id": "XC4ej7xCLaN1",
    "pycharm": {
     "name": "#%% md\n"
    }
   },
   "source": [
    "## Cosine nonlinearity"
   ]
  },
  {
   "cell_type": "code",
   "execution_count": 9,
   "metadata": {
    "id": "a_4Rq7odLaN4",
    "pycharm": {
     "name": "#%%\n"
    }
   },
   "outputs": [],
   "source": [
    "alpha = 10\n",
    "\n",
    "# function definition\n",
    "deriv_map = np.array([0, 1, 2, 4]).reshape(-1, 1)\n",
    "def f_example(y):\n",
    "    \"\"\"\n",
    "    idx 0 -> no deriv\n",
    "    idx 1 -> first deriv\n",
    "    idx 2 -> second deriv\n",
    "    idx 3 -> forth deriv\n",
    "    \"\"\"\n",
    "    return -.5 * y[2] + alpha * y[1] + y[0] - (y[2] / 12) ** 2 + torch.cos(math.pi * y[3] / 24)\n",
    "\n",
    "dgm_deriv_map = np.array([0, 1, 2, 4]).reshape(-1, 1)\n",
    "def dgm_f_example(y):\n",
    "    \"\"\"\n",
    "    idx 0 -> no deriv\n",
    "    idx 1 -> first deriv\n",
    "    idx 2 -> second deriv\n",
    "    idx 3 -> forth deriv\n",
    "    \"\"\"\n",
    "    return alpha * y[1] + y[0] - (y[2] / 12) ** 2 + torch.cos(math.pi * y[3] / 24)\n",
    "\n",
    "def phi_example(x):\n",
    "    return x[0]**4 + x[0]**3 - 36/47 * x[0]**2 - 24*36/47 * x[0] + 4 * (36/47)**2\n",
    "\n",
    "def exact_example(t, x, T):\n",
    "    xx = x[0] + alpha * (T - t)\n",
    "    return xx**4 + xx**3 - 36/47 * xx**2 - 24*36/47 * xx + 4 * (36/47)**2\n",
    "\n",
    "t_lo, x_lo, x_hi, n = 0., -5., 5., 4\n",
    "grid = np.linspace(x_lo, x_hi, 100)\n",
    "grid_d_dim = np.expand_dims(grid, axis=0)\n",
    "grid_d_dim_with_t = np.concatenate((t_lo * np.ones((1, 100)), grid_d_dim), axis=0)\n",
    "\n",
    "T = .04\n",
    "true = exact_example(t_lo, grid_d_dim, T)\n",
    "terminal = exact_example(T, grid_d_dim, T)"
   ]
  },
  {
   "cell_type": "code",
   "execution_count": 10,
   "metadata": {
    "colab": {
     "base_uri": "https://localhost:8080/",
     "height": 1000
    },
    "executionInfo": {
     "elapsed": 2749118,
     "status": "ok",
     "timestamp": 1646217646967,
     "user": {
      "displayName": "nguwi jy",
      "photoUrl": "https://lh3.googleusercontent.com/a-/AOh14GgoiFFc59OKXMvhrMZCwWWzqPAzDXA1ooQ_zi8p=s64",
      "userId": "17294038731682000497"
     },
     "user_tz": -480
    },
    "id": "Eo4CN5Z220gs",
    "outputId": "679c78f5-d128-4ca4-f2e9-e091d4230b81",
    "pycharm": {
     "name": "#%%\n"
    }
   },
   "outputs": [
    {
     "name": "stdout",
     "output_type": "stream",
     "text": [
      "#### Starting deep branching method with seed 0 - 1 out of 10 times\n",
      "Time taken: 77 seconds; L1 error: 1.09E+01; L2 error: 5.24E+02; rel error: 2.66E-01.\n",
      "fdb runtime: 0 seconds; total runtime: 77 seconds.\n",
      "#### Starting deep galerkin method with seed 0 - 1 out of 10 times\n",
      "Time taken: 167 seconds; L1 error: 1.37E+01; L2 error: 5.98E+02; rel error: 3.30E-01.\n",
      "\n",
      "\n",
      "#### Starting deep branching method with seed 1 - 2 out of 10 times\n",
      "Time taken: 75 seconds; L1 error: 1.14E+01; L2 error: 4.52E+02; rel error: 2.41E-01.\n",
      "fdb runtime: 0 seconds; total runtime: 75 seconds.\n",
      "#### Starting deep galerkin method with seed 1 - 2 out of 10 times\n",
      "Time taken: 158 seconds; L1 error: 1.14E+02; L2 error: 1.50E+04; rel error: 1.16E+01.\n",
      "\n",
      "\n",
      "#### Starting deep branching method with seed 2 - 3 out of 10 times\n",
      "Time taken: 82 seconds; L1 error: 1.15E+01; L2 error: 6.97E+02; rel error: 2.00E-01.\n",
      "fdb runtime: 0 seconds; total runtime: 82 seconds.\n",
      "#### Starting deep galerkin method with seed 2 - 3 out of 10 times\n",
      "Time taken: 150 seconds; L1 error: 1.99E+01; L2 error: 1.05E+03; rel error: 6.68E-01.\n",
      "\n",
      "\n",
      "#### Starting deep branching method with seed 3 - 4 out of 10 times\n",
      "Time taken: 79 seconds; L1 error: 7.54E+00; L2 error: 1.47E+02; rel error: 2.30E-01.\n",
      "fdb runtime: 0 seconds; total runtime: 79 seconds.\n",
      "#### Starting deep galerkin method with seed 3 - 4 out of 10 times\n",
      "Time taken: 151 seconds; L1 error: 2.68E+01; L2 error: 1.32E+03; rel error: 1.12E+00.\n",
      "\n",
      "\n",
      "#### Starting deep branching method with seed 4 - 5 out of 10 times\n",
      "Time taken: 81 seconds; L1 error: 8.22E+00; L2 error: 2.48E+02; rel error: 2.64E-01.\n",
      "fdb runtime: 0 seconds; total runtime: 81 seconds.\n",
      "#### Starting deep galerkin method with seed 4 - 5 out of 10 times\n",
      "Time taken: 165 seconds; L1 error: 1.27E+01; L2 error: 4.35E+02; rel error: 5.62E-01.\n",
      "\n",
      "\n",
      "#### Starting deep branching method with seed 5 - 6 out of 10 times\n",
      "Time taken: 75 seconds; L1 error: 1.12E+01; L2 error: 4.13E+02; rel error: 2.87E-01.\n",
      "fdb runtime: 0 seconds; total runtime: 75 seconds.\n",
      "#### Starting deep galerkin method with seed 5 - 6 out of 10 times\n",
      "Time taken: 150 seconds; L1 error: 1.08E+01; L2 error: 3.63E+02; rel error: 3.10E-01.\n",
      "\n",
      "\n",
      "#### Starting deep branching method with seed 6 - 7 out of 10 times\n",
      "Time taken: 72 seconds; L1 error: 7.92E+00; L2 error: 2.00E+02; rel error: 1.78E-01.\n",
      "fdb runtime: 0 seconds; total runtime: 72 seconds.\n",
      "#### Starting deep galerkin method with seed 6 - 7 out of 10 times\n",
      "Time taken: 151 seconds; L1 error: 3.08E+01; L2 error: 1.98E+03; rel error: 1.33E+00.\n",
      "\n",
      "\n",
      "#### Starting deep branching method with seed 7 - 8 out of 10 times\n",
      "Time taken: 71 seconds; L1 error: 1.33E+01; L2 error: 7.18E+02; rel error: 2.06E-01.\n",
      "fdb runtime: 0 seconds; total runtime: 71 seconds.\n",
      "#### Starting deep galerkin method with seed 7 - 8 out of 10 times\n",
      "Time taken: 149 seconds; L1 error: 2.01E+01; L2 error: 7.57E+02; rel error: 7.97E-01.\n",
      "\n",
      "\n",
      "#### Starting deep branching method with seed 8 - 9 out of 10 times\n",
      "Time taken: 66 seconds; L1 error: 9.24E+00; L2 error: 2.78E+02; rel error: 1.94E-01.\n",
      "fdb runtime: 0 seconds; total runtime: 66 seconds.\n",
      "#### Starting deep galerkin method with seed 8 - 9 out of 10 times\n",
      "Time taken: 154 seconds; L1 error: 2.46E+01; L2 error: 9.60E+02; rel error: 1.33E+00.\n",
      "\n",
      "\n",
      "#### Starting deep branching method with seed 9 - 10 out of 10 times\n",
      "Time taken: 82 seconds; L1 error: 8.45E+00; L2 error: 2.53E+02; rel error: 2.60E-01.\n",
      "fdb runtime: 0 seconds; total runtime: 83 seconds.\n",
      "#### Starting deep galerkin method with seed 9 - 10 out of 10 times\n",
      "Time taken: 149 seconds; L1 error: 3.32E+01; L2 error: 3.45E+03; rel error: 1.18E+00.\n",
      "\n",
      "\n",
      "\n",
      "\n",
      "######## Summary for deep branching method\n",
      "runtime:        76\n",
      "fdb runtime:    0\n",
      "total runtime:  76\n",
      "mean L1 error:  9.97E+00\n",
      "std L1 error:   1.85E+00\n",
      "mean L2 error:  3.93E+02\n",
      "std L2 error:   1.93E+02\n",
      "mean rel error: 2.33E-01\n",
      "std rel error:  3.47E-02\n",
      "\n",
      "\n",
      "######## Summary for deep galerkin method\n",
      "runtime:        154\n",
      "mean L1 error:  3.06E+01\n",
      "std L1 error:   2.87E+01\n",
      "mean L2 error:  2.60E+03\n",
      "std L2 error:   4.24E+03\n",
      "mean rel error: 1.93E+00\n",
      "std rel error:  3.25E+00\n"
     ]
    },
    {
     "data": {
      "image/png": "[encoded data removed]",
      "text/plain": [
       "<Figure size 432x288 with 1 Axes>"
      ]
     },
     "metadata": {
      "needs_background": "light"
     },
     "output_type": "display_data"
    }
   ],
   "source": [
    "# Performance comparison\n",
    "compare_performance(grid, grid_d_dim, grid_d_dim_with_t, t_lo, true, terminal=terminal, disable_bsde=True, # seeds=[0], \n",
    "                    # disable_galerkin=True, verbose=True, debug_mode=True,\n",
    "                    T=T, device=device, epochs=3000, dgm_lr=1e-2, fname=\"cosine\",\n",
    "                    branch_nb_states=1000, branch_nb_path_per_state=2500,\n",
    "                    branch_patches=1, branch_exponential_lambda=-math.log(.95)/T,\n",
    "                    branch_nb_states_per_batch=1000,\n",
    "                    dgm_nb_states=10000, f_fun=f_example, dgm_f_fun=dgm_f_example,\n",
    "                    deriv_map=deriv_map, dgm_deriv_map=dgm_deriv_map, phi_fun=phi_example)"
   ]
  },
  {
   "cell_type": "markdown",
   "metadata": {
    "id": "Rr6nHqQLYdLJ",
    "pycharm": {
     "name": "#%% md\n"
    }
   },
   "source": [
    "## Log nonlinearity"
   ]
  },
  {
   "cell_type": "code",
   "execution_count": 11,
   "metadata": {
    "id": "hyEQMvfOYdLK",
    "pycharm": {
     "name": "#%%\n"
    }
   },
   "outputs": [],
   "source": [
    "alpha = 10\n",
    "\n",
    "# function definition\n",
    "deriv_map = np.array([1, 2, 3]).reshape(-1, 1)\n",
    "def f_example(y):\n",
    "    \"\"\"\n",
    "    idx 0 -> first deriv\n",
    "    idx 1 -> second deriv\n",
    "    idx 2 -> third deriv\n",
    "    \"\"\"\n",
    "    return -.5 * y[1] + alpha * y[0] + torch.log(y[1]**2 + y[2]**2)\n",
    "\n",
    "dgm_deriv_map = np.array([1, 2, 3]).reshape(-1, 1)\n",
    "def dgm_f_example(y):\n",
    "    \"\"\"\n",
    "    idx 0 -> first deriv\n",
    "    idx 1 -> second deriv\n",
    "    idx 2 -> third deriv\n",
    "    \"\"\"\n",
    "    return alpha * y[0] + torch.log(y[1]**2 + y[2]**2)\n",
    "\n",
    "def phi_example(x):\n",
    "    return torch.cos(x[0])\n",
    "\n",
    "def exact_example(t, x, T):\n",
    "    return np.cos(x[0] + alpha * (T-t))\n",
    "\n",
    "t_lo, x_lo, x_hi, n = 0., -3., 3., 3\n",
    "grid = np.linspace(x_lo, x_hi, 100)\n",
    "grid_d_dim = np.expand_dims(grid, axis=0)\n",
    "grid_d_dim_with_t = np.concatenate((t_lo * np.ones((1, 100)), grid_d_dim), axis=0)\n",
    "\n",
    "T = .02\n",
    "true = exact_example(t_lo, grid_d_dim, T)\n",
    "terminal = exact_example(T, grid_d_dim, T)"
   ]
  },
  {
   "cell_type": "code",
   "execution_count": 12,
   "metadata": {
    "colab": {
     "base_uri": "https://localhost:8080/",
     "height": 1000
    },
    "executionInfo": {
     "elapsed": 1608350,
     "status": "ok",
     "timestamp": 1646219255295,
     "user": {
      "displayName": "nguwi jy",
      "photoUrl": "https://lh3.googleusercontent.com/a-/AOh14GgoiFFc59OKXMvhrMZCwWWzqPAzDXA1ooQ_zi8p=s64",
      "userId": "17294038731682000497"
     },
     "user_tz": -480
    },
    "id": "gsY7D6D53V5s",
    "outputId": "98d5afb2-fe70-4680-fa86-090a55e792c8",
    "pycharm": {
     "name": "#%%\n"
    }
   },
   "outputs": [
    {
     "name": "stdout",
     "output_type": "stream",
     "text": [
      "#### Starting deep branching method with seed 0 - 1 out of 10 times\n",
      "Time taken: 55 seconds; L1 error: 4.38E-03; L2 error: 3.59E-05; rel error: 1.31E-02.\n",
      "fdb runtime: 0 seconds; total runtime: 55 seconds.\n",
      "#### Starting deep galerkin method with seed 0 - 1 out of 10 times\n",
      "Time taken: 92 seconds; L1 error: 1.27E-01; L2 error: 2.12E-02; rel error: 4.56E-01.\n",
      "\n",
      "\n",
      "#### Starting deep branching method with seed 1 - 2 out of 10 times\n",
      "Time taken: 55 seconds; L1 error: 5.50E-03; L2 error: 4.35E-05; rel error: 3.49E-02.\n",
      "fdb runtime: 0 seconds; total runtime: 55 seconds.\n",
      "#### Starting deep galerkin method with seed 1 - 2 out of 10 times\n",
      "Time taken: 91 seconds; L1 error: 6.08E-02; L2 error: 4.83E-03; rel error: 2.57E-01.\n",
      "\n",
      "\n",
      "#### Starting deep branching method with seed 2 - 3 out of 10 times\n",
      "Time taken: 58 seconds; L1 error: 5.13E-03; L2 error: 3.61E-05; rel error: 3.04E-02.\n",
      "fdb runtime: 0 seconds; total runtime: 58 seconds.\n",
      "#### Starting deep galerkin method with seed 2 - 3 out of 10 times\n",
      "Time taken: 90 seconds; L1 error: 1.40E-01; L2 error: 2.56E-02; rel error: 4.51E-01.\n",
      "\n",
      "\n",
      "#### Starting deep branching method with seed 3 - 4 out of 10 times\n",
      "Time taken: 56 seconds; L1 error: 3.72E-03; L2 error: 2.10E-05; rel error: 6.92E-03.\n",
      "fdb runtime: 0 seconds; total runtime: 56 seconds.\n",
      "#### Starting deep galerkin method with seed 3 - 4 out of 10 times\n",
      "Time taken: 101 seconds; L1 error: 8.33E-02; L2 error: 9.66E-03; rel error: 3.22E-01.\n",
      "\n",
      "\n",
      "#### Starting deep branching method with seed 4 - 5 out of 10 times\n",
      "Time taken: 63 seconds; L1 error: 6.13E-03; L2 error: 5.58E-05; rel error: 3.17E-02.\n",
      "fdb runtime: 0 seconds; total runtime: 63 seconds.\n",
      "#### Starting deep galerkin method with seed 4 - 5 out of 10 times\n",
      "Time taken: 102 seconds; L1 error: 5.62E-02; L2 error: 4.60E-03; rel error: 2.15E-01.\n",
      "\n",
      "\n",
      "#### Starting deep branching method with seed 5 - 6 out of 10 times\n",
      "Time taken: 54 seconds; L1 error: 4.02E-03; L2 error: 2.83E-05; rel error: 9.19E-03.\n",
      "fdb runtime: 0 seconds; total runtime: 54 seconds.\n",
      "#### Starting deep galerkin method with seed 5 - 6 out of 10 times\n",
      "Time taken: 90 seconds; L1 error: 7.24E-02; L2 error: 7.21E-03; rel error: 2.88E-01.\n",
      "\n",
      "\n",
      "#### Starting deep branching method with seed 6 - 7 out of 10 times\n",
      "Time taken: 58 seconds; L1 error: 7.41E-03; L2 error: 8.22E-05; rel error: 2.58E-02.\n",
      "fdb runtime: 0 seconds; total runtime: 58 seconds.\n",
      "#### Starting deep galerkin method with seed 6 - 7 out of 10 times\n",
      "Time taken: 90 seconds; L1 error: 6.19E-02; L2 error: 5.65E-03; rel error: 2.60E-01.\n",
      "\n",
      "\n",
      "#### Starting deep branching method with seed 7 - 8 out of 10 times\n",
      "Time taken: 59 seconds; L1 error: 6.40E-03; L2 error: 7.55E-05; rel error: 1.31E-02.\n",
      "fdb runtime: 0 seconds; total runtime: 59 seconds.\n",
      "#### Starting deep galerkin method with seed 7 - 8 out of 10 times\n",
      "Time taken: 91 seconds; L1 error: 4.03E-02; L2 error: 2.79E-03; rel error: 1.25E-01.\n",
      "\n",
      "\n",
      "#### Starting deep branching method with seed 8 - 9 out of 10 times\n",
      "Time taken: 58 seconds; L1 error: 4.12E-03; L2 error: 2.65E-05; rel error: 1.35E-02.\n",
      "fdb runtime: 0 seconds; total runtime: 58 seconds.\n",
      "#### Starting deep galerkin method with seed 8 - 9 out of 10 times\n",
      "Time taken: 90 seconds; L1 error: 7.41E-02; L2 error: 7.28E-03; rel error: 2.86E-01.\n",
      "\n",
      "\n",
      "#### Starting deep branching method with seed 9 - 10 out of 10 times\n",
      "Time taken: 58 seconds; L1 error: 5.43E-03; L2 error: 6.35E-05; rel error: 1.80E-02.\n",
      "fdb runtime: 0 seconds; total runtime: 58 seconds.\n",
      "#### Starting deep galerkin method with seed 9 - 10 out of 10 times\n",
      "Time taken: 90 seconds; L1 error: 4.02E-02; L2 error: 2.69E-03; rel error: 1.08E-01.\n",
      "\n",
      "\n",
      "\n",
      "\n",
      "######## Summary for deep branching method\n",
      "runtime:        57\n",
      "fdb runtime:    0\n",
      "total runtime:  57\n",
      "mean L1 error:  5.22E-03\n",
      "std L1 error:   1.13E-03\n",
      "mean L2 error:  4.68E-05\n",
      "std L2 error:   2.02E-05\n",
      "mean rel error: 1.97E-02\n",
      "std rel error:  9.64E-03\n",
      "\n",
      "\n",
      "######## Summary for deep galerkin method\n",
      "runtime:        93\n",
      "mean L1 error:  7.56E-02\n",
      "std L1 error:   3.19E-02\n",
      "mean L2 error:  9.15E-03\n",
      "std L2 error:   7.47E-03\n",
      "mean rel error: 2.77E-01\n",
      "std rel error:  1.10E-01\n"
     ]
    },
    {
     "data": {
      "image/png": "[encoded data removed]",
      "text/plain": [
       "<Figure size 432x288 with 1 Axes>"
      ]
     },
     "metadata": {
      "needs_background": "light"
     },
     "output_type": "display_data"
    }
   ],
   "source": [
    "# Performance comparison\n",
    "compare_performance(grid, grid_d_dim, grid_d_dim_with_t, t_lo, true, terminal=terminal, disable_bsde=True, # seeds=[0], \n",
    "                    # disable_galerkin=True, verbose=True, debug_mode=True,\n",
    "                    T=T, device=device, epochs=3000, fname=\"log\",\n",
    "                    branch_nb_states=1000, branch_nb_path_per_state=6000,\n",
    "                    branch_patches=1, branch_exponential_lambda=-math.log(.95)/T,\n",
    "                    branch_nb_states_per_batch=1000,\n",
    "                    bsde_nb_states=1000, bsde_nb_time_intervals=5,\n",
    "                    dgm_nb_states=10000, f_fun=f_example, dgm_f_fun=dgm_f_example,\n",
    "                    deriv_map=deriv_map, dgm_deriv_map=dgm_deriv_map, phi_fun=phi_example)"
   ]
  },
  {
   "cell_type": "markdown",
   "metadata": {
    "id": "IpZDOYesEoqM",
    "pycharm": {
     "name": "#%% md\n"
    }
   },
   "source": [
    "## Merton problem"
   ]
  },
  {
   "cell_type": "code",
   "execution_count": 17,
   "metadata": {
    "id": "FYLW4KaFL6tM",
    "pycharm": {
     "name": "#%%\n"
    }
   },
   "outputs": [],
   "source": [
    "mu = .03\n",
    "sigma = .1\n",
    "gamma = .5\n",
    "rho = .01\n",
    "\n",
    "# TODO: how to deal with negative x and y[1] properly???\n",
    "\n",
    "# function definition\n",
    "deriv_map = np.array([0, 1, 2]).reshape(-1, 1)\n",
    "def f_example(y):\n",
    "    \"\"\"\n",
    "    idx 0 -> no deriv\n",
    "    idx 1 -> first deriv\n",
    "    idx 2 -> second deriv\n",
    "    \"\"\"\n",
    "    return -.5 * y[2] - (mu * y[1])**2 / (2 * sigma**2 * y[2]) + gamma * y[1].abs()**(1 - 1/gamma) / (1 - gamma) - rho * y[0]\n",
    "\n",
    "dgm_deriv_map = np.array([0, 1, 2]).reshape(-1, 1)\n",
    "def dgm_f_example(y):\n",
    "    \"\"\"\n",
    "    idx 0 -> no deriv\n",
    "    idx 1 -> first deriv\n",
    "    idx 2 -> second deriv\n",
    "    \"\"\"\n",
    "    return -(mu * y[1])**2 / (2 * sigma**2 * y[2]) + gamma * y[1].abs()**(1 - 1/gamma) / (1 - gamma) - rho * y[0]\n",
    "\n",
    "def phi_example(x):\n",
    "    return x[0].abs() ** (1 - gamma) / (1 - gamma)\n",
    "\n",
    "def exact_example(t, x, T):\n",
    "    nu = (2 * sigma**2 * gamma * rho - (1 - gamma) * mu**2) / (2 * sigma**2 * gamma**2)\n",
    "    return x[0]**(1 - gamma) * (1 + (nu-1) * math.exp(-nu * (T - t)))**gamma / (nu**gamma * (1 - gamma))\n",
    "\n",
    "t_lo, x_lo, x_hi, n = 0., 100., 200., 2\n",
    "grid = np.linspace(x_lo, x_hi, 100)\n",
    "grid_d_dim = np.expand_dims(grid, axis=0)\n",
    "grid_d_dim_with_t = np.concatenate((t_lo * np.ones((1, 100)), grid_d_dim), axis=0)\n",
    "\n",
    "T = .1\n",
    "true = exact_example(t_lo, grid_d_dim, T).real\n",
    "terminal = exact_example(T, grid_d_dim, T).real"
   ]
  },
  {
   "cell_type": "code",
   "execution_count": 18,
   "metadata": {
    "colab": {
     "base_uri": "https://localhost:8080/",
     "height": 1000
    },
    "executionInfo": {
     "elapsed": 2091892,
     "status": "ok",
     "timestamp": 1647955647501,
     "user": {
      "displayName": "nguwi jy",
      "photoUrl": "https://lh3.googleusercontent.com/a-/AOh14GgoiFFc59OKXMvhrMZCwWWzqPAzDXA1ooQ_zi8p=s64",
      "userId": "17294038731682000497"
     },
     "user_tz": -480
    },
    "id": "dlLo0i8sg5Tv",
    "outputId": "a6683f1f-51f3-4aa2-fe3c-8ffffce595ec",
    "pycharm": {
     "name": "#%%\n"
    }
   },
   "outputs": [
    {
     "name": "stdout",
     "output_type": "stream",
     "text": [
      "#### Starting deep branching method with seed 0 - 1 out of 10 times\n",
      "Time taken: 42 seconds; L1 error: 9.15E-03; L2 error: 1.41E-04; rel error: 3.59E-04.\n",
      "fdb runtime: 0 seconds; total runtime: 42 seconds.\n",
      "#### Starting deep BSDE method with seed 0 - 1 out of 10 times\n",
      "Time taken: 151 seconds; L1 error: 1.69E+00; L2 error: 2.89E+00; rel error: 6.66E-02.\n",
      "\n",
      "\n",
      "#### Starting deep branching method with seed 1 - 2 out of 10 times\n",
      "Time taken: 41 seconds; L1 error: 1.28E-02; L2 error: 2.40E-04; rel error: 4.94E-04.\n",
      "fdb runtime: 0 seconds; total runtime: 41 seconds.\n",
      "#### Starting deep BSDE method with seed 1 - 2 out of 10 times\n",
      "Time taken: 154 seconds; L1 error: 1.52E+00; L2 error: 2.38E+00; rel error: 5.90E-02.\n",
      "\n",
      "\n",
      "#### Starting deep branching method with seed 2 - 3 out of 10 times\n",
      "Time taken: 41 seconds; L1 error: 9.37E-03; L2 error: 1.39E-04; rel error: 3.66E-04.\n",
      "fdb runtime: 0 seconds; total runtime: 41 seconds.\n",
      "#### Starting deep BSDE method with seed 2 - 3 out of 10 times\n",
      "Time taken: 154 seconds; L1 error: 1.69E+00; L2 error: 2.88E+00; rel error: 6.57E-02.\n",
      "\n",
      "\n",
      "#### Starting deep branching method with seed 3 - 4 out of 10 times\n",
      "Time taken: 42 seconds; L1 error: 8.66E-03; L2 error: 1.12E-04; rel error: 3.46E-04.\n",
      "fdb runtime: 0 seconds; total runtime: 42 seconds.\n",
      "#### Starting deep BSDE method with seed 3 - 4 out of 10 times\n",
      "Time taken: 153 seconds; L1 error: 1.57E+00; L2 error: 2.49E+00; rel error: 6.13E-02.\n",
      "\n",
      "\n",
      "#### Starting deep branching method with seed 4 - 5 out of 10 times\n",
      "Time taken: 41 seconds; L1 error: 1.37E-02; L2 error: 2.68E-04; rel error: 5.49E-04.\n",
      "fdb runtime: 0 seconds; total runtime: 41 seconds.\n",
      "#### Starting deep BSDE method with seed 4 - 5 out of 10 times\n",
      "Time taken: 157 seconds; L1 error: 1.58E+00; L2 error: 2.50E+00; rel error: 6.17E-02.\n",
      "\n",
      "\n",
      "#### Starting deep branching method with seed 5 - 6 out of 10 times\n",
      "Time taken: 39 seconds; L1 error: 1.16E-02; L2 error: 1.99E-04; rel error: 4.50E-04.\n",
      "fdb runtime: 0 seconds; total runtime: 39 seconds.\n",
      "#### Starting deep BSDE method with seed 5 - 6 out of 10 times\n",
      "Time taken: 152 seconds; L1 error: 1.74E+00; L2 error: 3.25E+00; rel error: 6.65E-02.\n",
      "\n",
      "\n",
      "#### Starting deep branching method with seed 6 - 7 out of 10 times\n",
      "Time taken: 41 seconds; L1 error: 1.11E-02; L2 error: 1.88E-04; rel error: 4.35E-04.\n",
      "fdb runtime: 0 seconds; total runtime: 41 seconds.\n",
      "#### Starting deep BSDE method with seed 6 - 7 out of 10 times\n",
      "Time taken: 153 seconds; L1 error: 1.40E+00; L2 error: 2.47E+00; rel error: 5.77E-02.\n",
      "\n",
      "\n",
      "#### Starting deep branching method with seed 7 - 8 out of 10 times\n",
      "Time taken: 39 seconds; L1 error: 1.39E-02; L2 error: 3.13E-04; rel error: 5.36E-04.\n",
      "fdb runtime: 0 seconds; total runtime: 39 seconds.\n",
      "#### Starting deep BSDE method with seed 7 - 8 out of 10 times\n",
      "Time taken: 153 seconds; L1 error: 1.50E+00; L2 error: 2.34E+00; rel error: 5.79E-02.\n",
      "\n",
      "\n",
      "#### Starting deep branching method with seed 8 - 9 out of 10 times\n",
      "Time taken: 39 seconds; L1 error: 8.70E-03; L2 error: 1.28E-04; rel error: 3.43E-04.\n",
      "fdb runtime: 0 seconds; total runtime: 39 seconds.\n",
      "#### Starting deep BSDE method with seed 8 - 9 out of 10 times\n",
      "Time taken: 157 seconds; L1 error: 1.60E+00; L2 error: 2.58E+00; rel error: 6.22E-02.\n",
      "\n",
      "\n",
      "#### Starting deep branching method with seed 9 - 10 out of 10 times\n",
      "Time taken: 44 seconds; L1 error: 8.50E-03; L2 error: 1.17E-04; rel error: 3.32E-04.\n",
      "fdb runtime: 0 seconds; total runtime: 44 seconds.\n",
      "#### Starting deep BSDE method with seed 9 - 10 out of 10 times\n",
      "Time taken: 150 seconds; L1 error: 1.66E+00; L2 error: 2.97E+00; rel error: 6.37E-02.\n",
      "\n",
      "\n",
      "\n",
      "\n",
      "######## Summary for deep branching method\n",
      "runtime:        41\n",
      "fdb runtime:    0\n",
      "total runtime:  41\n",
      "mean L1 error:  1.08E-02\n",
      "std L1 error:   2.05E-03\n",
      "mean L2 error:  1.84E-04\n",
      "std L2 error:   6.63E-05\n",
      "mean rel error: 4.21E-04\n",
      "std rel error:  7.91E-05\n",
      "\n",
      "\n",
      "######## Summary for deep BSDE method\n",
      "runtime:        153\n",
      "mean L1 error:  1.59E+00\n",
      "std L1 error:   9.69E-02\n",
      "mean L2 error:  2.67E+00\n",
      "std L2 error:   2.86E-01\n",
      "mean rel error: 6.22E-02\n",
      "std rel error:  3.20E-03\n"
     ]
    },
    {
     "data": {
      "image/png": "[encoded data removed]",
      "text/plain": [
       "<Figure size 432x288 with 1 Axes>"
      ]
     },
     "metadata": {
      "needs_background": "light"
     },
     "output_type": "display_data"
    }
   ],
   "source": [
    "# with 2BSDE...\n",
    "#\n",
    "# Performance comparison, deep branching seems to have gradient problem, hence we use relu activation function\n",
    "# Also, it doesn't work for DGM method because of possible zero second derivatives, so we disable it\n",
    "#\n",
    "compare_performance(grid, grid_d_dim, grid_d_dim_with_t, t_lo, true, terminal=terminal, # seeds=[2],\n",
    "                    disable_galerkin=True, # verbose=True, debug_mode=True,\n",
    "                    T=T, device=device, epochs=3000, fname=\"merton\",\n",
    "                    branch_nb_states=1000, branch_nb_path_per_state=10000,\n",
    "                    branch_patches=1, branch_exponential_lambda=-math.log(.95)/T,\n",
    "                    branch_nb_states_per_batch=1000, branch_activation=\"relu\",\n",
    "                    second_order=True, bsde_nb_states=1000, bsde_nb_time_intervals=4, y_lo=0, y_hi=100,\n",
    "                    dgm_nb_states=10000, f_fun=f_example, dgm_f_fun=dgm_f_example,\n",
    "                    deriv_map=deriv_map, dgm_deriv_map=dgm_deriv_map, phi_fun=phi_example)"
   ]
  },
  {
   "cell_type": "code",
   "execution_count": 19,
   "metadata": {
    "colab": {
     "base_uri": "https://localhost:8080/",
     "height": 1000
    },
    "executionInfo": {
     "elapsed": 52128,
     "status": "ok",
     "timestamp": 1646277595359,
     "user": {
      "displayName": "nguwi jy",
      "photoUrl": "https://lh3.googleusercontent.com/a-/AOh14GgoiFFc59OKXMvhrMZCwWWzqPAzDXA1ooQ_zi8p=s64",
      "userId": "17294038731682000497"
     },
     "user_tz": -480
    },
    "id": "oZmS8ZhVndjw",
    "outputId": "b55e7f62-aa9f-40e0-c72e-7df459993c3d",
    "pycharm": {
     "name": "#%%\n"
    }
   },
   "outputs": [
    {
     "name": "stdout",
     "output_type": "stream",
     "text": [
      "#### Starting deep branching method with seed 2 - 1 out of 1 times\n",
      "Patch 0: generation of samples take 27.776033639907837 seconds.\n"
     ]
    },
    {
     "data": {
      "image/png": "[encoded data removed]",
      "text/plain": [
       "<Figure size 432x288 with 1 Axes>"
      ]
     },
     "metadata": {
      "needs_background": "light"
     },
     "output_type": "display_data"
    },
    {
     "name": "stdout",
     "output_type": "stream",
     "text": [
      "Patch 0: epoch 0 with loss 668.4889526367188\n"
     ]
    },
    {
     "data": {
      "image/png": "[encoded data removed]",
      "text/plain": [
       "<Figure size 432x288 with 1 Axes>"
      ]
     },
     "metadata": {
      "needs_background": "light"
     },
     "output_type": "display_data"
    },
    {
     "name": "stdout",
     "output_type": "stream",
     "text": [
      "Patch 0: epoch 500 with loss 9.09229564666748\n"
     ]
    },
    {
     "data": {
      "image/png": "[encoded data removed]",
      "text/plain": [
       "<Figure size 432x288 with 1 Axes>"
      ]
     },
     "metadata": {
      "needs_background": "light"
     },
     "output_type": "display_data"
    },
    {
     "name": "stdout",
     "output_type": "stream",
     "text": [
      "Patch 0: epoch 1000 with loss 9.092215538024902\n"
     ]
    },
    {
     "data": {
      "image/png": "[encoded data removed]",
      "text/plain": [
       "<Figure size 432x288 with 1 Axes>"
      ]
     },
     "metadata": {
      "needs_background": "light"
     },
     "output_type": "display_data"
    },
    {
     "name": "stdout",
     "output_type": "stream",
     "text": [
      "Patch 0: epoch 1500 with loss 9.092209815979004\n"
     ]
    },
    {
     "data": {
      "image/png": "[encoded data removed]",
      "text/plain": [
       "<Figure size 432x288 with 1 Axes>"
      ]
     },
     "metadata": {
      "needs_background": "light"
     },
     "output_type": "display_data"
    },
    {
     "name": "stdout",
     "output_type": "stream",
     "text": [
      "Patch 0: epoch 2000 with loss 9.092199325561523\n"
     ]
    },
    {
     "data": {
      "image/png": "[encoded data removed]",
      "text/plain": [
       "<Figure size 432x288 with 1 Axes>"
      ]
     },
     "metadata": {
      "needs_background": "light"
     },
     "output_type": "display_data"
    },
    {
     "name": "stdout",
     "output_type": "stream",
     "text": [
      "Patch 0: epoch 2500 with loss 9.092192649841309\n"
     ]
    },
    {
     "data": {
      "image/png": "[encoded data removed]",
      "text/plain": [
       "<Figure size 432x288 with 1 Axes>"
      ]
     },
     "metadata": {
      "needs_background": "light"
     },
     "output_type": "display_data"
    },
    {
     "name": "stdout",
     "output_type": "stream",
     "text": [
      "Patch 0: epoch 2999 with loss 9.092195510864258\n",
      "Patch 0: training of neural network with 3000 epochs take 14.290551662445068 seconds.\n",
      "Time taken: 42 seconds; L1 error: 2.16E+03; L2 error: 4.65E+06; rel error: 8.49E+01.\n",
      "fdb runtime: 0 seconds; total runtime: 42 seconds.\n",
      "\n",
      "\n",
      "\n",
      "\n",
      "######## Summary for deep branching method\n",
      "runtime:        42\n",
      "fdb runtime:    0\n",
      "total runtime:  42\n",
      "mean L1 error:  2.16E+03\n",
      "std L1 error:   0.00E+00\n",
      "mean L2 error:  4.65E+06\n",
      "std L2 error:   0.00E+00\n",
      "mean rel error: 8.49E+01\n",
      "std rel error:  0.00E+00\n"
     ]
    },
    {
     "data": {
      "image/png": "[encoded data removed]",
      "text/plain": [
       "<Figure size 432x288 with 1 Axes>"
      ]
     },
     "metadata": {
      "needs_background": "light"
     },
     "output_type": "display_data"
    }
   ],
   "source": [
    "# Performance comparison, seems to have gradient problem when using tanh activation\n",
    "compare_performance(grid, grid_d_dim, grid_d_dim_with_t, t_lo, true, terminal=terminal, disable_bsde=True, seeds=[2],\n",
    "                    disable_galerkin=True, verbose=True, debug_mode=True,\n",
    "                    T=T, device=device, epochs=3000,\n",
    "                    branch_nb_states=1000, branch_nb_path_per_state=10000,\n",
    "                    branch_patches=1, branch_exponential_lambda=-math.log(.95)/T,\n",
    "                    branch_nb_states_per_batch=1000, # branch_activation=\"relu\",\n",
    "                    dgm_nb_states=10000, f_fun=f_example, dgm_f_fun=dgm_f_example,\n",
    "                    deriv_map=deriv_map, dgm_deriv_map=dgm_deriv_map, phi_fun=phi_example)"
   ]
  },
  {
   "cell_type": "markdown",
   "metadata": {},
   "source": [
    "## Generalized burgers equation"
   ]
  },
  {
   "cell_type": "code",
   "execution_count": 20,
   "metadata": {},
   "outputs": [],
   "source": [
    "def gen_fun_and_inv(n, eps, nu, u1, u2):\n",
    "    if n <= 1/4 and (1/n) % 1 == 0:\n",
    "        print(\"Infinity detected when calculating hypergeometric function, the calculation is not accurate!\")\n",
    "    if n == 1:\n",
    "        fun = (\n",
    "            lambda u:(\n",
    "                2*nu/(u2-u1)*np.log((u2 - u)/(u - u1))\n",
    "            )\n",
    "        )\n",
    "    elif n == 1/2:\n",
    "        fun = (\n",
    "            lambda u: (\n",
    "                (2*nu)**2*(\n",
    "                    (u2-u1)**(-2)*(1/(u-u1) - 1/(u2-u))\n",
    "                    + 2*(u2-u1)**(-3)*np.log((u2-u)/(u-u1)))\n",
    "            )\n",
    "        )\n",
    "    elif n == 1/3:\n",
    "        fun = (\n",
    "            lambda u: (\n",
    "                (2*nu)**3*(\n",
    "                    .5*(u2-u1)**(-3)*(1/(u-u1)**2 - 1/(u2-u)**2)\n",
    "                    + 3*(u2-u1)**(-4)*(1/(u-u1) - 1/(u2-u))\n",
    "                    + 6*(u2-u1)**(-5)*np.log((u2-u)/(u-u1)))\n",
    "            )\n",
    "        )\n",
    "    else:\n",
    "        fun = (lambda u:-(2*nu)**(1/n)*n*(u-u1)*((u2-u1)*(u-u1))**(-1/n)*special.hyp2f1(1/n,1-1/n,2-1/n, (u-u1)/(u2-u1))/(n-1))\n",
    "    inv = (lambda xi: inversefunc(fun, y_values=xi, domain=[u1+eps,u2-eps]))\n",
    "    return fun, inv\n",
    "\n",
    "\n",
    "def gen_for_generalized_burgers(\n",
    "    n=1,\n",
    "    T=1.,\n",
    "    u1=0.,\n",
    "    u2=1.,\n",
    "    nu=.5,\n",
    "    eps=1e-6,\n",
    "    eps_graph=1e-2,\n",
    "    verbose=False\n",
    "):\n",
    "    neurons = 50\n",
    "    nb_points = 10000\n",
    "    lambd = (u1 + u2) / 2\n",
    "    require_training = not(n == 1 or n == 2)\n",
    "    fun, inv = gen_fun_and_inv(n=n, eps=eps, nu=nu, u1=u1, u2=u2)\n",
    "    \n",
    "    if require_training:\n",
    "        torch.manual_seed(0)\n",
    "        # neural network parameter\n",
    "        inv_model = torch.nn.Sequential(\n",
    "            torch.nn.BatchNorm1d(1, device=device),\n",
    "            torch.nn.Linear(1, neurons, device=device),\n",
    "            torch.nn.Tanh(),\n",
    "            torch.nn.BatchNorm1d(neurons, device=device),\n",
    "            torch.nn.Linear(neurons, neurons, device=device),\n",
    "            torch.nn.Tanh(),\n",
    "            torch.nn.BatchNorm1d(neurons, device=device),\n",
    "            torch.nn.Linear(neurons, neurons, device=device),\n",
    "            torch.nn.Tanh(),\n",
    "            torch.nn.BatchNorm1d(neurons, device=device),\n",
    "            torch.nn.Linear(neurons, neurons, device=device),\n",
    "            torch.nn.Tanh(),\n",
    "            torch.nn.BatchNorm1d(neurons, device=device),\n",
    "            torch.nn.Linear(neurons, neurons, device=device),\n",
    "            torch.nn.Tanh(),\n",
    "            torch.nn.BatchNorm1d(neurons, device=device),\n",
    "            torch.nn.Linear(neurons, 1, device=device),\n",
    "        )\n",
    "\n",
    "        # define the functions, x, and y\n",
    "        x_for_fun = np.linspace(u1, u2, nb_points + 2)[1:-1]\n",
    "        x_lo, x_hi = fun(u2-eps), fun(u1+eps)\n",
    "        x = np.linspace(x_lo, x_hi, nb_points)\n",
    "        y = torch.tensor(inv(x), dtype=torch.get_default_dtype(), device=device)\n",
    "        x = torch.tensor(x, dtype=torch.get_default_dtype(), device=device).unsqueeze(dim=-1)\n",
    "\n",
    "        # neural network training\n",
    "        optimizer = torch.optim.Adam(inv_model.parameters(), lr=1e-2)\n",
    "        scheduler = torch.optim.lr_scheduler.MultiStepLR(optimizer, milestones=[2000, 4000, 6000, 8000], gamma=0.5)\n",
    "        loss_fun = torch.nn.MSELoss()\n",
    "        inv_model.train()\n",
    "        for epoch in range(10000):\n",
    "            optimizer.zero_grad()\n",
    "            loss = loss_fun(y, inv_model(x).squeeze())\n",
    "            loss.backward()\n",
    "            optimizer.step()\n",
    "            scheduler.step()\n",
    "            if epoch % 100 == 0 and verbose:\n",
    "                print(f\"Epoch {epoch}, loss = {loss}\")\n",
    "        inv_model.eval()\n",
    "\n",
    "        # detach all model parameters to save memory\n",
    "        for p in inv_model.parameters():\n",
    "            p.requires_grad = False\n",
    "\n",
    "        if verbose:\n",
    "            # plot the graph\n",
    "            plt.plot(x.cpu(), inv_model(x).detach().cpu(), label=\"NN approximation\")\n",
    "            plt.plot(x.cpu(), y.cpu(), label=\"true inverse\")\n",
    "            plt.legend()\n",
    "            plt.show()\n",
    "            print(f\"The max difference is {(y.cpu() - inv_model(x).detach().cpu().squeeze()).abs().max()}.\")\n",
    "\n",
    "    # function definition\n",
    "    deriv_map = np.array([0, 1, 2]).reshape(-1, 1)\n",
    "    def f_example(y):\n",
    "        \"\"\"\n",
    "        idx 0 -> no deriv\n",
    "        idx 1 -> first deriv\n",
    "        idx 2 -> second deriv\n",
    "        \"\"\"\n",
    "        return (\n",
    "            - y[0] * y[1]\n",
    "            + nu * y[2] * n * y[1].abs()**(n-1) \n",
    "            - nu * y[2]\n",
    "        )\n",
    "\n",
    "    def phi_example(x):\n",
    "        if n == 1:\n",
    "            return u2 + (u1 - u2) / (1 + torch.exp((u1 - u2) * x[0] / (2 * nu)))\n",
    "        elif n == 2:\n",
    "            return u1 + (u2 - u1) * torch.sin(-x[0] / (2 * math.sqrt(2 * nu)))**2\n",
    "        else:\n",
    "            return inv_model(x.T).squeeze(dim=-1)\n",
    "\n",
    "    def exact_example(t, x, T):\n",
    "        xi = x[0] - lambd * (T - t)\n",
    "        if n == 1:\n",
    "            return u2 + (u1 - u2) / (1 + np.exp((u1 - u2) * xi / (2 * nu)))\n",
    "        elif n == 2:\n",
    "            return u1 + (u2 - u1) * np.sin(-xi / (2 * math.sqrt(2 * nu)))**2\n",
    "        else:\n",
    "            return inv(xi)\n",
    "\n",
    "    t_lo, x_lo, x_hi = 0., -10., 10.\n",
    "    # best view for waterfall, eps < eps_graph\n",
    "    x_lo, x_hi = fun(u2-eps_graph) + lambd * T, fun(u1+eps_graph)\n",
    "    grid = np.linspace(x_lo, x_hi, 100)\n",
    "    grid_d_dim = np.expand_dims(grid, axis=0)\n",
    "    grid_d_dim_with_t = np.concatenate((t_lo * np.ones((1, 100)), grid_d_dim), axis=0)\n",
    "\n",
    "    true = exact_example(t_lo, grid_d_dim, T)\n",
    "    terminal = exact_example(T, grid_d_dim, T)\n",
    "    return grid, grid_d_dim, grid_d_dim_with_t, t_lo, true, terminal, f_example, deriv_map, phi_example"
   ]
  },
  {
   "cell_type": "code",
   "execution_count": 21,
   "metadata": {},
   "outputs": [
    {
     "name": "stdout",
     "output_type": "stream",
     "text": [
      "#### Starting deep branching method with seed 0 - 1 out of 10 times\n",
      "Time taken: 34 seconds; L1 error: 9.04E-04; L2 error: 1.28E-06; rel error: 5.08E-03.\n",
      "fdb runtime: 0 seconds; total runtime: 34 seconds.\n",
      "\n",
      "\n",
      "#### Starting deep branching method with seed 1 - 2 out of 10 times\n",
      "Time taken: 34 seconds; L1 error: 8.44E-04; L2 error: 1.20E-06; rel error: 4.90E-03.\n",
      "fdb runtime: 0 seconds; total runtime: 34 seconds.\n",
      "\n",
      "\n",
      "#### Starting deep branching method with seed 2 - 3 out of 10 times\n",
      "Time taken: 33 seconds; L1 error: 7.85E-04; L2 error: 9.39E-07; rel error: 4.34E-03.\n",
      "fdb runtime: 0 seconds; total runtime: 33 seconds.\n",
      "\n",
      "\n",
      "#### Starting deep branching method with seed 3 - 4 out of 10 times\n",
      "Time taken: 33 seconds; L1 error: 9.33E-04; L2 error: 1.46E-06; rel error: 5.09E-03.\n",
      "fdb runtime: 0 seconds; total runtime: 33 seconds.\n",
      "\n",
      "\n",
      "#### Starting deep branching method with seed 4 - 5 out of 10 times\n",
      "Time taken: 34 seconds; L1 error: 6.53E-04; L2 error: 7.36E-07; rel error: 3.34E-03.\n",
      "fdb runtime: 0 seconds; total runtime: 34 seconds.\n",
      "\n",
      "\n",
      "#### Starting deep branching method with seed 5 - 6 out of 10 times\n",
      "Time taken: 33 seconds; L1 error: 1.28E-03; L2 error: 2.16E-06; rel error: 9.43E-03.\n",
      "fdb runtime: 0 seconds; total runtime: 33 seconds.\n",
      "\n",
      "\n",
      "#### Starting deep branching method with seed 6 - 7 out of 10 times\n",
      "Time taken: 33 seconds; L1 error: 1.03E-03; L2 error: 1.55E-06; rel error: 8.71E-03.\n",
      "fdb runtime: 0 seconds; total runtime: 33 seconds.\n",
      "\n",
      "\n",
      "#### Starting deep branching method with seed 7 - 8 out of 10 times\n",
      "Time taken: 33 seconds; L1 error: 9.91E-04; L2 error: 1.67E-06; rel error: 6.05E-03.\n",
      "fdb runtime: 0 seconds; total runtime: 33 seconds.\n",
      "\n",
      "\n",
      "#### Starting deep branching method with seed 8 - 9 out of 10 times\n",
      "Time taken: 33 seconds; L1 error: 7.36E-04; L2 error: 1.13E-06; rel error: 6.62E-03.\n",
      "fdb runtime: 0 seconds; total runtime: 33 seconds.\n",
      "\n",
      "\n",
      "#### Starting deep branching method with seed 9 - 10 out of 10 times\n",
      "Time taken: 32 seconds; L1 error: 1.14E-03; L2 error: 3.30E-06; rel error: 5.49E-03.\n",
      "fdb runtime: 0 seconds; total runtime: 32 seconds.\n",
      "\n",
      "\n",
      "\n",
      "\n",
      "######## Summary for deep branching method\n",
      "runtime:        33\n",
      "fdb runtime:    0\n",
      "total runtime:  33\n",
      "mean L1 error:  9.29E-04\n",
      "std L1 error:   1.78E-04\n",
      "mean L2 error:  1.54E-06\n",
      "std L2 error:   6.96E-07\n",
      "mean rel error: 5.90E-03\n",
      "std rel error:  1.80E-03\n"
     ]
    },
    {
     "data": {
      "image/png": "[encoded data removed]",
      "text/plain": [
       "<Figure size 432x288 with 1 Axes>"
      ]
     },
     "metadata": {
      "needs_background": "light"
     },
     "output_type": "display_data"
    }
   ],
   "source": [
    "# n = 1\n",
    "n, T = 1, .5\n",
    "grid, grid_d_dim, grid_d_dim_with_t, t_lo, true, terminal, \\\n",
    "    f_example, deriv_map, phi_example = gen_for_generalized_burgers(n=n, T=T)\n",
    "compare_performance(grid, grid_d_dim, grid_d_dim_with_t, t_lo, true, terminal=terminal, # seeds=[0],\n",
    "                    disable_bsde=True, disable_galerkin=True, # verbose=True, debug_mode=True,\n",
    "                    T=T, device=device, epochs=3000, fname=f\"burger_{n}\",\n",
    "                    branch_nb_states=1000, branch_nb_path_per_state=10000,\n",
    "                    branch_patches=1, branch_exponential_lambda=-math.log(.95)/T,\n",
    "                    branch_nb_states_per_batch=200,\n",
    "                    bsde_nb_states=1000, bsde_nb_time_intervals=4,\n",
    "                    dgm_nb_states=10000, f_fun=f_example, dgm_f_fun=f_example,\n",
    "                    deriv_map=deriv_map, dgm_deriv_map=deriv_map, phi_fun=phi_example)"
   ]
  },
  {
   "cell_type": "code",
   "execution_count": 22,
   "metadata": {},
   "outputs": [
    {
     "name": "stdout",
     "output_type": "stream",
     "text": [
      "#### Starting deep branching method with seed 0 - 1 out of 10 times\n",
      "Time taken: 34 seconds; L1 error: 2.54E-03; L2 error: 1.57E-05; rel error: 2.32E-02.\n",
      "fdb runtime: 0 seconds; total runtime: 34 seconds.\n",
      "\n",
      "\n",
      "#### Starting deep branching method with seed 1 - 2 out of 10 times\n",
      "Time taken: 33 seconds; L1 error: 2.81E-03; L2 error: 1.63E-05; rel error: 2.37E-02.\n",
      "fdb runtime: 0 seconds; total runtime: 33 seconds.\n",
      "\n",
      "\n",
      "#### Starting deep branching method with seed 2 - 3 out of 10 times\n",
      "Time taken: 32 seconds; L1 error: 2.28E-03; L2 error: 1.14E-05; rel error: 1.80E-02.\n",
      "fdb runtime: 0 seconds; total runtime: 32 seconds.\n",
      "\n",
      "\n",
      "#### Starting deep branching method with seed 3 - 4 out of 10 times\n",
      "Time taken: 32 seconds; L1 error: 2.80E-03; L2 error: 1.36E-05; rel error: 2.10E-02.\n",
      "fdb runtime: 0 seconds; total runtime: 32 seconds.\n",
      "\n",
      "\n",
      "#### Starting deep branching method with seed 4 - 5 out of 10 times\n",
      "Time taken: 33 seconds; L1 error: 2.73E-03; L2 error: 1.34E-05; rel error: 2.83E-02.\n",
      "fdb runtime: 0 seconds; total runtime: 33 seconds.\n",
      "\n",
      "\n",
      "#### Starting deep branching method with seed 5 - 6 out of 10 times\n",
      "Time taken: 33 seconds; L1 error: 2.63E-03; L2 error: 1.36E-05; rel error: 1.88E-02.\n",
      "fdb runtime: 0 seconds; total runtime: 33 seconds.\n",
      "\n",
      "\n",
      "#### Starting deep branching method with seed 6 - 7 out of 10 times\n",
      "Time taken: 34 seconds; L1 error: 1.88E-03; L2 error: 7.23E-06; rel error: 1.70E-02.\n",
      "fdb runtime: 0 seconds; total runtime: 34 seconds.\n",
      "\n",
      "\n",
      "#### Starting deep branching method with seed 7 - 8 out of 10 times\n",
      "Time taken: 33 seconds; L1 error: 2.53E-03; L2 error: 1.29E-05; rel error: 1.60E-02.\n",
      "fdb runtime: 0 seconds; total runtime: 33 seconds.\n",
      "\n",
      "\n",
      "#### Starting deep branching method with seed 8 - 9 out of 10 times\n",
      "Time taken: 33 seconds; L1 error: 2.17E-03; L2 error: 8.85E-06; rel error: 1.80E-02.\n",
      "fdb runtime: 0 seconds; total runtime: 33 seconds.\n",
      "\n",
      "\n",
      "#### Starting deep branching method with seed 9 - 10 out of 10 times\n",
      "Time taken: 33 seconds; L1 error: 2.16E-03; L2 error: 1.06E-05; rel error: 2.00E-02.\n",
      "fdb runtime: 0 seconds; total runtime: 33 seconds.\n",
      "\n",
      "\n",
      "\n",
      "\n",
      "######## Summary for deep branching method\n",
      "runtime:        33\n",
      "fdb runtime:    0\n",
      "total runtime:  33\n",
      "mean L1 error:  2.45E-03\n",
      "std L1 error:   2.99E-04\n",
      "mean L2 error:  1.24E-05\n",
      "std L2 error:   2.72E-06\n",
      "mean rel error: 2.04E-02\n",
      "std rel error:  3.56E-03\n"
     ]
    },
    {
     "data": {
      "image/png": "[encoded data removed]",
      "text/plain": [
       "<Figure size 432x288 with 1 Axes>"
      ]
     },
     "metadata": {
      "needs_background": "light"
     },
     "output_type": "display_data"
    }
   ],
   "source": [
    "# n = 2\n",
    "n, T = 2, .2\n",
    "grid, grid_d_dim, grid_d_dim_with_t, t_lo, true, terminal, \\\n",
    "    f_example, deriv_map, phi_example = gen_for_generalized_burgers(n=n, T=T)\n",
    "compare_performance(grid, grid_d_dim, grid_d_dim_with_t, t_lo, true, terminal=terminal, # seeds=[0],\n",
    "                    disable_bsde=True, disable_galerkin=True, # verbose=True, debug_mode=True,\n",
    "                    T=T, device=device, epochs=3000, fname=f\"burger_{n}\",\n",
    "                    branch_nb_states=1000, branch_nb_path_per_state=10000,\n",
    "                    branch_patches=1, branch_exponential_lambda=-math.log(.95)/T,\n",
    "                    branch_nb_states_per_batch=200,\n",
    "                    bsde_nb_states=1000, bsde_nb_time_intervals=4,\n",
    "                    dgm_nb_states=10000, f_fun=f_example, dgm_f_fun=f_example,\n",
    "                    deriv_map=deriv_map, dgm_deriv_map=deriv_map, phi_fun=phi_example)"
   ]
  },
  {
   "cell_type": "code",
   "execution_count": 23,
   "metadata": {},
   "outputs": [
    {
     "name": "stdout",
     "output_type": "stream",
     "text": [
      "#### Starting deep branching method with seed 0 - 1 out of 10 times\n",
      "Time taken: 43 seconds; L1 error: 1.33E-03; L2 error: 2.83E-06; rel error: 2.94E-03.\n",
      "fdb runtime: 0 seconds; total runtime: 43 seconds.\n",
      "\n",
      "\n",
      "#### Starting deep branching method with seed 1 - 2 out of 10 times\n",
      "Time taken: 43 seconds; L1 error: 1.14E-03; L2 error: 2.87E-06; rel error: 2.45E-03.\n",
      "fdb runtime: 0 seconds; total runtime: 43 seconds.\n",
      "\n",
      "\n",
      "#### Starting deep branching method with seed 2 - 3 out of 10 times\n",
      "Time taken: 42 seconds; L1 error: 1.13E-03; L2 error: 3.60E-06; rel error: 2.75E-03.\n",
      "fdb runtime: 0 seconds; total runtime: 42 seconds.\n",
      "\n",
      "\n",
      "#### Starting deep branching method with seed 3 - 4 out of 10 times\n",
      "Time taken: 42 seconds; L1 error: 7.46E-04; L2 error: 1.17E-06; rel error: 1.77E-03.\n",
      "fdb runtime: 0 seconds; total runtime: 42 seconds.\n",
      "\n",
      "\n",
      "#### Starting deep branching method with seed 4 - 5 out of 10 times\n",
      "Time taken: 43 seconds; L1 error: 1.07E-03; L2 error: 2.40E-06; rel error: 2.53E-03.\n",
      "fdb runtime: 0 seconds; total runtime: 43 seconds.\n",
      "\n",
      "\n",
      "#### Starting deep branching method with seed 5 - 6 out of 10 times\n",
      "Time taken: 44 seconds; L1 error: 9.30E-04; L2 error: 1.83E-06; rel error: 2.05E-03.\n",
      "fdb runtime: 0 seconds; total runtime: 44 seconds.\n",
      "\n",
      "\n",
      "#### Starting deep branching method with seed 6 - 7 out of 10 times\n",
      "Time taken: 43 seconds; L1 error: 1.12E-03; L2 error: 2.72E-06; rel error: 2.61E-03.\n",
      "fdb runtime: 0 seconds; total runtime: 43 seconds.\n",
      "\n",
      "\n",
      "#### Starting deep branching method with seed 7 - 8 out of 10 times\n",
      "Time taken: 43 seconds; L1 error: 1.11E-03; L2 error: 2.09E-06; rel error: 2.60E-03.\n",
      "fdb runtime: 0 seconds; total runtime: 43 seconds.\n",
      "\n",
      "\n",
      "#### Starting deep branching method with seed 8 - 9 out of 10 times\n",
      "Time taken: 43 seconds; L1 error: 1.02E-03; L2 error: 3.50E-06; rel error: 1.98E-03.\n",
      "fdb runtime: 0 seconds; total runtime: 43 seconds.\n",
      "\n",
      "\n",
      "#### Starting deep branching method with seed 9 - 10 out of 10 times\n",
      "Time taken: 43 seconds; L1 error: 1.37E-03; L2 error: 4.75E-06; rel error: 2.88E-03.\n",
      "fdb runtime: 0 seconds; total runtime: 43 seconds.\n",
      "\n",
      "\n",
      "\n",
      "\n",
      "######## Summary for deep branching method\n",
      "runtime:        43\n",
      "fdb runtime:    0\n",
      "total runtime:  43\n",
      "mean L1 error:  1.10E-03\n",
      "std L1 error:   1.69E-04\n",
      "mean L2 error:  2.78E-06\n",
      "std L2 error:   9.59E-07\n",
      "mean rel error: 2.46E-03\n",
      "std rel error:  3.74E-04\n"
     ]
    },
    {
     "data": {
      "image/png": "[encoded data removed]",
      "text/plain": [
       "<Figure size 432x288 with 1 Axes>"
      ]
     },
     "metadata": {
      "needs_background": "light"
     },
     "output_type": "display_data"
    }
   ],
   "source": [
    "# n = 1/2\n",
    "n, T = 1/2, 2.\n",
    "grid, grid_d_dim, grid_d_dim_with_t, t_lo, true, terminal, \\\n",
    "    f_example, deriv_map, phi_example = gen_for_generalized_burgers(n=n, T=T, eps=1e-3, eps_graph=1e-1)\n",
    "compare_performance(grid, grid_d_dim, grid_d_dim_with_t, t_lo, true, terminal=terminal, # seeds=[0],\n",
    "                    disable_bsde=True, disable_galerkin=True, # verbose=True, debug_mode=True,\n",
    "                    T=T, device=device, epochs=3000, fname=f\"burger_{n}\",\n",
    "                    branch_nb_states=1000, branch_nb_path_per_state=10000,\n",
    "                    branch_patches=1, branch_exponential_lambda=-math.log(.95)/T,\n",
    "                    branch_nb_states_per_batch=200,\n",
    "                    bsde_nb_states=1000, bsde_nb_time_intervals=4,\n",
    "                    dgm_nb_states=10000, f_fun=f_example, dgm_f_fun=f_example,\n",
    "                    deriv_map=deriv_map, dgm_deriv_map=deriv_map, phi_fun=phi_example)"
   ]
  },
  {
   "cell_type": "code",
   "execution_count": 24,
   "metadata": {},
   "outputs": [
    {
     "name": "stdout",
     "output_type": "stream",
     "text": [
      "#### Starting deep branching method with seed 0 - 1 out of 10 times\n",
      "Time taken: 43 seconds; L1 error: 3.11E-03; L2 error: 1.98E-05; rel error: 9.05E-03.\n",
      "fdb runtime: 0 seconds; total runtime: 43 seconds.\n",
      "\n",
      "\n",
      "#### Starting deep branching method with seed 1 - 2 out of 10 times\n",
      "Time taken: 43 seconds; L1 error: 2.79E-03; L2 error: 1.57E-05; rel error: 1.10E-02.\n",
      "fdb runtime: 0 seconds; total runtime: 43 seconds.\n",
      "\n",
      "\n",
      "#### Starting deep branching method with seed 2 - 3 out of 10 times\n",
      "Time taken: 41 seconds; L1 error: 2.19E-03; L2 error: 7.75E-06; rel error: 9.50E-03.\n",
      "fdb runtime: 0 seconds; total runtime: 41 seconds.\n",
      "\n",
      "\n",
      "#### Starting deep branching method with seed 3 - 4 out of 10 times\n",
      "Time taken: 42 seconds; L1 error: 2.45E-03; L2 error: 1.34E-05; rel error: 1.45E-02.\n",
      "fdb runtime: 0 seconds; total runtime: 42 seconds.\n",
      "\n",
      "\n",
      "#### Starting deep branching method with seed 4 - 5 out of 10 times\n",
      "Time taken: 44 seconds; L1 error: 3.03E-03; L2 error: 1.40E-05; rel error: 1.06E-02.\n",
      "fdb runtime: 0 seconds; total runtime: 44 seconds.\n",
      "\n",
      "\n",
      "#### Starting deep branching method with seed 5 - 6 out of 10 times\n",
      "Time taken: 44 seconds; L1 error: 3.55E-03; L2 error: 1.82E-05; rel error: 1.44E-02.\n",
      "fdb runtime: 0 seconds; total runtime: 44 seconds.\n",
      "\n",
      "\n",
      "#### Starting deep branching method with seed 6 - 7 out of 10 times\n",
      "Time taken: 43 seconds; L1 error: 3.99E-03; L2 error: 2.80E-05; rel error: 1.60E-02.\n",
      "fdb runtime: 0 seconds; total runtime: 43 seconds.\n",
      "\n",
      "\n",
      "#### Starting deep branching method with seed 7 - 8 out of 10 times\n",
      "Time taken: 43 seconds; L1 error: 2.39E-03; L2 error: 9.27E-06; rel error: 9.18E-03.\n",
      "fdb runtime: 0 seconds; total runtime: 44 seconds.\n",
      "\n",
      "\n",
      "#### Starting deep branching method with seed 8 - 9 out of 10 times\n",
      "Time taken: 43 seconds; L1 error: 4.88E-03; L2 error: 3.60E-05; rel error: 2.50E-02.\n",
      "fdb runtime: 0 seconds; total runtime: 43 seconds.\n",
      "\n",
      "\n",
      "#### Starting deep branching method with seed 9 - 10 out of 10 times\n",
      "Time taken: 43 seconds; L1 error: 2.76E-03; L2 error: 1.29E-05; rel error: 8.70E-03.\n",
      "fdb runtime: 0 seconds; total runtime: 43 seconds.\n",
      "\n",
      "\n",
      "\n",
      "\n",
      "######## Summary for deep branching method\n",
      "runtime:        43\n",
      "fdb runtime:    0\n",
      "total runtime:  43\n",
      "mean L1 error:  3.11E-03\n",
      "std L1 error:   7.84E-04\n",
      "mean L2 error:  1.75E-05\n",
      "std L2 error:   8.21E-06\n",
      "mean rel error: 1.28E-02\n",
      "std rel error:  4.76E-03\n"
     ]
    },
    {
     "data": {
      "image/png": "[encoded data removed]",
      "text/plain": [
       "<Figure size 432x288 with 1 Axes>"
      ]
     },
     "metadata": {
      "needs_background": "light"
     },
     "output_type": "display_data"
    }
   ],
   "source": [
    "# n = 3\n",
    "n, T = 3, .1\n",
    "grid, grid_d_dim, grid_d_dim_with_t, t_lo, true, terminal, \\\n",
    "    f_example, deriv_map, phi_example = gen_for_generalized_burgers(n=n, T=T)\n",
    "compare_performance(grid, grid_d_dim, grid_d_dim_with_t, t_lo, true, terminal=terminal, # seeds=[0],\n",
    "                    disable_bsde=True, disable_galerkin=True, # verbose=True, debug_mode=True,\n",
    "                    T=T, device=device, epochs=3000, fname=f\"burger_{n}\",\n",
    "                    branch_nb_states=1000, branch_nb_path_per_state=10000,\n",
    "                    branch_patches=1, branch_exponential_lambda=-math.log(.95)/T,\n",
    "                    branch_nb_states_per_batch=200,\n",
    "                    bsde_nb_states=1000, bsde_nb_time_intervals=4,\n",
    "                    dgm_nb_states=10000, f_fun=f_example, dgm_f_fun=f_example,\n",
    "                    deriv_map=deriv_map, dgm_deriv_map=deriv_map, phi_fun=phi_example)"
   ]
  },
  {
   "cell_type": "code",
   "execution_count": 25,
   "metadata": {},
   "outputs": [
    {
     "name": "stdout",
     "output_type": "stream",
     "text": [
      "#### Starting deep branching method with seed 0 - 1 out of 10 times\n",
      "Time taken: 43 seconds; L1 error: 1.77E-03; L2 error: 9.31E-06; rel error: 3.47E-03.\n",
      "fdb runtime: 0 seconds; total runtime: 44 seconds.\n",
      "\n",
      "\n",
      "#### Starting deep branching method with seed 1 - 2 out of 10 times\n",
      "Time taken: 43 seconds; L1 error: 1.65E-03; L2 error: 5.70E-06; rel error: 4.35E-03.\n",
      "fdb runtime: 0 seconds; total runtime: 43 seconds.\n",
      "\n",
      "\n",
      "#### Starting deep branching method with seed 2 - 3 out of 10 times\n",
      "Time taken: 42 seconds; L1 error: 1.39E-03; L2 error: 6.00E-06; rel error: 3.08E-03.\n",
      "fdb runtime: 0 seconds; total runtime: 42 seconds.\n",
      "\n",
      "\n",
      "#### Starting deep branching method with seed 3 - 4 out of 10 times\n",
      "Time taken: 42 seconds; L1 error: 1.34E-03; L2 error: 9.29E-06; rel error: 2.83E-03.\n",
      "fdb runtime: 0 seconds; total runtime: 42 seconds.\n",
      "\n",
      "\n",
      "#### Starting deep branching method with seed 4 - 5 out of 10 times\n",
      "Time taken: 44 seconds; L1 error: 1.73E-03; L2 error: 8.71E-06; rel error: 5.06E-03.\n",
      "fdb runtime: 0 seconds; total runtime: 44 seconds.\n",
      "\n",
      "\n",
      "#### Starting deep branching method with seed 5 - 6 out of 10 times\n",
      "Time taken: 42 seconds; L1 error: 1.77E-03; L2 error: 8.81E-06; rel error: 4.23E-03.\n",
      "fdb runtime: 0 seconds; total runtime: 42 seconds.\n",
      "\n",
      "\n",
      "#### Starting deep branching method with seed 6 - 7 out of 10 times\n",
      "Time taken: 41 seconds; L1 error: 1.95E-03; L2 error: 1.19E-05; rel error: 4.41E-03.\n",
      "fdb runtime: 0 seconds; total runtime: 41 seconds.\n",
      "\n",
      "\n",
      "#### Starting deep branching method with seed 7 - 8 out of 10 times\n",
      "Time taken: 42 seconds; L1 error: 1.88E-03; L2 error: 8.18E-06; rel error: 5.80E-03.\n",
      "fdb runtime: 0 seconds; total runtime: 42 seconds.\n",
      "\n",
      "\n",
      "#### Starting deep branching method with seed 8 - 9 out of 10 times\n",
      "Time taken: 42 seconds; L1 error: 1.71E-03; L2 error: 4.38E-06; rel error: 5.63E-03.\n",
      "fdb runtime: 0 seconds; total runtime: 42 seconds.\n",
      "\n",
      "\n",
      "#### Starting deep branching method with seed 9 - 10 out of 10 times\n",
      "Time taken: 42 seconds; L1 error: 1.66E-03; L2 error: 1.40E-05; rel error: 4.17E-03.\n",
      "fdb runtime: 0 seconds; total runtime: 42 seconds.\n",
      "\n",
      "\n",
      "\n",
      "\n",
      "######## Summary for deep branching method\n",
      "runtime:        42\n",
      "fdb runtime:    0\n",
      "total runtime:  42\n",
      "mean L1 error:  1.68E-03\n",
      "std L1 error:   1.82E-04\n",
      "mean L2 error:  8.62E-06\n",
      "std L2 error:   2.72E-06\n",
      "mean rel error: 4.30E-03\n",
      "std rel error:  9.48E-04\n"
     ]
    },
    {
     "data": {
      "image/png": "[encoded data removed]",
      "text/plain": [
       "<Figure size 432x288 with 1 Axes>"
      ]
     },
     "metadata": {
      "needs_background": "light"
     },
     "output_type": "display_data"
    }
   ],
   "source": [
    "# n = 1/3\n",
    "n, T = 1/3, 10.\n",
    "grid, grid_d_dim, grid_d_dim_with_t, t_lo, true, terminal, \\\n",
    "    f_example, deriv_map, phi_example = gen_for_generalized_burgers(n=n, T=T, eps=1e-2, eps_graph=1e-1)\n",
    "compare_performance(grid, grid_d_dim, grid_d_dim_with_t, t_lo, true, terminal=terminal, # seeds=[0],\n",
    "                    disable_bsde=True, disable_galerkin=True, # verbose=True, debug_mode=True,\n",
    "                    T=T, device=device, epochs=3000, fname=f\"burger_{n}\",\n",
    "                    branch_nb_states=1000, branch_nb_path_per_state=10000,\n",
    "                    branch_patches=1, branch_exponential_lambda=-math.log(.95)/T,\n",
    "                    branch_nb_states_per_batch=200,\n",
    "                    bsde_nb_states=1000, bsde_nb_time_intervals=4,\n",
    "                    dgm_nb_states=10000, f_fun=f_example, dgm_f_fun=f_example,\n",
    "                    deriv_map=deriv_map, dgm_deriv_map=deriv_map, phi_fun=phi_example)"
   ]
  },
  {
   "cell_type": "markdown",
   "metadata": {
    "id": "AnfA4mwqHCmN",
    "pycharm": {
     "name": "#%% md\n"
    }
   },
   "source": [
    "# d-dimensional PDE"
   ]
  },
  {
   "cell_type": "markdown",
   "metadata": {
    "id": "lGC3MnEEHLtv",
    "pycharm": {
     "name": "#%% md\n"
    }
   },
   "source": [
    "## Allen-Cahn"
   ]
  },
  {
   "cell_type": "code",
   "execution_count": 5,
   "metadata": {
    "id": "LyYL1JV0HOB6",
    "pycharm": {
     "name": "#%%\n"
    }
   },
   "outputs": [],
   "source": [
    "fixed_dim, dim = 0, 5\n",
    "\n",
    "# function definition\n",
    "deriv_map = np.array([0] * dim).reshape(-1, dim)\n",
    "def f_example(y):\n",
    "    \"\"\"\n",
    "    idx 0 -> no deriv\n",
    "    \"\"\"\n",
    "    return y[0] - y[0] ** 3\n",
    "\n",
    "dgm_deriv_map = np.concatenate((deriv_map, 2 * np.identity(dim)), axis=0)\n",
    "def dgm_f_example(y):\n",
    "    \"\"\"\n",
    "    idx 0      -> no deriv\n",
    "    idx 1 to n -> second deriv\n",
    "    \"\"\"\n",
    "    return .5 * y[1:].sum(axis=0) + y[0] - y[0] ** 3\n",
    "\n",
    "def phi_example(x):\n",
    "    return -0.5 - 0.5 * torch.nn.Tanh()(-.5 * x.sum(dim=0) / math.sqrt(dim))\n",
    "\n",
    "def exact_example(t, x, T):\n",
    "    return -0.5 - 0.5 * np.tanh(-.5*x.sum(axis=0)/math.sqrt(dim) + 3*(T-t)/4)\n",
    "\n",
    "t_lo, x_lo, x_hi, n = 0., -8., 8., 0\n",
    "grid = np.linspace(x_lo, x_hi, 100)\n",
    "x_mid = (x_lo + x_hi) / 2\n",
    "grid_d_dim = np.concatenate((x_mid * np.ones((fixed_dim, 100)), np.expand_dims(grid, axis=0), x_mid * np.ones((dim - fixed_dim - 1, 100))), axis=0)\n",
    "grid_d_dim_with_t = np.concatenate((t_lo * np.ones((1, 100)), grid_d_dim), axis=0)\n",
    "\n",
    "T = .5\n",
    "true = exact_example(t_lo, grid_d_dim, T)\n",
    "terminal = exact_example(T, grid_d_dim, T)"
   ]
  },
  {
   "cell_type": "code",
   "execution_count": 6,
   "metadata": {
    "colab": {
     "base_uri": "https://localhost:8080/",
     "height": 1000
    },
    "executionInfo": {
     "elapsed": 4142085,
     "status": "ok",
     "timestamp": 1647948149256,
     "user": {
      "displayName": "nguwi jy",
      "photoUrl": "https://lh3.googleusercontent.com/a-/AOh14GgoiFFc59OKXMvhrMZCwWWzqPAzDXA1ooQ_zi8p=s64",
      "userId": "17294038731682000497"
     },
     "user_tz": -480
    },
    "id": "1YyLnQxHiIjY",
    "outputId": "c42f30a5-153a-4e4d-8fe0-31294be990b5",
    "pycharm": {
     "name": "#%%\n"
    }
   },
   "outputs": [
    {
     "name": "stdout",
     "output_type": "stream",
     "text": [
      "#### Starting deep branching method with seed 0 - 1 out of 10 times\n",
      "Time taken: 60 seconds; L1 error: 3.45E-03; L2 error: 1.91E-05; rel error: 7.43E-03.\n",
      "fdb runtime: 0 seconds; total runtime: 60 seconds.\n",
      "#### Starting deep galerkin method with seed 0 - 1 out of 10 times\n",
      "Time taken: 137 seconds; L1 error: 6.03E-03; L2 error: 3.85E-05; rel error: 2.40E-02.\n",
      "#### Starting deep BSDE method with seed 0 - 1 out of 10 times\n",
      "Time taken: 85 seconds; L1 error: 3.75E-03; L2 error: 2.07E-05; rel error: 1.09E-02.\n",
      "\n",
      "\n",
      "#### Starting deep branching method with seed 1 - 2 out of 10 times\n",
      "Time taken: 55 seconds; L1 error: 3.19E-03; L2 error: 1.68E-05; rel error: 6.49E-03.\n",
      "fdb runtime: 0 seconds; total runtime: 55 seconds.\n",
      "#### Starting deep galerkin method with seed 1 - 2 out of 10 times\n",
      "Time taken: 131 seconds; L1 error: 3.30E-03; L2 error: 2.38E-05; rel error: 2.30E-02.\n",
      "#### Starting deep BSDE method with seed 1 - 2 out of 10 times\n",
      "Time taken: 90 seconds; L1 error: 4.45E-03; L2 error: 2.83E-05; rel error: 1.41E-02.\n",
      "\n",
      "\n",
      "#### Starting deep branching method with seed 2 - 3 out of 10 times\n",
      "Time taken: 56 seconds; L1 error: 3.61E-03; L2 error: 2.05E-05; rel error: 8.13E-03.\n",
      "fdb runtime: 0 seconds; total runtime: 56 seconds.\n",
      "#### Starting deep galerkin method with seed 2 - 3 out of 10 times\n",
      "Time taken: 132 seconds; L1 error: 4.34E-03; L2 error: 2.67E-05; rel error: 9.36E-03.\n",
      "#### Starting deep BSDE method with seed 2 - 3 out of 10 times\n",
      "Time taken: 90 seconds; L1 error: 4.66E-03; L2 error: 2.91E-05; rel error: 1.52E-02.\n",
      "\n",
      "\n",
      "#### Starting deep branching method with seed 3 - 4 out of 10 times\n",
      "Time taken: 55 seconds; L1 error: 3.44E-03; L2 error: 2.19E-05; rel error: 6.79E-03.\n",
      "fdb runtime: 0 seconds; total runtime: 55 seconds.\n",
      "#### Starting deep galerkin method with seed 3 - 4 out of 10 times\n",
      "Time taken: 134 seconds; L1 error: 3.65E-03; L2 error: 1.73E-05; rel error: 1.63E-02.\n",
      "#### Starting deep BSDE method with seed 3 - 4 out of 10 times\n",
      "Time taken: 90 seconds; L1 error: 4.48E-03; L2 error: 2.72E-05; rel error: 1.76E-02.\n",
      "\n",
      "\n",
      "#### Starting deep branching method with seed 4 - 5 out of 10 times\n",
      "Time taken: 56 seconds; L1 error: 3.49E-03; L2 error: 1.93E-05; rel error: 6.17E-03.\n",
      "fdb runtime: 0 seconds; total runtime: 56 seconds.\n",
      "#### Starting deep galerkin method with seed 4 - 5 out of 10 times\n",
      "Time taken: 133 seconds; L1 error: 3.58E-03; L2 error: 1.98E-05; rel error: 9.94E-03.\n",
      "#### Starting deep BSDE method with seed 4 - 5 out of 10 times\n",
      "Time taken: 92 seconds; L1 error: 4.62E-03; L2 error: 3.19E-05; rel error: 1.32E-02.\n",
      "\n",
      "\n",
      "#### Starting deep branching method with seed 5 - 6 out of 10 times\n",
      "Time taken: 56 seconds; L1 error: 3.36E-03; L2 error: 1.81E-05; rel error: 6.98E-03.\n",
      "fdb runtime: 0 seconds; total runtime: 56 seconds.\n",
      "#### Starting deep galerkin method with seed 5 - 6 out of 10 times\n",
      "Time taken: 131 seconds; L1 error: 3.53E-03; L2 error: 2.27E-05; rel error: 8.84E-03.\n",
      "#### Starting deep BSDE method with seed 5 - 6 out of 10 times\n",
      "Time taken: 93 seconds; L1 error: 4.19E-03; L2 error: 2.80E-05; rel error: 1.57E-02.\n",
      "\n",
      "\n",
      "#### Starting deep branching method with seed 6 - 7 out of 10 times\n",
      "Time taken: 56 seconds; L1 error: 3.24E-03; L2 error: 1.87E-05; rel error: 6.41E-03.\n",
      "fdb runtime: 0 seconds; total runtime: 56 seconds.\n",
      "#### Starting deep galerkin method with seed 6 - 7 out of 10 times\n",
      "Time taken: 129 seconds; L1 error: 4.85E-03; L2 error: 3.64E-05; rel error: 1.83E-02.\n",
      "#### Starting deep BSDE method with seed 6 - 7 out of 10 times\n",
      "Time taken: 88 seconds; L1 error: 6.06E-03; L2 error: 4.86E-05; rel error: 2.16E-02.\n",
      "\n",
      "\n",
      "#### Starting deep branching method with seed 7 - 8 out of 10 times\n",
      "Time taken: 55 seconds; L1 error: 3.26E-03; L2 error: 1.65E-05; rel error: 5.44E-03.\n",
      "fdb runtime: 0 seconds; total runtime: 55 seconds.\n",
      "#### Starting deep galerkin method with seed 7 - 8 out of 10 times\n",
      "Time taken: 127 seconds; L1 error: 1.12E-02; L2 error: 2.04E-04; rel error: 4.91E-02.\n",
      "#### Starting deep BSDE method with seed 7 - 8 out of 10 times\n",
      "Time taken: 88 seconds; L1 error: 3.97E-03; L2 error: 2.25E-05; rel error: 1.28E-02.\n",
      "\n",
      "\n",
      "#### Starting deep branching method with seed 8 - 9 out of 10 times\n",
      "Time taken: 57 seconds; L1 error: 3.46E-03; L2 error: 1.92E-05; rel error: 6.65E-03.\n",
      "fdb runtime: 0 seconds; total runtime: 57 seconds.\n",
      "#### Starting deep galerkin method with seed 8 - 9 out of 10 times\n",
      "Time taken: 127 seconds; L1 error: 1.78E-03; L2 error: 5.40E-06; rel error: 4.80E-03.\n",
      "#### Starting deep BSDE method with seed 8 - 9 out of 10 times\n",
      "Time taken: 86 seconds; L1 error: 4.82E-03; L2 error: 3.65E-05; rel error: 1.53E-02.\n",
      "\n",
      "\n",
      "#### Starting deep branching method with seed 9 - 10 out of 10 times\n",
      "Time taken: 54 seconds; L1 error: 3.69E-03; L2 error: 2.09E-05; rel error: 6.75E-03.\n",
      "fdb runtime: 0 seconds; total runtime: 54 seconds.\n",
      "#### Starting deep galerkin method with seed 9 - 10 out of 10 times\n",
      "Time taken: 127 seconds; L1 error: 2.41E-02; L2 error: 9.53E-04; rel error: 5.90E-02.\n",
      "#### Starting deep BSDE method with seed 9 - 10 out of 10 times\n",
      "Time taken: 88 seconds; L1 error: 3.93E-03; L2 error: 2.41E-05; rel error: 1.35E-02.\n",
      "\n",
      "\n",
      "\n",
      "\n",
      "######## Summary for deep branching method\n",
      "runtime:        56\n",
      "fdb runtime:    0\n",
      "total runtime:  56\n",
      "mean L1 error:  3.42E-03\n",
      "std L1 error:   1.52E-04\n",
      "mean L2 error:  1.91E-05\n",
      "std L2 error:   1.61E-06\n",
      "mean rel error: 6.72E-03\n",
      "std rel error:  6.81E-04\n",
      "\n",
      "\n",
      "######## Summary for deep galerkin method\n",
      "runtime:        131\n",
      "mean L1 error:  6.63E-03\n",
      "std L1 error:   6.30E-03\n",
      "mean L2 error:  1.35E-04\n",
      "std L2 error:   2.78E-04\n",
      "mean rel error: 2.23E-02\n",
      "std rel error:  1.71E-02\n",
      "\n",
      "\n",
      "######## Summary for deep BSDE method\n",
      "runtime:        89\n",
      "mean L1 error:  4.49E-03\n",
      "std L1 error:   6.19E-04\n",
      "mean L2 error:  2.97E-05\n",
      "std L2 error:   7.63E-06\n",
      "mean rel error: 1.50E-02\n",
      "std rel error:  2.80E-03\n"
     ]
    },
    {
     "data": {
      "image/png": "[encoded data removed]",
      "text/plain": [
       "<Figure size 432x288 with 1 Axes>"
      ]
     },
     "metadata": {
      "needs_background": "light"
     },
     "output_type": "display_data"
    }
   ],
   "source": [
    "# Performance comparison\n",
    "compare_performance(grid, grid_d_dim, grid_d_dim_with_t, t_lo, true, terminal=terminal, # seeds=[0],\n",
    "                    # verbose=True, debug_mode=True, disable_branch=True, disable_galerkin=True, disable_bsde=True,\n",
    "                    T=T, device=device, epochs=3000, fname=\"allen_cahn\",\n",
    "                    branch_nb_states=1000, branch_nb_path_per_state=100000,\n",
    "                    branch_patches=1, branch_exponential_lambda=-math.log(.95)/T,\n",
    "                    branch_nb_states_per_batch=100,\n",
    "                    bsde_nb_states=100000, bsde_nb_time_intervals=4,\n",
    "                    dgm_nb_states=10000, f_fun=f_example, dgm_f_fun=dgm_f_example,\n",
    "                    deriv_map=deriv_map, dgm_deriv_map=dgm_deriv_map, phi_fun=phi_example)"
   ]
  },
  {
   "cell_type": "markdown",
   "metadata": {
    "id": "ZMOYeIM_Cgll",
    "pycharm": {
     "name": "#%% md\n"
    }
   },
   "source": [
    "## Exponential nonlinearity"
   ]
  },
  {
   "cell_type": "code",
   "execution_count": 7,
   "metadata": {
    "id": "JfG8Dbw4Cglq",
    "pycharm": {
     "name": "#%%\n"
    }
   },
   "outputs": [],
   "source": [
    "fixed_dim, dim = 0, 5\n",
    "alpha = 10\n",
    "\n",
    "# function definition\n",
    "deriv_map = np.concatenate((np.array([[0] * dim]), np.identity(dim)), axis=0).astype(int)\n",
    "def f_example(y):\n",
    "    \"\"\"\n",
    "    idx 0      -> no deriv\n",
    "    idx 1 to d -> first deriv\n",
    "    \"\"\"\n",
    "    return alpha/dim*y[1:].sum(dim=0) - 2*dim*torch.exp(-2*y[0]) + dim*torch.exp(-y[0])\n",
    "\n",
    "dgm_deriv_map = np.concatenate((deriv_map, 2 * np.identity(dim)), axis=0)\n",
    "def dgm_f_example(y):\n",
    "    \"\"\"\n",
    "    idx 0         -> no deriv\n",
    "    idx 1 to d    -> first deriv\n",
    "    idx 1+d to 2d -> second deriv\n",
    "    \"\"\"\n",
    "    return .5 * y[(dim+1):].sum(dim=0) + alpha/dim*y[1:(dim+1)].sum(dim=0) - 2*dim*torch.exp(-2*y[0]) + dim*torch.exp(-y[0])\n",
    "\n",
    "def phi_example(x):\n",
    "    return torch.log(1 + x.sum(dim=0) ** 2)\n",
    "\n",
    "def exact_example(t, x, T):\n",
    "    return np.log(1 + (x.sum(axis=0) + alpha * (T - t)) ** 2)\n",
    "\n",
    "t_lo, x_lo, x_hi, n = 0., -4., 4., 1\n",
    "grid = np.linspace(x_lo, x_hi, 100)\n",
    "x_mid = (x_lo + x_hi) / 2\n",
    "grid_d_dim = np.concatenate((x_mid * np.ones((fixed_dim, 100)), np.expand_dims(grid, axis=0), x_mid * np.ones((dim - fixed_dim - 1, 100))), axis=0)\n",
    "grid_d_dim_with_t = np.concatenate((t_lo * np.ones((1, 100)), grid_d_dim), axis=0)\n",
    "\n",
    "T = .05\n",
    "true = exact_example(t_lo, grid_d_dim, T)\n",
    "terminal = exact_example(T, grid_d_dim, T)"
   ]
  },
  {
   "cell_type": "code",
   "execution_count": 8,
   "metadata": {
    "colab": {
     "base_uri": "https://localhost:8080/",
     "height": 1000
    },
    "executionInfo": {
     "elapsed": 5121011,
     "status": "ok",
     "timestamp": 1647953270260,
     "user": {
      "displayName": "nguwi jy",
      "photoUrl": "https://lh3.googleusercontent.com/a-/AOh14GgoiFFc59OKXMvhrMZCwWWzqPAzDXA1ooQ_zi8p=s64",
      "userId": "17294038731682000497"
     },
     "user_tz": -480
    },
    "id": "ZUZXIP9jgqVG",
    "outputId": "3baa1784-ab0c-49e5-9db3-284e29fcabc3",
    "pycharm": {
     "name": "#%%\n"
    }
   },
   "outputs": [
    {
     "name": "stdout",
     "output_type": "stream",
     "text": [
      "#### Starting deep branching method with seed 0 - 1 out of 10 times\n",
      "Time taken: 49 seconds; L1 error: 3.15E-02; L2 error: 7.48E-03; rel error: 1.48E+00.\n",
      "fdb runtime: 0 seconds; total runtime: 49 seconds.\n",
      "#### Starting deep galerkin method with seed 0 - 1 out of 10 times\n",
      "Time taken: 180 seconds; L1 error: 2.36E+00; L2 error: 6.97E+00; rel error: 9.18E+01.\n",
      "#### Starting deep BSDE method with seed 0 - 1 out of 10 times\n",
      "Time taken: 91 seconds; L1 error: 1.89E-02; L2 error: 1.55E-03; rel error: 3.33E+00.\n",
      "\n",
      "\n",
      "#### Starting deep branching method with seed 1 - 2 out of 10 times\n",
      "Time taken: 48 seconds; L1 error: 2.21E-02; L2 error: 2.11E-03; rel error: 8.30E-01.\n",
      "fdb runtime: 0 seconds; total runtime: 49 seconds.\n",
      "#### Starting deep galerkin method with seed 1 - 2 out of 10 times\n",
      "Time taken: 176 seconds; L1 error: 1.88E+00; L2 error: 4.98E+00; rel error: 8.29E+01.\n",
      "#### Starting deep BSDE method with seed 1 - 2 out of 10 times\n",
      "Time taken: 91 seconds; L1 error: 1.92E-02; L2 error: 1.37E-03; rel error: 2.87E+00.\n",
      "\n",
      "\n",
      "#### Starting deep branching method with seed 2 - 3 out of 10 times\n",
      "Time taken: 51 seconds; L1 error: 2.86E-02; L2 error: 1.70E-03; rel error: 5.82E-01.\n",
      "fdb runtime: 0 seconds; total runtime: 52 seconds.\n",
      "#### Starting deep galerkin method with seed 2 - 3 out of 10 times\n",
      "Time taken: 177 seconds; L1 error: 2.16E+00; L2 error: 6.70E+00; rel error: 9.66E+01.\n",
      "#### Starting deep BSDE method with seed 2 - 3 out of 10 times\n",
      "Time taken: 91 seconds; L1 error: 1.91E-02; L2 error: 1.38E-03; rel error: 2.78E+00.\n",
      "\n",
      "\n",
      "#### Starting deep branching method with seed 3 - 4 out of 10 times\n",
      "Time taken: 49 seconds; L1 error: 2.68E-02; L2 error: 1.88E-03; rel error: 8.05E-01.\n",
      "fdb runtime: 0 seconds; total runtime: 49 seconds.\n",
      "#### Starting deep galerkin method with seed 3 - 4 out of 10 times\n",
      "Time taken: 177 seconds; L1 error: 1.42E-01; L2 error: 3.60E-02; rel error: 1.03E+01.\n",
      "#### Starting deep BSDE method with seed 3 - 4 out of 10 times\n",
      "Time taken: 91 seconds; L1 error: 2.00E-02; L2 error: 1.39E-03; rel error: 2.77E+00.\n",
      "\n",
      "\n",
      "#### Starting deep branching method with seed 4 - 5 out of 10 times\n",
      "Time taken: 48 seconds; L1 error: 2.79E-02; L2 error: 3.22E-03; rel error: 3.01E+00.\n",
      "fdb runtime: 0 seconds; total runtime: 49 seconds.\n",
      "#### Starting deep galerkin method with seed 4 - 5 out of 10 times\n",
      "Time taken: 176 seconds; L1 error: 4.30E-01; L2 error: 3.28E-01; rel error: 2.71E+01.\n",
      "#### Starting deep BSDE method with seed 4 - 5 out of 10 times\n",
      "Time taken: 92 seconds; L1 error: 1.85E-02; L2 error: 1.16E-03; rel error: 2.42E+00.\n",
      "\n",
      "\n",
      "#### Starting deep branching method with seed 5 - 6 out of 10 times\n",
      "Time taken: 48 seconds; L1 error: 1.92E-02; L2 error: 1.41E-03; rel error: 1.93E+00.\n",
      "fdb runtime: 0 seconds; total runtime: 48 seconds.\n",
      "#### Starting deep galerkin method with seed 5 - 6 out of 10 times\n",
      "Time taken: 186 seconds; L1 error: 1.52E+00; L2 error: 3.63E+00; rel error: 7.47E+01.\n",
      "#### Starting deep BSDE method with seed 5 - 6 out of 10 times\n",
      "Time taken: 92 seconds; L1 error: 1.71E-02; L2 error: 9.39E-04; rel error: 1.94E+00.\n",
      "\n",
      "\n",
      "#### Starting deep branching method with seed 6 - 7 out of 10 times\n",
      "Time taken: 46 seconds; L1 error: 2.29E-02; L2 error: 1.87E-03; rel error: 1.26E+00.\n",
      "fdb runtime: 0 seconds; total runtime: 47 seconds.\n",
      "#### Starting deep galerkin method with seed 6 - 7 out of 10 times\n",
      "Time taken: 188 seconds; L1 error: 1.85E+00; L2 error: 4.62E+00; rel error: 7.88E+01.\n",
      "#### Starting deep BSDE method with seed 6 - 7 out of 10 times\n",
      "Time taken: 88 seconds; L1 error: 1.94E-02; L2 error: 1.26E-03; rel error: 2.45E+00.\n",
      "\n",
      "\n",
      "#### Starting deep branching method with seed 7 - 8 out of 10 times\n",
      "Time taken: 46 seconds; L1 error: 2.90E-02; L2 error: 3.19E-03; rel error: 2.09E+00.\n",
      "fdb runtime: 0 seconds; total runtime: 46 seconds.\n",
      "#### Starting deep galerkin method with seed 7 - 8 out of 10 times\n",
      "Time taken: 185 seconds; L1 error: 1.68E+00; L2 error: 4.06E+00; rel error: 7.61E+01.\n",
      "#### Starting deep BSDE method with seed 7 - 8 out of 10 times\n",
      "Time taken: 91 seconds; L1 error: 1.90E-02; L2 error: 1.43E-03; rel error: 3.00E+00.\n",
      "\n",
      "\n",
      "#### Starting deep branching method with seed 8 - 9 out of 10 times\n",
      "Time taken: 48 seconds; L1 error: 1.74E-02; L2 error: 1.56E-03; rel error: 1.69E-01.\n",
      "fdb runtime: 0 seconds; total runtime: 48 seconds.\n",
      "#### Starting deep galerkin method with seed 8 - 9 out of 10 times\n",
      "Time taken: 180 seconds; L1 error: 2.36E-01; L2 error: 1.18E-01; rel error: 1.79E+01.\n",
      "#### Starting deep BSDE method with seed 8 - 9 out of 10 times\n",
      "Time taken: 91 seconds; L1 error: 1.94E-02; L2 error: 1.51E-03; rel error: 3.11E+00.\n",
      "\n",
      "\n",
      "#### Starting deep branching method with seed 9 - 10 out of 10 times\n",
      "Time taken: 49 seconds; L1 error: 2.18E-02; L2 error: 1.29E-03; rel error: 4.81E-01.\n",
      "fdb runtime: 0 seconds; total runtime: 49 seconds.\n",
      "#### Starting deep galerkin method with seed 9 - 10 out of 10 times\n",
      "Time taken: 176 seconds; L1 error: 9.22E-01; L2 error: 1.10E+00; rel error: 3.18E+01.\n",
      "#### Starting deep BSDE method with seed 9 - 10 out of 10 times\n",
      "Time taken: 92 seconds; L1 error: 1.89E-02; L2 error: 1.42E-03; rel error: 2.86E+00.\n",
      "\n",
      "\n",
      "\n",
      "\n",
      "######## Summary for deep branching method\n",
      "runtime:        48\n",
      "fdb runtime:    0\n",
      "total runtime:  48\n",
      "mean L1 error:  2.47E-02\n",
      "std L1 error:   4.45E-03\n",
      "mean L2 error:  2.57E-03\n",
      "std L2 error:   1.76E-03\n",
      "mean rel error: 1.26E+00\n",
      "std rel error:  8.31E-01\n",
      "\n",
      "\n",
      "######## Summary for deep galerkin method\n",
      "runtime:        180\n",
      "mean L1 error:  1.32E+00\n",
      "std L1 error:   7.78E-01\n",
      "mean L2 error:  3.25E+00\n",
      "std L2 error:   2.54E+00\n",
      "mean rel error: 5.88E+01\n",
      "std rel error:  3.13E+01\n",
      "\n",
      "\n",
      "######## Summary for deep BSDE method\n",
      "runtime:        91\n",
      "mean L1 error:  1.90E-02\n",
      "std L1 error:   7.24E-04\n",
      "mean L2 error:  1.34E-03\n",
      "std L2 error:   1.71E-04\n",
      "mean rel error: 2.75E+00\n",
      "std rel error:  3.74E-01\n"
     ]
    },
    {
     "data": {
      "image/png": "[encoded data removed]",
      "text/plain": [
       "<Figure size 432x288 with 1 Axes>"
      ]
     },
     "metadata": {
      "needs_background": "light"
     },
     "output_type": "display_data"
    }
   ],
   "source": [
    "# corrected bn_layer for deep_bsde method\n",
    "#\n",
    "# Performance comparison\n",
    "compare_performance(grid, grid_d_dim, grid_d_dim_with_t, t_lo, true, terminal=terminal, # seeds=[0],\n",
    "                    # verbose=True, debug_mode=True, disable_galerkin=True, disable_bsde=True, disable_branch=True,\n",
    "                    T=T, device=device, epochs=3000, fname=\"exponential\",\n",
    "                    branch_nb_states=1000, branch_nb_path_per_state=3000,\n",
    "                    branch_patches=1, branch_exponential_lambda=-math.log(.95)/T,\n",
    "                    branch_nb_states_per_batch=100,\n",
    "                    bsde_nb_states=100000, bsde_nb_time_intervals=4,\n",
    "                    dgm_nb_states=10000, f_fun=f_example, dgm_f_fun=dgm_f_example,\n",
    "                    deriv_map=deriv_map, dgm_deriv_map=dgm_deriv_map, phi_fun=phi_example)"
   ]
  },
  {
   "cell_type": "markdown",
   "metadata": {
    "id": "fQXKDk7IexOm",
    "pycharm": {
     "name": "#%% md\n"
    }
   },
   "source": [
    "## Cosine nonlinearity"
   ]
  },
  {
   "cell_type": "code",
   "execution_count": 9,
   "metadata": {
    "id": "lfqpTUyoexOn",
    "pycharm": {
     "name": "#%%\n"
    }
   },
   "outputs": [],
   "source": [
    "fixed_dim, dim = 0, 5\n",
    "alpha = 10\n",
    "\n",
    "# function definition\n",
    "deriv_map = np.concatenate((np.array([[0] * dim]), 1 * np.identity(dim), 2 * np.identity(dim), 4 * np.identity(dim)), axis=0).astype(int)\n",
    "def f_example(y):\n",
    "    \"\"\"\n",
    "    idx 0          -> no deriv\n",
    "    idx 1 to d     -> first deriv\n",
    "    idx 1+d to 2d  -> second deriv\n",
    "    idx 1+2d to 3d -> forth deriv\n",
    "    \"\"\"\n",
    "    return -.5 * y[(dim+1):(2*dim+1)].sum(dim=0) + alpha * y[1:(dim+1)].sum(dim=0) / dim + y[0] - (y[(dim+1):(2*dim+1)].sum(dim=0) / 12 / dim) ** 2 + torch.cos(math.pi * y[(2*dim+1):] / 24).sum(dim=0) / dim\n",
    "    \n",
    "\n",
    "dgm_deriv_map = deriv_map\n",
    "def dgm_f_example(y):\n",
    "    \"\"\"\n",
    "    idx 0          -> no deriv\n",
    "    idx 1 to d     -> first deriv\n",
    "    idx 1+d to 2d  -> second deriv\n",
    "    idx 1+2d to 3d -> forth deriv\n",
    "    \"\"\"\n",
    "    return alpha * y[1:(dim+1)].sum(dim=0) / dim + y[0] - (y[(dim+1):(2*dim+1)].sum(dim=0) / 12 / dim) ** 2 + torch.cos(math.pi * y[(2*dim+1):] / 24).sum(dim=0) / dim\n",
    "\n",
    "def phi_example(x):\n",
    "    xx = x.sum(dim=0)\n",
    "    return xx**4 + xx**3 - 36/47 * xx**2 - 24*36/47 * xx + 4 * (36/47)**2\n",
    "\n",
    "def exact_example(t, x, T):\n",
    "    xx = x.sum(axis=0) + alpha * (T - t)\n",
    "    return xx**4 + xx**3 - 36/47 * xx**2 - 24*36/47 * xx + 4 * (36/47)**2\n",
    "\n",
    "t_lo, x_lo, x_hi, n = 0., -5., 5., 4\n",
    "grid = np.linspace(x_lo, x_hi, 100)\n",
    "x_mid = (x_lo + x_hi) / 2\n",
    "grid_d_dim = np.concatenate((x_mid * np.ones((fixed_dim, 100)), np.expand_dims(grid, axis=0), x_mid * np.ones((dim - fixed_dim - 1, 100))), axis=0)\n",
    "grid_d_dim_with_t = np.concatenate((t_lo * np.ones((1, 100)), grid_d_dim), axis=0)\n",
    "\n",
    "T = .04\n",
    "true = exact_example(t_lo, grid_d_dim, T)\n",
    "terminal = exact_example(T, grid_d_dim, T)"
   ]
  },
  {
   "cell_type": "code",
   "execution_count": 10,
   "metadata": {
    "colab": {
     "base_uri": "https://localhost:8080/",
     "height": 1000
    },
    "executionInfo": {
     "elapsed": 10691351,
     "status": "ok",
     "timestamp": 1646369132989,
     "user": {
      "displayName": "nguwi jy",
      "photoUrl": "https://lh3.googleusercontent.com/a-/AOh14GgoiFFc59OKXMvhrMZCwWWzqPAzDXA1ooQ_zi8p=s64",
      "userId": "17294038731682000497"
     },
     "user_tz": -480
    },
    "id": "KqHJ8q6jj-LO",
    "outputId": "aff5304a-1c17-41d3-d6eb-140d0e368bbb",
    "pycharm": {
     "name": "#%%\n"
    }
   },
   "outputs": [
    {
     "name": "stdout",
     "output_type": "stream",
     "text": [
      "#### Starting deep branching method with seed 0 - 1 out of 10 times\n",
      "Time taken: 534 seconds; L1 error: 1.20E+01; L2 error: 4.75E+02; rel error: 3.04E-01.\n",
      "fdb runtime: 152 seconds; total runtime: 686 seconds.\n",
      "#### Starting deep galerkin method with seed 0 - 1 out of 10 times\n",
      "Time taken: 717 seconds; L1 error: 2.59E+02; L2 error: 7.88E+04; rel error: 3.10E+01.\n",
      "\n",
      "\n",
      "#### Starting deep branching method with seed 1 - 2 out of 10 times\n",
      "Time taken: 276 seconds; L1 error: 9.20E+00; L2 error: 2.56E+02; rel error: 2.19E-01.\n",
      "fdb runtime: 21 seconds; total runtime: 297 seconds.\n",
      "#### Starting deep galerkin method with seed 1 - 2 out of 10 times\n",
      "Time taken: 709 seconds; L1 error: 2.57E+02; L2 error: 7.77E+04; rel error: 3.08E+01.\n",
      "\n",
      "\n",
      "#### Starting deep branching method with seed 2 - 3 out of 10 times\n",
      "Time taken: 335 seconds; L1 error: 1.29E+01; L2 error: 5.67E+02; rel error: 4.03E-01.\n",
      "fdb runtime: 85 seconds; total runtime: 420 seconds.\n",
      "#### Starting deep galerkin method with seed 2 - 3 out of 10 times\n",
      "Time taken: 683 seconds; L1 error: 2.56E+02; L2 error: 7.70E+04; rel error: 3.05E+01.\n",
      "\n",
      "\n",
      "#### Starting deep branching method with seed 3 - 4 out of 10 times\n",
      "Time taken: 1086 seconds; L1 error: 8.93E+00; L2 error: 3.20E+02; rel error: 3.04E-01.\n",
      "fdb runtime: 362 seconds; total runtime: 1447 seconds.\n",
      "#### Starting deep galerkin method with seed 3 - 4 out of 10 times\n",
      "Time taken: 685 seconds; L1 error: 2.57E+02; L2 error: 7.77E+04; rel error: 3.07E+01.\n",
      "\n",
      "\n",
      "#### Starting deep branching method with seed 4 - 5 out of 10 times\n",
      "Time taken: 356 seconds; L1 error: 9.28E+00; L2 error: 2.06E+02; rel error: 2.96E-01.\n",
      "fdb runtime: 84 seconds; total runtime: 440 seconds.\n",
      "#### Starting deep galerkin method with seed 4 - 5 out of 10 times\n",
      "Time taken: 681 seconds; L1 error: 2.57E+02; L2 error: 7.76E+04; rel error: 3.07E+01.\n",
      "\n",
      "\n",
      "#### Starting deep branching method with seed 5 - 6 out of 10 times\n",
      "Time taken: 280 seconds; L1 error: 6.69E+00; L2 error: 1.15E+02; rel error: 2.03E-01.\n",
      "fdb runtime: 40 seconds; total runtime: 320 seconds.\n",
      "#### Starting deep galerkin method with seed 5 - 6 out of 10 times\n",
      "Time taken: 682 seconds; L1 error: 2.57E+02; L2 error: 7.80E+04; rel error: 3.08E+01.\n",
      "\n",
      "\n",
      "#### Starting deep branching method with seed 6 - 7 out of 10 times\n",
      "Time taken: 279 seconds; L1 error: 1.04E+01; L2 error: 4.15E+02; rel error: 2.11E-01.\n",
      "fdb runtime: 37 seconds; total runtime: 316 seconds.\n",
      "#### Starting deep galerkin method with seed 6 - 7 out of 10 times\n",
      "Time taken: 684 seconds; L1 error: 2.57E+02; L2 error: 7.77E+04; rel error: 3.07E+01.\n",
      "\n",
      "\n",
      "#### Starting deep branching method with seed 7 - 8 out of 10 times\n",
      "Time taken: 285 seconds; L1 error: 7.52E+00; L2 error: 1.74E+02; rel error: 1.58E-01.\n",
      "fdb runtime: 25 seconds; total runtime: 311 seconds.\n",
      "#### Starting deep galerkin method with seed 7 - 8 out of 10 times\n",
      "Time taken: 682 seconds; L1 error: 2.54E+02; L2 error: 7.62E+04; rel error: 3.03E+01.\n",
      "\n",
      "\n",
      "#### Starting deep branching method with seed 8 - 9 out of 10 times\n",
      "Time taken: 307 seconds; L1 error: 1.05E+01; L2 error: 2.77E+02; rel error: 2.52E-01.\n",
      "fdb runtime: 39 seconds; total runtime: 346 seconds.\n",
      "#### Starting deep galerkin method with seed 8 - 9 out of 10 times\n",
      "Time taken: 679 seconds; L1 error: 2.56E+02; L2 error: 7.72E+04; rel error: 3.06E+01.\n",
      "\n",
      "\n",
      "#### Starting deep branching method with seed 9 - 10 out of 10 times\n",
      "Time taken: 615 seconds; L1 error: 1.11E+01; L2 error: 3.39E+02; rel error: 3.24E-01.\n",
      "fdb runtime: 219 seconds; total runtime: 834 seconds.\n",
      "#### Starting deep galerkin method with seed 9 - 10 out of 10 times\n",
      "Time taken: 681 seconds; L1 error: 2.56E+02; L2 error: 7.72E+04; rel error: 3.06E+01.\n",
      "\n",
      "\n",
      "\n",
      "\n",
      "######## Summary for deep branching method\n",
      "runtime:        435\n",
      "fdb runtime:    106\n",
      "total runtime:  542\n",
      "mean L1 error:  9.86E+00\n",
      "std L1 error:   1.83E+00\n",
      "mean L2 error:  3.14E+02\n",
      "std L2 error:   1.33E+02\n",
      "mean rel error: 2.67E-01\n",
      "std rel error:  6.85E-02\n",
      "\n",
      "\n",
      "######## Summary for deep galerkin method\n",
      "runtime:        688\n",
      "mean L1 error:  2.57E+02\n",
      "std L1 error:   1.17E+00\n",
      "mean L2 error:  7.75E+04\n",
      "std L2 error:   6.53E+02\n",
      "mean rel error: 3.07E+01\n",
      "std rel error:  1.71E-01\n"
     ]
    },
    {
     "data": {
      "image/png": "[encoded data removed]",
      "text/plain": [
       "<Figure size 432x288 with 1 Axes>"
      ]
     },
     "metadata": {
      "needs_background": "light"
     },
     "output_type": "display_data"
    }
   ],
   "source": [
    " # Performance comparison\n",
    " #\n",
    " # choosing one percentile for removal of outlier in the case of branch_nb_path_per_state=50\n",
    " # does not completely remove any outlier\n",
    " # we have to choose three percentile in this case\n",
    "compare_performance(grid, grid_d_dim, grid_d_dim_with_t, t_lo, true, terminal=terminal, disable_bsde=True, # seeds=[0],\n",
    "                    # disable_galerkin=True, verbose=True, debug_mode=True, disable_branch=True,\n",
    "                    T=T, device=device, epochs=3000, fname=\"cosine\",\n",
    "                    branch_nb_states=1000, branch_nb_path_per_state=50,\n",
    "                    branch_patches=1, branch_exponential_lambda=-math.log(.95)/T,\n",
    "                    branch_nb_states_per_batch=200, outlier_percentile=3,\n",
    "                    dgm_nb_states=10000, f_fun=f_example, dgm_f_fun=dgm_f_example,\n",
    "                    deriv_map=deriv_map, dgm_deriv_map=dgm_deriv_map, phi_fun=phi_example)"
   ]
  },
  {
   "cell_type": "markdown",
   "metadata": {
    "id": "u_dYHEeePLeD",
    "pycharm": {
     "name": "#%% md\n"
    }
   },
   "source": [
    "## Log nonlinearity"
   ]
  },
  {
   "cell_type": "code",
   "execution_count": 11,
   "metadata": {
    "id": "_3ckuw41PLeF",
    "pycharm": {
     "name": "#%%\n"
    }
   },
   "outputs": [],
   "source": [
    "fixed_dim, dim = 0, 5\n",
    "alpha = 10\n",
    "\n",
    "# function definition\n",
    "deriv_map = np.concatenate((1 * np.identity(dim), 2 * np.identity(dim), 3 * np.identity(dim)), axis=0).astype(int)\n",
    "def f_example(y):\n",
    "    \"\"\"\n",
    "    idx 0 to d-1   -> first deriv\n",
    "    idx d to 2d-1  -> second deriv\n",
    "    idx 2d to 3d-1 -> third deriv\n",
    "    \"\"\"\n",
    "    return -.5 * y[dim:(2*dim)].sum(dim=0) + alpha * y[:dim].sum(dim=0) / dim + torch.log(((y[dim:(2*dim)]**2).sum(dim=0) + (y[(2*dim):]**2).sum(dim=0)) / dim)\n",
    "    \n",
    "\n",
    "dgm_deriv_map = deriv_map\n",
    "def dgm_f_example(y):\n",
    "    \"\"\"\n",
    "    idx 0 to d-1   -> first deriv\n",
    "    idx d to 2d-1  -> second deriv\n",
    "    idx 2d to 3d-1 -> third deriv\n",
    "    \"\"\"\n",
    "    return alpha * y[:dim].sum(dim=0) / dim + torch.log(((y[dim:(2*dim)]**2).sum(dim=0) + (y[(2*dim):]**2).sum(dim=0)) / dim)\n",
    "\n",
    "def phi_example(x):\n",
    "    return torch.cos(x.sum(dim=0))\n",
    "\n",
    "def exact_example(t, x, T):\n",
    "    return np.cos(x.sum(axis=0) + alpha * (T-t))\n",
    "\n",
    "t_lo, x_lo, x_hi, n = 0., -3., 3., 3\n",
    "grid = np.linspace(x_lo, x_hi, 100)\n",
    "x_mid = (x_lo + x_hi) / 2\n",
    "grid_d_dim = np.concatenate((x_mid * np.ones((fixed_dim, 100)), np.expand_dims(grid, axis=0), x_mid * np.ones((dim - fixed_dim - 1, 100))), axis=0)\n",
    "grid_d_dim_with_t = np.concatenate((t_lo * np.ones((1, 100)), grid_d_dim), axis=0)\n",
    "\n",
    "T = .02\n",
    "true = exact_example(t_lo, grid_d_dim, T)\n",
    "terminal = exact_example(T, grid_d_dim, T)"
   ]
  },
  {
   "cell_type": "code",
   "execution_count": 12,
   "metadata": {
    "colab": {
     "base_uri": "https://localhost:8080/",
     "height": 1000
    },
    "executionInfo": {
     "elapsed": 6122973,
     "status": "ok",
     "timestamp": 1646244111992,
     "user": {
      "displayName": "nguwi jy",
      "photoUrl": "https://lh3.googleusercontent.com/a-/AOh14GgoiFFc59OKXMvhrMZCwWWzqPAzDXA1ooQ_zi8p=s64",
      "userId": "17294038731682000497"
     },
     "user_tz": -480
    },
    "id": "EI9wGyFV3efm",
    "outputId": "d0d61576-9ed8-40dd-b3d2-a965dfc4231c",
    "pycharm": {
     "name": "#%%\n"
    }
   },
   "outputs": [
    {
     "name": "stdout",
     "output_type": "stream",
     "text": [
      "#### Starting deep branching method with seed 0 - 1 out of 10 times\n",
      "Time taken: 125 seconds; L1 error: 1.70E-01; L2 error: 1.43E+00; rel error: 3.96E-01.\n",
      "fdb runtime: 40 seconds; total runtime: 165 seconds.\n",
      "#### Starting deep galerkin method with seed 0 - 1 out of 10 times\n",
      "Time taken: 394 seconds; L1 error: 6.41E-01; L2 error: 5.22E-01; rel error: 1.32E+00.\n",
      "\n",
      "\n",
      "#### Starting deep branching method with seed 1 - 2 out of 10 times\n",
      "Time taken: 106 seconds; L1 error: 3.89E-02; L2 error: 2.72E-03; rel error: 1.66E-01.\n",
      "fdb runtime: 19 seconds; total runtime: 125 seconds.\n",
      "#### Starting deep galerkin method with seed 1 - 2 out of 10 times\n",
      "Time taken: 422 seconds; L1 error: 6.40E-01; L2 error: 5.22E-01; rel error: 1.36E+00.\n",
      "\n",
      "\n",
      "#### Starting deep branching method with seed 2 - 3 out of 10 times\n",
      "Time taken: 280 seconds; L1 error: 3.22E-02; L2 error: 2.41E-03; rel error: 1.95E-01.\n",
      "fdb runtime: 95 seconds; total runtime: 375 seconds.\n",
      "#### Starting deep galerkin method with seed 2 - 3 out of 10 times\n",
      "Time taken: 396 seconds; L1 error: 6.48E-01; L2 error: 5.37E-01; rel error: 1.46E+00.\n",
      "\n",
      "\n",
      "#### Starting deep branching method with seed 3 - 4 out of 10 times\n",
      "Time taken: 125 seconds; L1 error: 2.11E-02; L2 error: 2.78E-03; rel error: 2.39E-01.\n",
      "fdb runtime: 12 seconds; total runtime: 137 seconds.\n",
      "#### Starting deep galerkin method with seed 3 - 4 out of 10 times\n",
      "Time taken: 408 seconds; L1 error: 6.35E-01; L2 error: 5.13E-01; rel error: 1.35E+00.\n",
      "\n",
      "\n",
      "#### Starting deep branching method with seed 4 - 5 out of 10 times\n",
      "Time taken: 115 seconds; L1 error: 2.32E-02; L2 error: 1.34E-03; rel error: 7.53E-02.\n",
      "fdb runtime: 19 seconds; total runtime: 134 seconds.\n",
      "#### Starting deep galerkin method with seed 4 - 5 out of 10 times\n",
      "Time taken: 411 seconds; L1 error: 6.40E-01; L2 error: 5.23E-01; rel error: 1.38E+00.\n",
      "\n",
      "\n",
      "#### Starting deep branching method with seed 5 - 6 out of 10 times\n",
      "Time taken: 155 seconds; L1 error: 4.50E-02; L2 error: 8.42E-03; rel error: 8.66E-02.\n",
      "fdb runtime: 39 seconds; total runtime: 194 seconds.\n",
      "#### Starting deep galerkin method with seed 5 - 6 out of 10 times\n",
      "Time taken: 393 seconds; L1 error: 6.31E-01; L2 error: 5.04E-01; rel error: 1.32E+00.\n",
      "\n",
      "\n",
      "#### Starting deep branching method with seed 6 - 7 out of 10 times\n",
      "Time taken: 147 seconds; L1 error: 1.31E-02; L2 error: 2.35E-04; rel error: 7.08E-02.\n",
      "fdb runtime: 44 seconds; total runtime: 191 seconds.\n",
      "#### Starting deep galerkin method with seed 6 - 7 out of 10 times\n",
      "Time taken: 393 seconds; L1 error: 6.26E-01; L2 error: 4.96E-01; rel error: 1.30E+00.\n",
      "\n",
      "\n",
      "#### Starting deep branching method with seed 7 - 8 out of 10 times\n",
      "Time taken: 91 seconds; L1 error: 3.01E-02; L2 error: 3.60E-03; rel error: 1.03E-01.\n",
      "fdb runtime: 8 seconds; total runtime: 100 seconds.\n",
      "#### Starting deep galerkin method with seed 7 - 8 out of 10 times\n",
      "Time taken: 393 seconds; L1 error: 6.40E-01; L2 error: 5.21E-01; rel error: 1.36E+00.\n",
      "\n",
      "\n",
      "#### Starting deep branching method with seed 8 - 9 out of 10 times\n",
      "Time taken: 154 seconds; L1 error: 2.33E-02; L2 error: 1.36E-03; rel error: 1.68E-01.\n",
      "fdb runtime: 44 seconds; total runtime: 198 seconds.\n",
      "#### Starting deep galerkin method with seed 8 - 9 out of 10 times\n",
      "Time taken: 393 seconds; L1 error: 6.41E-01; L2 error: 5.23E-01; rel error: 1.38E+00.\n",
      "\n",
      "\n",
      "#### Starting deep branching method with seed 9 - 10 out of 10 times\n",
      "Time taken: 262 seconds; L1 error: 2.25E-02; L2 error: 1.06E-03; rel error: 6.03E-02.\n",
      "fdb runtime: 111 seconds; total runtime: 373 seconds.\n",
      "#### Starting deep galerkin method with seed 9 - 10 out of 10 times\n",
      "Time taken: 394 seconds; L1 error: 6.38E-01; L2 error: 5.17E-01; rel error: 1.34E+00.\n",
      "\n",
      "\n",
      "\n",
      "\n",
      "######## Summary for deep branching method\n",
      "runtime:        156\n",
      "fdb runtime:    43\n",
      "total runtime:  199\n",
      "mean L1 error:  4.19E-02\n",
      "std L1 error:   4.36E-02\n",
      "mean L2 error:  1.46E-01\n",
      "std L2 error:   4.29E-01\n",
      "mean rel error: 1.56E-01\n",
      "std rel error:  9.85E-02\n",
      "\n",
      "\n",
      "######## Summary for deep galerkin method\n",
      "runtime:        400\n",
      "mean L1 error:  6.38E-01\n",
      "std L1 error:   5.75E-03\n",
      "mean L2 error:  5.18E-01\n",
      "std L2 error:   1.08E-02\n",
      "mean rel error: 1.36E+00\n",
      "std rel error:  4.36E-02\n"
     ]
    },
    {
     "data": {
      "image/png": "[encoded data removed]",
      "text/plain": [
       "<Figure size 432x288 with 1 Axes>"
      ]
     },
     "metadata": {
      "needs_background": "light"
     },
     "output_type": "display_data"
    }
   ],
   "source": [
    "# Performance comparison\n",
    "compare_performance(grid, grid_d_dim, grid_d_dim_with_t, t_lo, true, terminal=terminal, disable_bsde=True, # seeds=[7],\n",
    "                    # disable_galerkin=True, verbose=True, debug_mode=True, disable_branch=True,\n",
    "                    T=T, device=device, epochs=3000, fname=\"log\",\n",
    "                    branch_nb_states=1000, branch_nb_path_per_state=200,\n",
    "                    branch_patches=1, branch_exponential_lambda=-math.log(.95)/T,\n",
    "                    branch_nb_states_per_batch=200,\n",
    "                    dgm_nb_states=10000, f_fun=f_example, dgm_f_fun=dgm_f_example,\n",
    "                    deriv_map=deriv_map, dgm_deriv_map=dgm_deriv_map, phi_fun=phi_example)"
   ]
  }
 ],
 "metadata": {
  "accelerator": "GPU",
  "colab": {
   "collapsed_sections": [
    "GSuvC0ycqjNq",
    "XC4ej7xCLaN1",
    "Rr6nHqQLYdLJ",
    "lGC3MnEEHLtv",
    "fQXKDk7IexOm",
    "u_dYHEeePLeD"
   ],
   "name": "comparison.ipynb",
   "provenance": [
    {
     "file_id": "/v2/external/notebooks/pro.ipynb",
     "timestamp": 1644891847321
    }
   ]
  },
  "kernelspec": {
   "display_name": "Python 3 (ipykernel)",
   "language": "python",
   "name": "python3"
  },
  "language_info": {
   "codemirror_mode": {
    "name": "ipython",
    "version": 3
   },
   "file_extension": ".py",
   "mimetype": "text/x-python",
   "name": "python",
   "nbconvert_exporter": "python",
   "pygments_lexer": "ipython3",
   "version": "3.8.10"
  }
 },
 "nbformat": 4,
 "nbformat_minor": 1
}
